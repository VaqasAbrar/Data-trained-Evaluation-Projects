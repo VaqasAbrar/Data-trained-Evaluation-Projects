{
 "cells": [
  {
   "cell_type": "markdown",
   "metadata": {},
   "source": [
    "The table below represents weekly 2018 retail scan data for National retail volume (units) and price. Retail scan data comes directly from retailers’ cash registers based on actual retail sales of Hass avocados. \n",
    "\n",
    "Starting in 2013, the table below reflects an expanded, multi-outlet retail data set. Multi-outlet reporting includes an aggregation of the following channels: grocery, mass, club, drug, dollar and military. The Average Price (of avocados) in the table reflects a per unit (per avocado) cost, even when multiple units (avocados) are sold in bags. \n",
    "\n",
    "Some relevant columns in the dataset:\n",
    "\n",
    "Date - The date of the observation\n",
    "AveragePrice - the average price of a single avocado\n",
    "type - conventional or organic\n",
    "year - the year\n",
    "Region - the city or region of the observation\n",
    "Total Volume - Total number of avocados sold\n",
    "4046 - Total number of avocados with PLU 4046 sold\n",
    "4225 - Total number of avocados with PLU 4225 sold\n",
    "4770 - Total number of avocados with PLU 4770 sold\n",
    "\n",
    "\n",
    "Project aims to create a ML model to predict the Average Price from the given dataset. "
   ]
  },
  {
   "cell_type": "code",
   "execution_count": 5,
   "metadata": {},
   "outputs": [],
   "source": [
    "import pandas as pd\n",
    "import numpy as np\n",
    "from sklearn.model_selection import train_test_split\n",
    "import warnings\n",
    "warnings.filterwarnings('ignore')"
   ]
  },
  {
   "cell_type": "code",
   "execution_count": 4,
   "metadata": {},
   "outputs": [
    {
     "data": {
      "text/html": [
       "<div>\n",
       "<style scoped>\n",
       "    .dataframe tbody tr th:only-of-type {\n",
       "        vertical-align: middle;\n",
       "    }\n",
       "\n",
       "    .dataframe tbody tr th {\n",
       "        vertical-align: top;\n",
       "    }\n",
       "\n",
       "    .dataframe thead th {\n",
       "        text-align: right;\n",
       "    }\n",
       "</style>\n",
       "<table border=\"1\" class=\"dataframe\">\n",
       "  <thead>\n",
       "    <tr style=\"text-align: right;\">\n",
       "      <th></th>\n",
       "      <th>Unnamed: 0</th>\n",
       "      <th>Date</th>\n",
       "      <th>AveragePrice</th>\n",
       "      <th>Total Volume</th>\n",
       "      <th>4046</th>\n",
       "      <th>4225</th>\n",
       "      <th>4770</th>\n",
       "      <th>Total Bags</th>\n",
       "      <th>Small Bags</th>\n",
       "      <th>Large Bags</th>\n",
       "      <th>XLarge Bags</th>\n",
       "      <th>type</th>\n",
       "      <th>year</th>\n",
       "      <th>region</th>\n",
       "    </tr>\n",
       "  </thead>\n",
       "  <tbody>\n",
       "    <tr>\n",
       "      <th>0</th>\n",
       "      <td>0</td>\n",
       "      <td>27-12-2015</td>\n",
       "      <td>1.33</td>\n",
       "      <td>64236.62</td>\n",
       "      <td>1036.74</td>\n",
       "      <td>54454.85</td>\n",
       "      <td>48.16</td>\n",
       "      <td>8696.87</td>\n",
       "      <td>8603.62</td>\n",
       "      <td>93.25</td>\n",
       "      <td>0.00</td>\n",
       "      <td>conventional</td>\n",
       "      <td>2015</td>\n",
       "      <td>Albany</td>\n",
       "    </tr>\n",
       "    <tr>\n",
       "      <th>1</th>\n",
       "      <td>1</td>\n",
       "      <td>20-12-2015</td>\n",
       "      <td>1.35</td>\n",
       "      <td>54876.98</td>\n",
       "      <td>674.28</td>\n",
       "      <td>44638.81</td>\n",
       "      <td>58.33</td>\n",
       "      <td>9505.56</td>\n",
       "      <td>9408.07</td>\n",
       "      <td>97.49</td>\n",
       "      <td>0.00</td>\n",
       "      <td>conventional</td>\n",
       "      <td>2015</td>\n",
       "      <td>Albany</td>\n",
       "    </tr>\n",
       "    <tr>\n",
       "      <th>2</th>\n",
       "      <td>2</td>\n",
       "      <td>13-12-2015</td>\n",
       "      <td>0.93</td>\n",
       "      <td>118220.22</td>\n",
       "      <td>794.70</td>\n",
       "      <td>109149.67</td>\n",
       "      <td>130.50</td>\n",
       "      <td>8145.35</td>\n",
       "      <td>8042.21</td>\n",
       "      <td>103.14</td>\n",
       "      <td>0.00</td>\n",
       "      <td>conventional</td>\n",
       "      <td>2015</td>\n",
       "      <td>Albany</td>\n",
       "    </tr>\n",
       "    <tr>\n",
       "      <th>3</th>\n",
       "      <td>3</td>\n",
       "      <td>06-12-2015</td>\n",
       "      <td>1.08</td>\n",
       "      <td>78992.15</td>\n",
       "      <td>1132.00</td>\n",
       "      <td>71976.41</td>\n",
       "      <td>72.58</td>\n",
       "      <td>5811.16</td>\n",
       "      <td>5677.40</td>\n",
       "      <td>133.76</td>\n",
       "      <td>0.00</td>\n",
       "      <td>conventional</td>\n",
       "      <td>2015</td>\n",
       "      <td>Albany</td>\n",
       "    </tr>\n",
       "    <tr>\n",
       "      <th>4</th>\n",
       "      <td>4</td>\n",
       "      <td>29-11-2015</td>\n",
       "      <td>1.28</td>\n",
       "      <td>51039.60</td>\n",
       "      <td>941.48</td>\n",
       "      <td>43838.39</td>\n",
       "      <td>75.78</td>\n",
       "      <td>6183.95</td>\n",
       "      <td>5986.26</td>\n",
       "      <td>197.69</td>\n",
       "      <td>0.00</td>\n",
       "      <td>conventional</td>\n",
       "      <td>2015</td>\n",
       "      <td>Albany</td>\n",
       "    </tr>\n",
       "    <tr>\n",
       "      <th>...</th>\n",
       "      <td>...</td>\n",
       "      <td>...</td>\n",
       "      <td>...</td>\n",
       "      <td>...</td>\n",
       "      <td>...</td>\n",
       "      <td>...</td>\n",
       "      <td>...</td>\n",
       "      <td>...</td>\n",
       "      <td>...</td>\n",
       "      <td>...</td>\n",
       "      <td>...</td>\n",
       "      <td>...</td>\n",
       "      <td>...</td>\n",
       "      <td>...</td>\n",
       "    </tr>\n",
       "    <tr>\n",
       "      <th>1512</th>\n",
       "      <td>10</td>\n",
       "      <td>16-10-2016</td>\n",
       "      <td>1.39</td>\n",
       "      <td>190846.01</td>\n",
       "      <td>57529.11</td>\n",
       "      <td>56366.66</td>\n",
       "      <td>17531.78</td>\n",
       "      <td>59418.46</td>\n",
       "      <td>48823.53</td>\n",
       "      <td>10354.65</td>\n",
       "      <td>240.28</td>\n",
       "      <td>conventional</td>\n",
       "      <td>2016</td>\n",
       "      <td>Charlotte</td>\n",
       "    </tr>\n",
       "    <tr>\n",
       "      <th>1513</th>\n",
       "      <td>11</td>\n",
       "      <td>09-10-2016</td>\n",
       "      <td>1.51</td>\n",
       "      <td>178235.75</td>\n",
       "      <td>43325.87</td>\n",
       "      <td>52189.61</td>\n",
       "      <td>19419.57</td>\n",
       "      <td>63300.70</td>\n",
       "      <td>54704.14</td>\n",
       "      <td>8596.56</td>\n",
       "      <td>0.00</td>\n",
       "      <td>conventional</td>\n",
       "      <td>2016</td>\n",
       "      <td>Charlotte</td>\n",
       "    </tr>\n",
       "    <tr>\n",
       "      <th>1514</th>\n",
       "      <td>12</td>\n",
       "      <td>02-10-2016</td>\n",
       "      <td>1.48</td>\n",
       "      <td>178410.82</td>\n",
       "      <td>46364.75</td>\n",
       "      <td>52893.38</td>\n",
       "      <td>16736.92</td>\n",
       "      <td>62415.77</td>\n",
       "      <td>53332.61</td>\n",
       "      <td>8258.16</td>\n",
       "      <td>825.00</td>\n",
       "      <td>conventional</td>\n",
       "      <td>2016</td>\n",
       "      <td>Charlotte</td>\n",
       "    </tr>\n",
       "    <tr>\n",
       "      <th>1515</th>\n",
       "      <td>13</td>\n",
       "      <td>25-09-2016</td>\n",
       "      <td>1.47</td>\n",
       "      <td>189131.52</td>\n",
       "      <td>54110.79</td>\n",
       "      <td>53593.58</td>\n",
       "      <td>17495.42</td>\n",
       "      <td>63931.73</td>\n",
       "      <td>55653.47</td>\n",
       "      <td>8278.26</td>\n",
       "      <td>0.00</td>\n",
       "      <td>conventional</td>\n",
       "      <td>2016</td>\n",
       "      <td>Charlotte</td>\n",
       "    </tr>\n",
       "    <tr>\n",
       "      <th>1516</th>\n",
       "      <td>14</td>\n",
       "      <td>18-09-2016</td>\n",
       "      <td>1.43</td>\n",
       "      <td>182978.30</td>\n",
       "      <td>43116.41</td>\n",
       "      <td>54193.42</td>\n",
       "      <td>16563.91</td>\n",
       "      <td>69104.56</td>\n",
       "      <td>57456.21</td>\n",
       "      <td>11648.35</td>\n",
       "      <td>0.00</td>\n",
       "      <td>conventional</td>\n",
       "      <td>2016</td>\n",
       "      <td>Charlotte</td>\n",
       "    </tr>\n",
       "  </tbody>\n",
       "</table>\n",
       "<p>1517 rows × 14 columns</p>\n",
       "</div>"
      ],
      "text/plain": [
       "      Unnamed: 0        Date  AveragePrice  Total Volume      4046       4225  \\\n",
       "0              0  27-12-2015          1.33      64236.62   1036.74   54454.85   \n",
       "1              1  20-12-2015          1.35      54876.98    674.28   44638.81   \n",
       "2              2  13-12-2015          0.93     118220.22    794.70  109149.67   \n",
       "3              3  06-12-2015          1.08      78992.15   1132.00   71976.41   \n",
       "4              4  29-11-2015          1.28      51039.60    941.48   43838.39   \n",
       "...          ...         ...           ...           ...       ...        ...   \n",
       "1512          10  16-10-2016          1.39     190846.01  57529.11   56366.66   \n",
       "1513          11  09-10-2016          1.51     178235.75  43325.87   52189.61   \n",
       "1514          12  02-10-2016          1.48     178410.82  46364.75   52893.38   \n",
       "1515          13  25-09-2016          1.47     189131.52  54110.79   53593.58   \n",
       "1516          14  18-09-2016          1.43     182978.30  43116.41   54193.42   \n",
       "\n",
       "          4770  Total Bags  Small Bags  Large Bags  XLarge Bags          type  \\\n",
       "0        48.16     8696.87     8603.62       93.25         0.00  conventional   \n",
       "1        58.33     9505.56     9408.07       97.49         0.00  conventional   \n",
       "2       130.50     8145.35     8042.21      103.14         0.00  conventional   \n",
       "3        72.58     5811.16     5677.40      133.76         0.00  conventional   \n",
       "4        75.78     6183.95     5986.26      197.69         0.00  conventional   \n",
       "...        ...         ...         ...         ...          ...           ...   \n",
       "1512  17531.78    59418.46    48823.53    10354.65       240.28  conventional   \n",
       "1513  19419.57    63300.70    54704.14     8596.56         0.00  conventional   \n",
       "1514  16736.92    62415.77    53332.61     8258.16       825.00  conventional   \n",
       "1515  17495.42    63931.73    55653.47     8278.26         0.00  conventional   \n",
       "1516  16563.91    69104.56    57456.21    11648.35         0.00  conventional   \n",
       "\n",
       "      year     region  \n",
       "0     2015     Albany  \n",
       "1     2015     Albany  \n",
       "2     2015     Albany  \n",
       "3     2015     Albany  \n",
       "4     2015     Albany  \n",
       "...    ...        ...  \n",
       "1512  2016  Charlotte  \n",
       "1513  2016  Charlotte  \n",
       "1514  2016  Charlotte  \n",
       "1515  2016  Charlotte  \n",
       "1516  2016  Charlotte  \n",
       "\n",
       "[1517 rows x 14 columns]"
      ]
     },
     "execution_count": 4,
     "metadata": {},
     "output_type": "execute_result"
    }
   ],
   "source": [
    "df=pd.read_csv('AvacadoProject.csv')\n",
    "df"
   ]
  },
  {
   "cell_type": "code",
   "execution_count": 6,
   "metadata": {},
   "outputs": [
    {
     "data": {
      "text/plain": [
       "(1517, 14)"
      ]
     },
     "execution_count": 6,
     "metadata": {},
     "output_type": "execute_result"
    }
   ],
   "source": [
    "df.shape"
   ]
  },
  {
   "cell_type": "code",
   "execution_count": 7,
   "metadata": {},
   "outputs": [
    {
     "data": {
      "text/plain": [
       "Unnamed: 0        int64\n",
       "Date             object\n",
       "AveragePrice    float64\n",
       "Total Volume    float64\n",
       "4046            float64\n",
       "4225            float64\n",
       "4770            float64\n",
       "Total Bags      float64\n",
       "Small Bags      float64\n",
       "Large Bags      float64\n",
       "XLarge Bags     float64\n",
       "type             object\n",
       "year              int64\n",
       "region           object\n",
       "dtype: object"
      ]
     },
     "execution_count": 7,
     "metadata": {},
     "output_type": "execute_result"
    }
   ],
   "source": [
    "df.dtypes"
   ]
  },
  {
   "cell_type": "markdown",
   "metadata": {},
   "source": [
    "There are certain columns with str data type."
   ]
  },
  {
   "cell_type": "code",
   "execution_count": 8,
   "metadata": {},
   "outputs": [
    {
     "data": {
      "text/plain": [
       "Unnamed: 0      0\n",
       "Date            0\n",
       "AveragePrice    0\n",
       "Total Volume    0\n",
       "4046            0\n",
       "4225            0\n",
       "4770            0\n",
       "Total Bags      0\n",
       "Small Bags      0\n",
       "Large Bags      0\n",
       "XLarge Bags     0\n",
       "type            0\n",
       "year            0\n",
       "region          0\n",
       "dtype: int64"
      ]
     },
     "execution_count": 8,
     "metadata": {},
     "output_type": "execute_result"
    }
   ],
   "source": [
    "df.isnull().sum()"
   ]
  },
  {
   "cell_type": "code",
   "execution_count": 9,
   "metadata": {},
   "outputs": [
    {
     "data": {
      "image/png": "[encoded data removed]",
      "text/plain": [
       "<Figure size 432x288 with 2 Axes>"
      ]
     },
     "metadata": {
      "needs_background": "light"
     },
     "output_type": "display_data"
    }
   ],
   "source": [
    "import seaborn as sns\n",
    "import matplotlib.pyplot as plt\n",
    "sns.heatmap(df.isnull())\n",
    "plt.title('Null Values')\n",
    "plt.show()"
   ]
  },
  {
   "cell_type": "markdown",
   "metadata": {},
   "source": [
    "There are no null values in the data set."
   ]
  },
  {
   "cell_type": "markdown",
   "metadata": {},
   "source": [
    "# Data Visualisation"
   ]
  },
  {
   "cell_type": "code",
   "execution_count": 12,
   "metadata": {},
   "outputs": [
    {
     "name": "stdout",
     "output_type": "stream",
     "text": [
      "1517\n"
     ]
    },
    {
     "data": {
      "image/png": "[encoded data removed]",
      "text/plain": [
       "<Figure size 432x288 with 1 Axes>"
      ]
     },
     "metadata": {
      "needs_background": "light"
     },
     "output_type": "display_data"
    }
   ],
   "source": [
    "ax=sns.countplot(x='year',data=df)\n",
    "print(df['year'].count())"
   ]
  },
  {
   "cell_type": "markdown",
   "metadata": {},
   "source": [
    "Data comprises of year 2015 with more than 1200 entries and year 2016 with around 300 entries."
   ]
  },
  {
   "cell_type": "code",
   "execution_count": 14,
   "metadata": {},
   "outputs": [
    {
     "data": {
      "text/plain": [
       "Index(['Unnamed: 0', 'Date', 'AveragePrice', 'Total Volume', '4046', '4225',\n",
       "       '4770', 'Total Bags', 'Small Bags', 'Large Bags', 'XLarge Bags', 'type',\n",
       "       'year', 'region'],\n",
       "      dtype='object')"
      ]
     },
     "execution_count": 14,
     "metadata": {},
     "output_type": "execute_result"
    }
   ],
   "source": [
    "df.columns"
   ]
  },
  {
   "cell_type": "code",
   "execution_count": 18,
   "metadata": {},
   "outputs": [],
   "source": [
    "index = [ 'AveragePrice', 'Total Volume', '4046', '4225',\n",
    "       '4770', 'Total Bags', 'Small Bags', 'Large Bags', 'XLarge Bags', 'type']"
   ]
  },
  {
   "cell_type": "code",
   "execution_count": 19,
   "metadata": {},
   "outputs": [
    {
     "name": "stdout",
     "output_type": "stream",
     "text": [
      "1517\n"
     ]
    },
    {
     "data": {
      "image/png": "[encoded data removed]",
      "text/plain": [
       "<Figure size 432x288 with 1 Axes>"
      ]
     },
     "metadata": {
      "needs_background": "light"
     },
     "output_type": "display_data"
    },
    {
     "name": "stdout",
     "output_type": "stream",
     "text": [
      "1517\n"
     ]
    },
    {
     "data": {
      "image/png": "[encoded data removed]",
      "text/plain": [
       "<Figure size 432x288 with 1 Axes>"
      ]
     },
     "metadata": {
      "needs_background": "light"
     },
     "output_type": "display_data"
    },
    {
     "name": "stdout",
     "output_type": "stream",
     "text": [
      "1517\n"
     ]
    },
    {
     "data": {
      "image/png": "[encoded data removed]",
      "text/plain": [
       "<Figure size 432x288 with 1 Axes>"
      ]
     },
     "metadata": {
      "needs_background": "light"
     },
     "output_type": "display_data"
    },
    {
     "name": "stdout",
     "output_type": "stream",
     "text": [
      "1517\n"
     ]
    },
    {
     "data": {
      "image/png": "[encoded data removed]",
      "text/plain": [
       "<Figure size 432x288 with 1 Axes>"
      ]
     },
     "metadata": {
      "needs_background": "light"
     },
     "output_type": "display_data"
    },
    {
     "name": "stdout",
     "output_type": "stream",
     "text": [
      "1517\n"
     ]
    },
    {
     "data": {
      "image/png": "[encoded data removed]",
      "text/plain": [
       "<Figure size 432x288 with 1 Axes>"
      ]
     },
     "metadata": {
      "needs_background": "light"
     },
     "output_type": "display_data"
    },
    {
     "name": "stdout",
     "output_type": "stream",
     "text": [
      "1517\n"
     ]
    },
    {
     "data": {
      "image/png": "[encoded data removed]",
      "text/plain": [
       "<Figure size 432x288 with 1 Axes>"
      ]
     },
     "metadata": {
      "needs_background": "light"
     },
     "output_type": "display_data"
    },
    {
     "name": "stdout",
     "output_type": "stream",
     "text": [
      "1517\n"
     ]
    },
    {
     "data": {
      "image/png": "[encoded data removed]",
      "text/plain": [
       "<Figure size 432x288 with 1 Axes>"
      ]
     },
     "metadata": {
      "needs_background": "light"
     },
     "output_type": "display_data"
    },
    {
     "name": "stdout",
     "output_type": "stream",
     "text": [
      "1517\n"
     ]
    },
    {
     "data": {
      "image/png": "[encoded data removed]",
      "text/plain": [
       "<Figure size 432x288 with 1 Axes>"
      ]
     },
     "metadata": {
      "needs_background": "light"
     },
     "output_type": "display_data"
    },
    {
     "name": "stdout",
     "output_type": "stream",
     "text": [
      "1517\n"
     ]
    },
    {
     "data": {
      "image/png": "[encoded data removed]",
      "text/plain": [
       "<Figure size 432x288 with 1 Axes>"
      ]
     },
     "metadata": {
      "needs_background": "light"
     },
     "output_type": "display_data"
    },
    {
     "name": "stdout",
     "output_type": "stream",
     "text": [
      "1517\n"
     ]
    },
    {
     "data": {
      "image/png": "[encoded data removed]",
      "text/plain": [
       "<Figure size 432x288 with 1 Axes>"
      ]
     },
     "metadata": {
      "needs_background": "light"
     },
     "output_type": "display_data"
    }
   ],
   "source": [
    "for i in index:\n",
    "    df[i].hist(grid=True)\n",
    "    plt.title(i)\n",
    "    print(df[i].count())\n",
    "    plt.show()"
   ]
  },
  {
   "cell_type": "raw",
   "metadata": {},
   "source": [
    "Observation:\n",
    " As we can see columns with total bags, small bags, large bags and Xlarge bags are mostly zero values.\n",
    " It's better to drop these columns.\n",
    " \n",
    " Also, Theres only one type \"conventional\". Theres no point keeping it in the data set."
   ]
  },
  {
   "cell_type": "code",
   "execution_count": 21,
   "metadata": {},
   "outputs": [],
   "source": [
    "columns =['Total Bags', 'Small Bags', 'Large Bags', 'XLarge Bags']\n",
    "\n",
    "for i in columns:\n",
    "    df= df.drop([i],axis=1)"
   ]
  },
  {
   "cell_type": "code",
   "execution_count": 22,
   "metadata": {},
   "outputs": [],
   "source": [
    "df= df.drop(['type'],axis=1)"
   ]
  },
  {
   "cell_type": "code",
   "execution_count": 32,
   "metadata": {},
   "outputs": [],
   "source": [
    "df= df.drop(['Unnamed: 0'], axis=1)"
   ]
  },
  {
   "cell_type": "code",
   "execution_count": 33,
   "metadata": {},
   "outputs": [
    {
     "data": {
      "text/plain": [
       "Index(['Date', 'AveragePrice', 'Total Volume', '4046', '4225', '4770', 'year',\n",
       "       'region'],\n",
       "      dtype='object')"
      ]
     },
     "execution_count": 33,
     "metadata": {},
     "output_type": "execute_result"
    }
   ],
   "source": [
    "df.columns"
   ]
  },
  {
   "cell_type": "markdown",
   "metadata": {},
   "source": [
    "# Correlation"
   ]
  },
  {
   "cell_type": "code",
   "execution_count": 34,
   "metadata": {},
   "outputs": [
    {
     "data": {
      "image/png": "[encoded data removed]",
      "text/plain": [
       "<Figure size 432x288 with 2 Axes>"
      ]
     },
     "metadata": {
      "needs_background": "light"
     },
     "output_type": "display_data"
    }
   ],
   "source": [
    "sns.heatmap(df.corr(), annot=True)\n",
    "plt.title('Correlation Matrix')\n",
    "plt.show()"
   ]
  },
  {
   "cell_type": "code",
   "execution_count": 35,
   "metadata": {},
   "outputs": [
    {
     "data": {
      "text/plain": [
       "AveragePrice    1.000000\n",
       "year            0.178683\n",
       "Date            0.092984\n",
       "4225           -0.092084\n",
       "4770           -0.100567\n",
       "Total Volume   -0.140470\n",
       "4046           -0.190096\n",
       "region         -0.229408\n",
       "Name: AveragePrice, dtype: float64"
      ]
     },
     "execution_count": 35,
     "metadata": {},
     "output_type": "execute_result"
    }
   ],
   "source": [
    "corr_matrix=df.corr()\n",
    "corr_matrix['AveragePrice'].sort_values(ascending=False)"
   ]
  },
  {
   "cell_type": "raw",
   "metadata": {},
   "source": [
    "Target (AveragePrice) is highly correlated with Year and least correlated with 4046 (Total number of avocados with PLU 4046 sold )"
   ]
  },
  {
   "cell_type": "markdown",
   "metadata": {},
   "source": [
    "# Encoding the data"
   ]
  },
  {
   "cell_type": "code",
   "execution_count": 140,
   "metadata": {},
   "outputs": [],
   "source": [
    "from sklearn import preprocessing\n",
    "le = preprocessing.LabelEncoder()\n",
    "\n",
    "for i in df.columns:\n",
    "    if df[i].dtypes==\"object\":\n",
    "        df[i]=le.fit_transform(df[i].values.reshape(-1,1))"
   ]
  },
  {
   "cell_type": "code",
   "execution_count": 141,
   "metadata": {},
   "outputs": [
    {
     "data": {
      "text/html": [
       "<div>\n",
       "<style scoped>\n",
       "    .dataframe tbody tr th:only-of-type {\n",
       "        vertical-align: middle;\n",
       "    }\n",
       "\n",
       "    .dataframe tbody tr th {\n",
       "        vertical-align: top;\n",
       "    }\n",
       "\n",
       "    .dataframe thead th {\n",
       "        text-align: right;\n",
       "    }\n",
       "</style>\n",
       "<table border=\"1\" class=\"dataframe\">\n",
       "  <thead>\n",
       "    <tr style=\"text-align: right;\">\n",
       "      <th></th>\n",
       "      <th>Date</th>\n",
       "      <th>AveragePrice</th>\n",
       "      <th>Total Volume</th>\n",
       "      <th>4046</th>\n",
       "      <th>4225</th>\n",
       "      <th>4770</th>\n",
       "      <th>year</th>\n",
       "      <th>region</th>\n",
       "    </tr>\n",
       "  </thead>\n",
       "  <tbody>\n",
       "    <tr>\n",
       "      <th>0</th>\n",
       "      <td>92.0</td>\n",
       "      <td>1.33</td>\n",
       "      <td>64236.62</td>\n",
       "      <td>1036.74</td>\n",
       "      <td>54454.85</td>\n",
       "      <td>48.16</td>\n",
       "      <td>2015</td>\n",
       "      <td>0.0</td>\n",
       "    </tr>\n",
       "    <tr>\n",
       "      <th>1</th>\n",
       "      <td>68.0</td>\n",
       "      <td>1.35</td>\n",
       "      <td>54876.98</td>\n",
       "      <td>674.28</td>\n",
       "      <td>44638.81</td>\n",
       "      <td>58.33</td>\n",
       "      <td>2015</td>\n",
       "      <td>0.0</td>\n",
       "    </tr>\n",
       "    <tr>\n",
       "      <th>2</th>\n",
       "      <td>44.0</td>\n",
       "      <td>0.93</td>\n",
       "      <td>118220.22</td>\n",
       "      <td>794.70</td>\n",
       "      <td>109149.67</td>\n",
       "      <td>130.50</td>\n",
       "      <td>2015</td>\n",
       "      <td>0.0</td>\n",
       "    </tr>\n",
       "    <tr>\n",
       "      <th>3</th>\n",
       "      <td>20.0</td>\n",
       "      <td>1.08</td>\n",
       "      <td>78992.15</td>\n",
       "      <td>1132.00</td>\n",
       "      <td>71976.41</td>\n",
       "      <td>72.58</td>\n",
       "      <td>2015</td>\n",
       "      <td>0.0</td>\n",
       "    </tr>\n",
       "    <tr>\n",
       "      <th>4</th>\n",
       "      <td>98.0</td>\n",
       "      <td>1.28</td>\n",
       "      <td>51039.60</td>\n",
       "      <td>941.48</td>\n",
       "      <td>43838.39</td>\n",
       "      <td>75.78</td>\n",
       "      <td>2015</td>\n",
       "      <td>0.0</td>\n",
       "    </tr>\n",
       "    <tr>\n",
       "      <th>...</th>\n",
       "      <td>...</td>\n",
       "      <td>...</td>\n",
       "      <td>...</td>\n",
       "      <td>...</td>\n",
       "      <td>...</td>\n",
       "      <td>...</td>\n",
       "      <td>...</td>\n",
       "      <td>...</td>\n",
       "    </tr>\n",
       "    <tr>\n",
       "      <th>1512</th>\n",
       "      <td>53.0</td>\n",
       "      <td>1.39</td>\n",
       "      <td>190846.01</td>\n",
       "      <td>57529.11</td>\n",
       "      <td>56366.66</td>\n",
       "      <td>17531.78</td>\n",
       "      <td>2016</td>\n",
       "      <td>7.0</td>\n",
       "    </tr>\n",
       "    <tr>\n",
       "      <th>1513</th>\n",
       "      <td>29.0</td>\n",
       "      <td>1.51</td>\n",
       "      <td>178235.75</td>\n",
       "      <td>43325.87</td>\n",
       "      <td>52189.61</td>\n",
       "      <td>19419.57</td>\n",
       "      <td>2016</td>\n",
       "      <td>7.0</td>\n",
       "    </tr>\n",
       "    <tr>\n",
       "      <th>1514</th>\n",
       "      <td>5.0</td>\n",
       "      <td>1.48</td>\n",
       "      <td>178410.82</td>\n",
       "      <td>46364.75</td>\n",
       "      <td>52893.38</td>\n",
       "      <td>16736.92</td>\n",
       "      <td>2016</td>\n",
       "      <td>7.0</td>\n",
       "    </tr>\n",
       "    <tr>\n",
       "      <th>1515</th>\n",
       "      <td>83.0</td>\n",
       "      <td>1.47</td>\n",
       "      <td>189131.52</td>\n",
       "      <td>54110.79</td>\n",
       "      <td>53593.58</td>\n",
       "      <td>17495.42</td>\n",
       "      <td>2016</td>\n",
       "      <td>7.0</td>\n",
       "    </tr>\n",
       "    <tr>\n",
       "      <th>1516</th>\n",
       "      <td>59.0</td>\n",
       "      <td>1.43</td>\n",
       "      <td>182978.30</td>\n",
       "      <td>43116.41</td>\n",
       "      <td>54193.42</td>\n",
       "      <td>16563.91</td>\n",
       "      <td>2016</td>\n",
       "      <td>7.0</td>\n",
       "    </tr>\n",
       "  </tbody>\n",
       "</table>\n",
       "<p>1517 rows × 8 columns</p>\n",
       "</div>"
      ],
      "text/plain": [
       "      Date  AveragePrice  Total Volume      4046       4225      4770  year  \\\n",
       "0     92.0          1.33      64236.62   1036.74   54454.85     48.16  2015   \n",
       "1     68.0          1.35      54876.98    674.28   44638.81     58.33  2015   \n",
       "2     44.0          0.93     118220.22    794.70  109149.67    130.50  2015   \n",
       "3     20.0          1.08      78992.15   1132.00   71976.41     72.58  2015   \n",
       "4     98.0          1.28      51039.60    941.48   43838.39     75.78  2015   \n",
       "...    ...           ...           ...       ...        ...       ...   ...   \n",
       "1512  53.0          1.39     190846.01  57529.11   56366.66  17531.78  2016   \n",
       "1513  29.0          1.51     178235.75  43325.87   52189.61  19419.57  2016   \n",
       "1514   5.0          1.48     178410.82  46364.75   52893.38  16736.92  2016   \n",
       "1515  83.0          1.47     189131.52  54110.79   53593.58  17495.42  2016   \n",
       "1516  59.0          1.43     182978.30  43116.41   54193.42  16563.91  2016   \n",
       "\n",
       "      region  \n",
       "0        0.0  \n",
       "1        0.0  \n",
       "2        0.0  \n",
       "3        0.0  \n",
       "4        0.0  \n",
       "...      ...  \n",
       "1512     7.0  \n",
       "1513     7.0  \n",
       "1514     7.0  \n",
       "1515     7.0  \n",
       "1516     7.0  \n",
       "\n",
       "[1517 rows x 8 columns]"
      ]
     },
     "execution_count": 141,
     "metadata": {},
     "output_type": "execute_result"
    }
   ],
   "source": [
    "df"
   ]
  },
  {
   "cell_type": "markdown",
   "metadata": {},
   "source": [
    "# Skewness"
   ]
  },
  {
   "cell_type": "code",
   "execution_count": 142,
   "metadata": {},
   "outputs": [
    {
     "data": {
      "text/plain": [
       "Date            0.012623\n",
       "AveragePrice   -0.109444\n",
       "Total Volume    6.200138\n",
       "4046            6.051830\n",
       "4225            6.394926\n",
       "4770            5.405164\n",
       "year            1.828332\n",
       "region          0.288146\n",
       "dtype: float64"
      ]
     },
     "execution_count": 142,
     "metadata": {},
     "output_type": "execute_result"
    }
   ],
   "source": [
    "df.skew()"
   ]
  },
  {
   "cell_type": "markdown",
   "metadata": {},
   "source": [
    "Keeping +/-(0.5) as the range of skewness. \n",
    "apart from date, average price and region there's visible skewness in all columns. "
   ]
  },
  {
   "cell_type": "code",
   "execution_count": 148,
   "metadata": {},
   "outputs": [],
   "source": [
    "x=df.drop('AveragePrice', axis =1)\n",
    "y=df['AveragePrice']"
   ]
  },
  {
   "cell_type": "code",
   "execution_count": 155,
   "metadata": {},
   "outputs": [],
   "source": [
    "from sklearn.preprocessing import power_transform\n",
    "df.new=power_transform(x)\n",
    "\n",
    "df.new=pd.DataFrame(df.new,columns=x.columns)"
   ]
  },
  {
   "cell_type": "code",
   "execution_count": 156,
   "metadata": {},
   "outputs": [
    {
     "data": {
      "text/plain": [
       "Date           -0.286196\n",
       "Total Volume    0.000000\n",
       "4046           -0.012059\n",
       "4225            0.008450\n",
       "4770           -0.032945\n",
       "year            0.000000\n",
       "region         -0.209568\n",
       "dtype: float64"
      ]
     },
     "execution_count": 156,
     "metadata": {},
     "output_type": "execute_result"
    }
   ],
   "source": [
    "df.new.skew()"
   ]
  },
  {
   "cell_type": "code",
   "execution_count": 157,
   "metadata": {},
   "outputs": [],
   "source": [
    "x=df.new"
   ]
  },
  {
   "cell_type": "markdown",
   "metadata": {},
   "source": [
    "# Checking for outliers"
   ]
  },
  {
   "cell_type": "code",
   "execution_count": 158,
   "metadata": {},
   "outputs": [
    {
     "data": {
      "image/png": "[encoded data removed]",
      "text/plain": [
       "<Figure size 1440x576 with 1 Axes>"
      ]
     },
     "metadata": {
      "needs_background": "light"
     },
     "output_type": "display_data"
    }
   ],
   "source": [
    "x.boxplot(figsize=[20,8])\n",
    "plt.subplots_adjust(bottom=.25)\n",
    "plt.show()"
   ]
  },
  {
   "cell_type": "markdown",
   "metadata": {},
   "source": [
    "No outliers present in the Dataset."
   ]
  },
  {
   "cell_type": "markdown",
   "metadata": {},
   "source": [
    "# Finding best random state"
   ]
  },
  {
   "cell_type": "code",
   "execution_count": 159,
   "metadata": {},
   "outputs": [
    {
     "name": "stdout",
     "output_type": "stream",
     "text": [
      "At randon state 0, the training accuracy is:- 0.3031908905135545\n",
      "At random state 0, the testing accuracy is:0.23679985566614636\n",
      "\n",
      "\n",
      "At randon state 1, the training accuracy is:- 0.2670970372463354\n",
      "At random state 1, the testing accuracy is:0.37221991772262764\n",
      "\n",
      "\n",
      "At randon state 2, the training accuracy is:- 0.27491105971404906\n",
      "At random state 2, the testing accuracy is:0.34553541964825873\n",
      "\n",
      "\n",
      "At randon state 3, the training accuracy is:- 0.2976211492212796\n",
      "At random state 3, the testing accuracy is:0.25240021401575663\n",
      "\n",
      "\n",
      "At randon state 4, the training accuracy is:- 0.3120772948841929\n",
      "At random state 4, the testing accuracy is:0.1772395160654009\n",
      "\n",
      "\n",
      "At randon state 5, the training accuracy is:- 0.28886365630378263\n",
      "At random state 5, the testing accuracy is:0.2929460155978292\n",
      "\n",
      "\n",
      "At randon state 6, the training accuracy is:- 0.2966261139239169\n",
      "At random state 6, the testing accuracy is:0.24595144894806387\n",
      "\n",
      "\n",
      "At randon state 7, the training accuracy is:- 0.2998868393503543\n",
      "At random state 7, the testing accuracy is:0.2385108192514418\n",
      "\n",
      "\n",
      "At randon state 8, the training accuracy is:- 0.28656499813357517\n",
      "At random state 8, the testing accuracy is:0.29702169516457433\n",
      "\n",
      "\n",
      "At randon state 9, the training accuracy is:- 0.29376835653456423\n",
      "At random state 9, the testing accuracy is:0.27048973249721253\n",
      "\n",
      "\n",
      "At randon state 10, the training accuracy is:- 0.2898670315592763\n",
      "At random state 10, the testing accuracy is:0.2839582535994787\n",
      "\n",
      "\n",
      "At randon state 11, the training accuracy is:- 0.29615364421842916\n",
      "At random state 11, the testing accuracy is:0.2546311623624006\n",
      "\n",
      "\n",
      "At randon state 12, the training accuracy is:- 0.2964348872172372\n",
      "At random state 12, the testing accuracy is:0.24845840778503148\n",
      "\n",
      "\n",
      "At randon state 13, the training accuracy is:- 0.2951326342455314\n",
      "At random state 13, the testing accuracy is:0.24820414362139087\n",
      "\n",
      "\n",
      "At randon state 14, the training accuracy is:- 0.30258419095776246\n",
      "At random state 14, the testing accuracy is:0.24203269072028488\n",
      "\n",
      "\n",
      "At randon state 15, the training accuracy is:- 0.29049421880458826\n",
      "At random state 15, the testing accuracy is:0.2854616707227686\n",
      "\n",
      "\n",
      "At randon state 16, the training accuracy is:- 0.29780714423695664\n",
      "At random state 16, the testing accuracy is:0.2578874979068646\n",
      "\n",
      "\n",
      "At randon state 17, the training accuracy is:- 0.28270356239988637\n",
      "At random state 17, the testing accuracy is:0.3188096582416987\n",
      "\n",
      "\n",
      "At randon state 18, the training accuracy is:- 0.28012074117255326\n",
      "At random state 18, the testing accuracy is:0.30981190549254356\n",
      "\n",
      "\n",
      "At randon state 19, the training accuracy is:- 0.2915475503726743\n",
      "At random state 19, the testing accuracy is:0.2813515465644143\n",
      "\n",
      "\n",
      "At randon state 20, the training accuracy is:- 0.2816088794559848\n",
      "At random state 20, the testing accuracy is:0.32047296489403043\n",
      "\n",
      "\n",
      "At randon state 21, the training accuracy is:- 0.2933733971335568\n",
      "At random state 21, the testing accuracy is:0.27006331895915725\n",
      "\n",
      "\n",
      "At randon state 22, the training accuracy is:- 0.2859515748646748\n",
      "At random state 22, the testing accuracy is:0.30539644537358823\n",
      "\n",
      "\n",
      "At randon state 23, the training accuracy is:- 0.2842882098695575\n",
      "At random state 23, the testing accuracy is:0.30237329935487545\n",
      "\n",
      "\n",
      "At randon state 24, the training accuracy is:- 0.2927547241349635\n",
      "At random state 24, the testing accuracy is:0.2749904481769455\n",
      "\n",
      "\n",
      "At randon state 25, the training accuracy is:- 0.28426018547859166\n",
      "At random state 25, the testing accuracy is:0.3086251860432516\n",
      "\n",
      "\n",
      "At randon state 26, the training accuracy is:- 0.2826361621737018\n",
      "At random state 26, the testing accuracy is:0.3166980239631947\n",
      "\n",
      "\n",
      "At randon state 27, the training accuracy is:- 0.28656419397257504\n",
      "At random state 27, the testing accuracy is:0.2995665263847016\n",
      "\n",
      "\n",
      "At randon state 28, the training accuracy is:- 0.2860066763201945\n",
      "At random state 28, the testing accuracy is:0.3054091461958385\n",
      "\n",
      "\n",
      "At randon state 29, the training accuracy is:- 0.2796841512802569\n",
      "At random state 29, the testing accuracy is:0.3299144319889421\n",
      "\n",
      "\n",
      "At randon state 30, the training accuracy is:- 0.274783040362512\n",
      "At random state 30, the testing accuracy is:0.35043154011541133\n",
      "\n",
      "\n",
      "At randon state 31, the training accuracy is:- 0.3009551464772835\n",
      "At random state 31, the testing accuracy is:0.24394240248477317\n",
      "\n",
      "\n",
      "At randon state 32, the training accuracy is:- 0.2828560421995949\n",
      "At random state 32, the testing accuracy is:0.3140835510815638\n",
      "\n",
      "\n",
      "At randon state 33, the training accuracy is:- 0.2931725592874742\n",
      "At random state 33, the testing accuracy is:0.2720385048762093\n",
      "\n",
      "\n",
      "At randon state 34, the training accuracy is:- 0.290171402386605\n",
      "At random state 34, the testing accuracy is:0.2851844155044806\n",
      "\n",
      "\n",
      "At randon state 35, the training accuracy is:- 0.29835058045901686\n",
      "At random state 35, the testing accuracy is:0.24914416446552068\n",
      "\n",
      "\n",
      "At randon state 36, the training accuracy is:- 0.291996489033844\n",
      "At random state 36, the testing accuracy is:0.2783235784038829\n",
      "\n",
      "\n",
      "At randon state 37, the training accuracy is:- 0.3006950767824048\n",
      "At random state 37, the testing accuracy is:0.2357215247370772\n",
      "\n",
      "\n",
      "At randon state 38, the training accuracy is:- 0.2769571962858012\n",
      "At random state 38, the testing accuracy is:0.34403117463416\n",
      "\n",
      "\n",
      "At randon state 39, the training accuracy is:- 0.29168588354677416\n",
      "At random state 39, the testing accuracy is:0.28007529600738423\n",
      "\n",
      "\n",
      "At randon state 40, the training accuracy is:- 0.2831262622366376\n",
      "At random state 40, the testing accuracy is:0.3090263311858441\n",
      "\n",
      "\n",
      "At randon state 41, the training accuracy is:- 0.29936163138945115\n",
      "At random state 41, the testing accuracy is:0.24452168012439968\n",
      "\n",
      "\n",
      "At randon state 42, the training accuracy is:- 0.28542625696213486\n",
      "At random state 42, the testing accuracy is:0.30503637220238755\n",
      "\n",
      "\n",
      "At randon state 43, the training accuracy is:- 0.2697654754202653\n",
      "At random state 43, the testing accuracy is:0.341741458538688\n",
      "\n",
      "\n",
      "At randon state 44, the training accuracy is:- 0.2996536115333226\n",
      "At random state 44, the testing accuracy is:0.24059064939938413\n",
      "\n",
      "\n",
      "At randon state 45, the training accuracy is:- 0.3027919346727742\n",
      "At random state 45, the testing accuracy is:0.23458046747169492\n",
      "\n",
      "\n",
      "At randon state 46, the training accuracy is:- 0.2814342231564789\n",
      "At random state 46, the testing accuracy is:0.3198448885277889\n",
      "\n",
      "\n",
      "At randon state 47, the training accuracy is:- 0.28821544097391294\n",
      "At random state 47, the testing accuracy is:0.2955875736746182\n",
      "\n",
      "\n",
      "At randon state 48, the training accuracy is:- 0.3037887809008647\n",
      "At random state 48, the testing accuracy is:0.22880045748757882\n",
      "\n",
      "\n",
      "At randon state 49, the training accuracy is:- 0.29623167338409684\n",
      "At random state 49, the testing accuracy is:0.2645009150389105\n",
      "\n",
      "\n",
      "At randon state 50, the training accuracy is:- 0.28293585662658083\n",
      "At random state 50, the testing accuracy is:0.3152467859049253\n",
      "\n",
      "\n",
      "At randon state 51, the training accuracy is:- 0.28966152304728066\n",
      "At random state 51, the testing accuracy is:0.2845925754971177\n",
      "\n",
      "\n",
      "At randon state 52, the training accuracy is:- 0.2871761419023333\n",
      "At random state 52, the testing accuracy is:0.2943074950381448\n",
      "\n",
      "\n",
      "At randon state 53, the training accuracy is:- 0.28371953501931935\n",
      "At random state 53, the testing accuracy is:0.3063707661345101\n",
      "\n",
      "\n",
      "At randon state 54, the training accuracy is:- 0.29105912789871413\n",
      "At random state 54, the testing accuracy is:0.2845225956786036\n",
      "\n",
      "\n",
      "At randon state 55, the training accuracy is:- 0.2853748282191031\n",
      "At random state 55, the testing accuracy is:0.29891418124507796\n",
      "\n",
      "\n",
      "At randon state 56, the training accuracy is:- 0.3021725501639747\n",
      "At random state 56, the testing accuracy is:0.2222918609604113\n",
      "\n",
      "\n",
      "At randon state 57, the training accuracy is:- 0.29659603955825875\n",
      "At random state 57, the testing accuracy is:0.2662621166168916\n",
      "\n",
      "\n",
      "At randon state 58, the training accuracy is:- 0.3040019634097494\n",
      "At random state 58, the testing accuracy is:0.21622227901122482\n",
      "\n",
      "\n",
      "At randon state 59, the training accuracy is:- 0.2851687032663982\n",
      "At random state 59, the testing accuracy is:0.3007704540702625\n",
      "\n",
      "\n",
      "At randon state 60, the training accuracy is:- 0.2901667061901876\n",
      "At random state 60, the testing accuracy is:0.28610718801769497\n",
      "\n",
      "\n",
      "At randon state 61, the training accuracy is:- 0.30017139572052265\n",
      "At random state 61, the testing accuracy is:0.24058041912937234\n",
      "\n",
      "\n",
      "At randon state 62, the training accuracy is:- 0.31257262487914683\n",
      "At random state 62, the testing accuracy is:0.18792280028376518\n",
      "\n",
      "\n",
      "At randon state 63, the training accuracy is:- 0.2991525538408457\n",
      "At random state 63, the testing accuracy is:0.24667097755612222\n",
      "\n",
      "\n",
      "At randon state 64, the training accuracy is:- 0.29713119789548803\n",
      "At random state 64, the testing accuracy is:0.2524298024038133\n",
      "\n",
      "\n"
     ]
    },
    {
     "name": "stdout",
     "output_type": "stream",
     "text": [
      "At randon state 65, the training accuracy is:- 0.2979551475657437\n",
      "At random state 65, the testing accuracy is:0.24928879304335294\n",
      "\n",
      "\n",
      "At randon state 66, the training accuracy is:- 0.2975801136408822\n",
      "At random state 66, the testing accuracy is:0.2587238642725329\n",
      "\n",
      "\n",
      "At randon state 67, the training accuracy is:- 0.2883890485812094\n",
      "At random state 67, the testing accuracy is:0.29074322448615164\n",
      "\n",
      "\n",
      "At randon state 68, the training accuracy is:- 0.29128968381397835\n",
      "At random state 68, the testing accuracy is:0.2687175234842415\n",
      "\n",
      "\n",
      "At randon state 69, the training accuracy is:- 0.3081128066164792\n",
      "At random state 69, the testing accuracy is:0.1984200688197847\n",
      "\n",
      "\n",
      "At randon state 70, the training accuracy is:- 0.291179412707687\n",
      "At random state 70, the testing accuracy is:0.2810858496778418\n",
      "\n",
      "\n",
      "At randon state 71, the training accuracy is:- 0.2950915587306586\n",
      "At random state 71, the testing accuracy is:0.2624093318583671\n",
      "\n",
      "\n",
      "At randon state 72, the training accuracy is:- 0.2842828772516036\n",
      "At random state 72, the testing accuracy is:0.30216864295059664\n",
      "\n",
      "\n",
      "At randon state 73, the training accuracy is:- 0.2716054733874458\n",
      "At random state 73, the testing accuracy is:0.35380620597680046\n",
      "\n",
      "\n",
      "At randon state 74, the training accuracy is:- 0.27766558155088394\n",
      "At random state 74, the testing accuracy is:0.32789819203668624\n",
      "\n",
      "\n",
      "At randon state 75, the training accuracy is:- 0.2855295269705519\n",
      "At random state 75, the testing accuracy is:0.30332427928851724\n",
      "\n",
      "\n",
      "At randon state 76, the training accuracy is:- 0.2968703498096549\n",
      "At random state 76, the testing accuracy is:0.25839545791092633\n",
      "\n",
      "\n",
      "At randon state 77, the training accuracy is:- 0.3042986973912586\n",
      "At random state 77, the testing accuracy is:0.2299067698470012\n",
      "\n",
      "\n",
      "At randon state 78, the training accuracy is:- 0.29147703237262157\n",
      "At random state 78, the testing accuracy is:0.2789183111782374\n",
      "\n",
      "\n",
      "At randon state 79, the training accuracy is:- 0.2952289505930109\n",
      "At random state 79, the testing accuracy is:0.24897339777071836\n",
      "\n",
      "\n",
      "At randon state 80, the training accuracy is:- 0.2854022561977173\n",
      "At random state 80, the testing accuracy is:0.3074861261475722\n",
      "\n",
      "\n",
      "At randon state 81, the training accuracy is:- 0.2869186781529074\n",
      "At random state 81, the testing accuracy is:0.28659875861727435\n",
      "\n",
      "\n",
      "At randon state 82, the training accuracy is:- 0.28288300527157884\n",
      "At random state 82, the testing accuracy is:0.30856226624601857\n",
      "\n",
      "\n",
      "At randon state 83, the training accuracy is:- 0.29233146717141\n",
      "At random state 83, the testing accuracy is:0.2730618190153572\n",
      "\n",
      "\n",
      "At randon state 84, the training accuracy is:- 0.2761127852928321\n",
      "At random state 84, the testing accuracy is:0.3353169931223573\n",
      "\n",
      "\n",
      "At randon state 85, the training accuracy is:- 0.27542540945810146\n",
      "At random state 85, the testing accuracy is:0.333446218788396\n",
      "\n",
      "\n",
      "At randon state 86, the training accuracy is:- 0.30133030833412433\n",
      "At random state 86, the testing accuracy is:0.23348916006746834\n",
      "\n",
      "\n",
      "At randon state 87, the training accuracy is:- 0.27971054874684886\n",
      "At random state 87, the testing accuracy is:0.325188223888238\n",
      "\n",
      "\n",
      "At randon state 88, the training accuracy is:- 0.2940413471009915\n",
      "At random state 88, the testing accuracy is:0.2679361774807757\n",
      "\n",
      "\n",
      "At randon state 89, the training accuracy is:- 0.2786762478469037\n",
      "At random state 89, the testing accuracy is:0.3296066190174787\n",
      "\n",
      "\n",
      "At randon state 90, the training accuracy is:- 0.30649224266480724\n",
      "At random state 90, the testing accuracy is:0.21602302695874798\n",
      "\n",
      "\n",
      "At randon state 91, the training accuracy is:- 0.2894378399803882\n",
      "At random state 91, the testing accuracy is:0.2894136913939409\n",
      "\n",
      "\n",
      "At randon state 92, the training accuracy is:- 0.28149458254844495\n",
      "At random state 92, the testing accuracy is:0.3199853774576227\n",
      "\n",
      "\n",
      "At randon state 93, the training accuracy is:- 0.28135317138506033\n",
      "At random state 93, the testing accuracy is:0.3169538607469333\n",
      "\n",
      "\n",
      "At randon state 94, the training accuracy is:- 0.27612576216987317\n",
      "At random state 94, the testing accuracy is:0.32885031318989877\n",
      "\n",
      "\n",
      "At randon state 95, the training accuracy is:- 0.281541171532083\n",
      "At random state 95, the testing accuracy is:0.3112409687294646\n",
      "\n",
      "\n",
      "At randon state 96, the training accuracy is:- 0.2987510057310109\n",
      "At random state 96, the testing accuracy is:0.245167703205723\n",
      "\n",
      "\n",
      "At randon state 97, the training accuracy is:- 0.2975775076777245\n",
      "At random state 97, the testing accuracy is:0.2475135987439131\n",
      "\n",
      "\n",
      "At randon state 98, the training accuracy is:- 0.3059484285476206\n",
      "At random state 98, the testing accuracy is:0.196882942663542\n",
      "\n",
      "\n",
      "At randon state 99, the training accuracy is:- 0.27665091513179807\n",
      "At random state 99, the testing accuracy is:0.346234802485348\n",
      "\n",
      "\n"
     ]
    }
   ],
   "source": [
    "from sklearn.linear_model import LinearRegression \n",
    "lr=LinearRegression() \n",
    "from sklearn.metrics import r2_score \n",
    "\n",
    "for i in range(0,100):\n",
    "    x_train, x_test, y_train, y_test=train_test_split(x, y, test_size=0.2, random_state=i)\n",
    "    lr.fit(x_train,y_train) \n",
    "    pred_train=lr.predict(x_train) \n",
    "    pred_test=lr.predict(x_test) \n",
    "    print (f\"At randon state {i}, the training accuracy is:- {r2_score(y_train, pred_train)}\") \n",
    "    print (f\"At random state {i}, the testing accuracy is:{r2_score(y_test,pred_test)}\") \n",
    "    print(\"\\n\")"
   ]
  },
  {
   "cell_type": "code",
   "execution_count": 176,
   "metadata": {},
   "outputs": [],
   "source": [
    "x_train, x_test, y_train, y_test=train_test_split(x, y, test_size=0.2, random_state=99)"
   ]
  },
  {
   "cell_type": "code",
   "execution_count": 177,
   "metadata": {},
   "outputs": [
    {
     "data": {
      "text/plain": [
       "LinearRegression()"
      ]
     },
     "execution_count": 177,
     "metadata": {},
     "output_type": "execute_result"
    }
   ],
   "source": [
    "lr.fit(x_train, y_train)"
   ]
  },
  {
   "cell_type": "code",
   "execution_count": 178,
   "metadata": {},
   "outputs": [],
   "source": [
    "prd_test=lr.predict(x_test)"
   ]
  },
  {
   "cell_type": "code",
   "execution_count": 179,
   "metadata": {},
   "outputs": [
    {
     "name": "stdout",
     "output_type": "stream",
     "text": [
      "0.346234802485348\n"
     ]
    }
   ],
   "source": [
    "print (r2_score(y_test, pred_test))"
   ]
  },
  {
   "cell_type": "markdown",
   "metadata": {},
   "source": [
    "# Cross-validation of the model"
   ]
  },
  {
   "cell_type": "code",
   "execution_count": 180,
   "metadata": {},
   "outputs": [],
   "source": [
    "Train_accuracy=r2_score(y_train,pred_train) \n",
    "Test_accuracy= r2_score(y_test,pred_test)"
   ]
  },
  {
   "cell_type": "code",
   "execution_count": 181,
   "metadata": {},
   "outputs": [
    {
     "name": "stdout",
     "output_type": "stream",
     "text": [
      " At cross fold 2 the cv score is 0.09543971890972014 and accuracy score for training is 0.27665091513179807 and accuracy score for testing is 0.346234802485348\n",
      "\n",
      "\n",
      " At cross fold 3 the cv score is 0.223756108397425 and accuracy score for training is 0.27665091513179807 and accuracy score for testing is 0.346234802485348\n",
      "\n",
      "\n",
      " At cross fold 4 the cv score is 0.15660148049710262 and accuracy score for training is 0.27665091513179807 and accuracy score for testing is 0.346234802485348\n",
      "\n",
      "\n",
      " At cross fold 5 the cv score is 0.1414216717105808 and accuracy score for training is 0.27665091513179807 and accuracy score for testing is 0.346234802485348\n",
      "\n",
      "\n",
      " At cross fold 6 the cv score is 0.023477431566438407 and accuracy score for training is 0.27665091513179807 and accuracy score for testing is 0.346234802485348\n",
      "\n",
      "\n",
      " At cross fold 7 the cv score is 0.15071097327737984 and accuracy score for training is 0.27665091513179807 and accuracy score for testing is 0.346234802485348\n",
      "\n",
      "\n",
      " At cross fold 8 the cv score is 0.07489921419594896 and accuracy score for training is 0.27665091513179807 and accuracy score for testing is 0.346234802485348\n",
      "\n",
      "\n",
      " At cross fold 9 the cv score is 0.08606017411736938 and accuracy score for training is 0.27665091513179807 and accuracy score for testing is 0.346234802485348\n",
      "\n",
      "\n"
     ]
    }
   ],
   "source": [
    "from sklearn.model_selection import cross_val_score \n",
    "for j in range (2,10):\n",
    "    cv_score=cross_val_score (lr , x, y, cv=j)\n",
    "    cv_mean=cv_score.mean()\n",
    "    print(f\" At cross fold {j} the cv score is {cv_mean} and accuracy score for training is {Train_accuracy} and accuracy score for testing is {Test_accuracy}\")  \n",
    "    print(\"\\n\")"
   ]
  },
  {
   "cell_type": "markdown",
   "metadata": {},
   "source": [
    "Since the number of folds don't have such impact on the accuracy and cv_score. So cv=2 is selected."
   ]
  },
  {
   "cell_type": "code",
   "execution_count": null,
   "metadata": {},
   "outputs": [],
   "source": []
  },
  {
   "cell_type": "code",
   "execution_count": 183,
   "metadata": {},
   "outputs": [
    {
     "data": {
      "image/png": "[encoded data removed]",
      "text/plain": [
       "<Figure size 576x432 with 1 Axes>"
      ]
     },
     "metadata": {
      "needs_background": "light"
     },
     "output_type": "display_data"
    }
   ],
   "source": [
    "import matplotlib.pyplot as plt \n",
    "plt. figure(figsize=(8,6)) \n",
    "plt. scatter(x=y_test, y=pred_test, color='r') \n",
    "plt.plot(y_test, y_test, color='b') \n",
    "plt.xlabel('Actual AveragePrice', fontsize=14) \n",
    "plt.ylabel('predicted AveragePrice', fontsize=14) \n",
    "plt.title('Linear regression', fontsize=18) \n",
    "plt.show()"
   ]
  },
  {
   "cell_type": "markdown",
   "metadata": {},
   "source": [
    "# Regularization"
   ]
  },
  {
   "cell_type": "code",
   "execution_count": 184,
   "metadata": {},
   "outputs": [],
   "source": [
    "from sklearn.model_selection import GridSearchCV \n",
    "from sklearn.model_selection import cross_val_score"
   ]
  },
  {
   "cell_type": "code",
   "execution_count": 185,
   "metadata": {},
   "outputs": [
    {
     "name": "stdout",
     "output_type": "stream",
     "text": [
      "{'alpha': 0.0001, 'random_state': 0}\n"
     ]
    }
   ],
   "source": [
    "from sklearn.linear_model import Lasso \n",
    "parameters = {'alpha' : [.0001, .001, .01, .1, 1, 10], 'random_state' :list (range(0,10))} \n",
    "ls= Lasso() \n",
    "clf= GridSearchCV(ls, parameters) \n",
    "clf.fit(x_train, y_train)\n",
    "print (clf.best_params_)"
   ]
  },
  {
   "cell_type": "code",
   "execution_count": 186,
   "metadata": {},
   "outputs": [
    {
     "data": {
      "text/plain": [
       "-0.00040035873508559305"
      ]
     },
     "execution_count": 186,
     "metadata": {},
     "output_type": "execute_result"
    }
   ],
   "source": [
    "ls=Lasso(alpha=1, random_state=0) \n",
    "ls.fit(x_train, y_train) \n",
    "ls.score(x_train, y_train) \n",
    "pred_ls=ls.predict(x_test) \n",
    "lss = r2_score(y_test ,pred_ls) \n",
    "lss"
   ]
  },
  {
   "cell_type": "code",
   "execution_count": 190,
   "metadata": {},
   "outputs": [
    {
     "data": {
      "text/plain": [
       "-0.08982817361949014"
      ]
     },
     "execution_count": 190,
     "metadata": {},
     "output_type": "execute_result"
    }
   ],
   "source": [
    "cv_score=cross_val_score (ls , x, y,cv=2) \n",
    "cv_mean=cv_score.mean() \n",
    "cv_mean"
   ]
  },
  {
   "cell_type": "markdown",
   "metadata": {},
   "source": [
    "# Ensemble Technique"
   ]
  },
  {
   "cell_type": "code",
   "execution_count": 191,
   "metadata": {},
   "outputs": [
    {
     "name": "stdout",
     "output_type": "stream",
     "text": [
      "{'criterion': 'mse', 'max_features': 'sqrt'}\n"
     ]
    }
   ],
   "source": [
    "from sklearn.model_selection import GridSearchCV \n",
    "from sklearn.ensemble import RandomForestRegressor \n",
    "\n",
    "\n",
    "parameters = {'criterion':['mse', 'mae'], 'max_features':['auto', 'sqrt','log2']}\n",
    "rf=RandomForestRegressor() \n",
    "clf = GridSearchCV(rf,parameters) \n",
    "clf.fit(x_train,y_train) \n",
    "print (clf.best_params_)"
   ]
  },
  {
   "cell_type": "code",
   "execution_count": 193,
   "metadata": {},
   "outputs": [
    {
     "name": "stdout",
     "output_type": "stream",
     "text": [
      "R2 core: 77.53434734231145\n",
      "Cross Val Score: -63.132344940234475\n"
     ]
    }
   ],
   "source": [
    "rf=RandomForestRegressor (criterion=\"mse\", max_features=\"auto\") \n",
    "rf.fit(x_train, y_train) \n",
    "rf.score(x_train,y_train) \n",
    "pred_decision =rf.predict(x_test) \n",
    "\n",
    "rfs = r2_score(y_test, pred_decision) \n",
    "print('R2 core:' , rfs*100 ) \n",
    "     \n",
    "rfscore = cross_val_score( rf,x,y,cv=2) \n",
    "rfc = rfscore.mean() \n",
    "print('Cross Val Score:',rfc* 100)"
   ]
  },
  {
   "cell_type": "code",
   "execution_count": 195,
   "metadata": {},
   "outputs": [],
   "source": [
    "import pickle \n",
    "filename = 'AvacadoProject.pkl'\n",
    "pickle.dump(rf, open( filename, 'wb' ))"
   ]
  },
  {
   "cell_type": "code",
   "execution_count": null,
   "metadata": {},
   "outputs": [],
   "source": []
  },
  {
   "cell_type": "markdown",
   "metadata": {},
   "source": [
    "# Conclusion"
   ]
  },
  {
   "cell_type": "code",
   "execution_count": 197,
   "metadata": {},
   "outputs": [
    {
     "name": "stdout",
     "output_type": "stream",
     "text": [
      "0.7753434734231145\n"
     ]
    }
   ],
   "source": [
    "loaded_model = pickle.load(open('AvacadoProject.pkl', 'rb')) \n",
    "result = loaded_model.score(x_test, y_test)\n",
    "\n",
    "print(result)"
   ]
  },
  {
   "cell_type": "code",
   "execution_count": 198,
   "metadata": {},
   "outputs": [
    {
     "data": {
      "text/html": [
       "<div>\n",
       "<style scoped>\n",
       "    .dataframe tbody tr th:only-of-type {\n",
       "        vertical-align: middle;\n",
       "    }\n",
       "\n",
       "    .dataframe tbody tr th {\n",
       "        vertical-align: top;\n",
       "    }\n",
       "\n",
       "    .dataframe thead th {\n",
       "        text-align: right;\n",
       "    }\n",
       "</style>\n",
       "<table border=\"1\" class=\"dataframe\">\n",
       "  <thead>\n",
       "    <tr style=\"text-align: right;\">\n",
       "      <th></th>\n",
       "      <th>0</th>\n",
       "      <th>1</th>\n",
       "      <th>2</th>\n",
       "      <th>3</th>\n",
       "      <th>4</th>\n",
       "      <th>5</th>\n",
       "      <th>6</th>\n",
       "      <th>7</th>\n",
       "      <th>8</th>\n",
       "      <th>9</th>\n",
       "      <th>...</th>\n",
       "      <th>294</th>\n",
       "      <th>295</th>\n",
       "      <th>296</th>\n",
       "      <th>297</th>\n",
       "      <th>298</th>\n",
       "      <th>299</th>\n",
       "      <th>300</th>\n",
       "      <th>301</th>\n",
       "      <th>302</th>\n",
       "      <th>303</th>\n",
       "    </tr>\n",
       "  </thead>\n",
       "  <tbody>\n",
       "    <tr>\n",
       "      <th>Predicted</th>\n",
       "      <td>1.3467</td>\n",
       "      <td>1.116</td>\n",
       "      <td>0.7235</td>\n",
       "      <td>1.0509</td>\n",
       "      <td>1.1016</td>\n",
       "      <td>1.0629</td>\n",
       "      <td>1.096</td>\n",
       "      <td>0.7985</td>\n",
       "      <td>0.7585</td>\n",
       "      <td>1.0673</td>\n",
       "      <td>...</td>\n",
       "      <td>0.9598</td>\n",
       "      <td>0.7251</td>\n",
       "      <td>1.1595</td>\n",
       "      <td>1.0017</td>\n",
       "      <td>1.0356</td>\n",
       "      <td>1.0042</td>\n",
       "      <td>1.0197</td>\n",
       "      <td>1.0207</td>\n",
       "      <td>1.2884</td>\n",
       "      <td>1.0217</td>\n",
       "    </tr>\n",
       "    <tr>\n",
       "      <th>orginal</th>\n",
       "      <td>1.3467</td>\n",
       "      <td>1.116</td>\n",
       "      <td>0.7235</td>\n",
       "      <td>1.0509</td>\n",
       "      <td>1.1016</td>\n",
       "      <td>1.0629</td>\n",
       "      <td>1.096</td>\n",
       "      <td>0.7985</td>\n",
       "      <td>0.7585</td>\n",
       "      <td>1.0673</td>\n",
       "      <td>...</td>\n",
       "      <td>0.9598</td>\n",
       "      <td>0.7251</td>\n",
       "      <td>1.1595</td>\n",
       "      <td>1.0017</td>\n",
       "      <td>1.0356</td>\n",
       "      <td>1.0042</td>\n",
       "      <td>1.0197</td>\n",
       "      <td>1.0207</td>\n",
       "      <td>1.2884</td>\n",
       "      <td>1.0217</td>\n",
       "    </tr>\n",
       "  </tbody>\n",
       "</table>\n",
       "<p>2 rows × 304 columns</p>\n",
       "</div>"
      ],
      "text/plain": [
       "              0      1       2       3       4       5      6       7    \\\n",
       "Predicted  1.3467  1.116  0.7235  1.0509  1.1016  1.0629  1.096  0.7985   \n",
       "orginal    1.3467  1.116  0.7235  1.0509  1.1016  1.0629  1.096  0.7985   \n",
       "\n",
       "              8       9    ...     294     295     296     297     298  \\\n",
       "Predicted  0.7585  1.0673  ...  0.9598  0.7251  1.1595  1.0017  1.0356   \n",
       "orginal    0.7585  1.0673  ...  0.9598  0.7251  1.1595  1.0017  1.0356   \n",
       "\n",
       "              299     300     301     302     303  \n",
       "Predicted  1.0042  1.0197  1.0207  1.2884  1.0217  \n",
       "orginal    1.0042  1.0197  1.0207  1.2884  1.0217  \n",
       "\n",
       "[2 rows x 304 columns]"
      ]
     },
     "execution_count": 198,
     "metadata": {},
     "output_type": "execute_result"
    }
   ],
   "source": [
    "conclusion=pd. DataFrame([loaded_model.predict(x_test)[:], pred_decision[:]], index=[\"Predicted\", \"orginal\"])\n",
    "\n",
    "conclusion"
   ]
  },
  {
   "cell_type": "raw",
   "metadata": {},
   "source": [
    "As seen Predicted and Orignal variables are same which indicates the model is working well."
   ]
  },
  {
   "cell_type": "code",
   "execution_count": null,
   "metadata": {},
   "outputs": [],
   "source": []
  }
 ],
 "metadata": {
  "kernelspec": {
   "display_name": "Python 3",
   "language": "python",
   "name": "python3"
  },
  "language_info": {
   "codemirror_mode": {
    "name": "ipython",
    "version": 3
   },
   "file_extension": ".py",
   "mimetype": "text/x-python",
   "name": "python",
   "nbconvert_exporter": "python",
   "pygments_lexer": "ipython3",
   "version": "3.8.3"
  }
 },
 "nbformat": 4,
 "nbformat_minor": 4
}
