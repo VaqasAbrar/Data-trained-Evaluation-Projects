{
 "cells": [
  {
   "cell_type": "raw",
   "metadata": {},
   "source": [
    "Flight Price Prediction:\n",
    "\n",
    "\n",
    "Flight ticket prices can be something hard to guess, today we might see a price, check out the price of the same flight tomorrow, it will be a different story. We might have often heard travellers saying that flight ticket prices are so unpredictable. Here you will be provided with prices of flight tickets for various airlines between the months of March and June of 2019 and between various cities.\n",
    "\n",
    "\n",
    "\n",
    "Variables:\n",
    "\n",
    "Airline: The name of the airline.\n",
    "\n",
    "Date_of_Journey: The date of the journey\n",
    "\n",
    "Source: The source from which the service begins.\n",
    "\n",
    "Destination: The destination where the service ends.\n",
    "\n",
    "Route: The route taken by the flight to reach the destination.\n",
    "\n",
    "Dep_Time: The time when the journey starts from the source.\n",
    "\n",
    "Arrival_Time: Time of arrival at the destination.\n",
    "\n",
    "Duration: Total duration of the flight.\n",
    "\n",
    "Total_Stops: Total stops between the source and destination.\n",
    "\n",
    "Additional_Info: Additional information about the flight\n",
    "\n",
    "\n",
    "Target variable:\n",
    "\n",
    "Price: The price of the ticket\n",
    "\n",
    "\n",
    "\n",
    "Goal is to create a ML model to predict the prices of flight tickets."
   ]
  },
  {
   "cell_type": "code",
   "execution_count": 1,
   "metadata": {},
   "outputs": [],
   "source": [
    "import pandas as pd\n",
    "import numpy as np\n",
    "from sklearn.model_selection import train_test_split\n",
    "import warnings\n",
    "warnings.filterwarnings('ignore')"
   ]
  },
  {
   "cell_type": "code",
   "execution_count": 2,
   "metadata": {},
   "outputs": [
    {
     "data": {
      "text/html": [
       "<div>\n",
       "<style scoped>\n",
       "    .dataframe tbody tr th:only-of-type {\n",
       "        vertical-align: middle;\n",
       "    }\n",
       "\n",
       "    .dataframe tbody tr th {\n",
       "        vertical-align: top;\n",
       "    }\n",
       "\n",
       "    .dataframe thead th {\n",
       "        text-align: right;\n",
       "    }\n",
       "</style>\n",
       "<table border=\"1\" class=\"dataframe\">\n",
       "  <thead>\n",
       "    <tr style=\"text-align: right;\">\n",
       "      <th></th>\n",
       "      <th>Airline</th>\n",
       "      <th>Date_of_Journey</th>\n",
       "      <th>Source</th>\n",
       "      <th>Destination</th>\n",
       "      <th>Route</th>\n",
       "      <th>Dep_Time</th>\n",
       "      <th>Arrival_Time</th>\n",
       "      <th>Duration</th>\n",
       "      <th>Total_Stops</th>\n",
       "      <th>Additional_Info</th>\n",
       "      <th>Price</th>\n",
       "    </tr>\n",
       "  </thead>\n",
       "  <tbody>\n",
       "    <tr>\n",
       "      <th>0</th>\n",
       "      <td>IndiGo</td>\n",
       "      <td>24/03/2019</td>\n",
       "      <td>Banglore</td>\n",
       "      <td>New Delhi</td>\n",
       "      <td>BLR → DEL</td>\n",
       "      <td>22:20</td>\n",
       "      <td>01:10 22 Mar</td>\n",
       "      <td>2h 50m</td>\n",
       "      <td>non-stop</td>\n",
       "      <td>No info</td>\n",
       "      <td>3897</td>\n",
       "    </tr>\n",
       "    <tr>\n",
       "      <th>1</th>\n",
       "      <td>Air India</td>\n",
       "      <td>1/05/2019</td>\n",
       "      <td>Kolkata</td>\n",
       "      <td>Banglore</td>\n",
       "      <td>CCU → IXR → BBI → BLR</td>\n",
       "      <td>05:50</td>\n",
       "      <td>13:15</td>\n",
       "      <td>7h 25m</td>\n",
       "      <td>2 stops</td>\n",
       "      <td>No info</td>\n",
       "      <td>7662</td>\n",
       "    </tr>\n",
       "    <tr>\n",
       "      <th>2</th>\n",
       "      <td>Jet Airways</td>\n",
       "      <td>9/06/2019</td>\n",
       "      <td>Delhi</td>\n",
       "      <td>Cochin</td>\n",
       "      <td>DEL → LKO → BOM → COK</td>\n",
       "      <td>09:25</td>\n",
       "      <td>04:25 10 Jun</td>\n",
       "      <td>19h</td>\n",
       "      <td>2 stops</td>\n",
       "      <td>No info</td>\n",
       "      <td>13882</td>\n",
       "    </tr>\n",
       "    <tr>\n",
       "      <th>3</th>\n",
       "      <td>IndiGo</td>\n",
       "      <td>12/05/2019</td>\n",
       "      <td>Kolkata</td>\n",
       "      <td>Banglore</td>\n",
       "      <td>CCU → NAG → BLR</td>\n",
       "      <td>18:05</td>\n",
       "      <td>23:30</td>\n",
       "      <td>5h 25m</td>\n",
       "      <td>1 stop</td>\n",
       "      <td>No info</td>\n",
       "      <td>6218</td>\n",
       "    </tr>\n",
       "    <tr>\n",
       "      <th>4</th>\n",
       "      <td>IndiGo</td>\n",
       "      <td>01/03/2019</td>\n",
       "      <td>Banglore</td>\n",
       "      <td>New Delhi</td>\n",
       "      <td>BLR → NAG → DEL</td>\n",
       "      <td>16:50</td>\n",
       "      <td>21:35</td>\n",
       "      <td>4h 45m</td>\n",
       "      <td>1 stop</td>\n",
       "      <td>No info</td>\n",
       "      <td>13302</td>\n",
       "    </tr>\n",
       "    <tr>\n",
       "      <th>...</th>\n",
       "      <td>...</td>\n",
       "      <td>...</td>\n",
       "      <td>...</td>\n",
       "      <td>...</td>\n",
       "      <td>...</td>\n",
       "      <td>...</td>\n",
       "      <td>...</td>\n",
       "      <td>...</td>\n",
       "      <td>...</td>\n",
       "      <td>...</td>\n",
       "      <td>...</td>\n",
       "    </tr>\n",
       "    <tr>\n",
       "      <th>10678</th>\n",
       "      <td>Air Asia</td>\n",
       "      <td>9/04/2019</td>\n",
       "      <td>Kolkata</td>\n",
       "      <td>Banglore</td>\n",
       "      <td>CCU → BLR</td>\n",
       "      <td>19:55</td>\n",
       "      <td>22:25</td>\n",
       "      <td>2h 30m</td>\n",
       "      <td>non-stop</td>\n",
       "      <td>No info</td>\n",
       "      <td>4107</td>\n",
       "    </tr>\n",
       "    <tr>\n",
       "      <th>10679</th>\n",
       "      <td>Air India</td>\n",
       "      <td>27/04/2019</td>\n",
       "      <td>Kolkata</td>\n",
       "      <td>Banglore</td>\n",
       "      <td>CCU → BLR</td>\n",
       "      <td>20:45</td>\n",
       "      <td>23:20</td>\n",
       "      <td>2h 35m</td>\n",
       "      <td>non-stop</td>\n",
       "      <td>No info</td>\n",
       "      <td>4145</td>\n",
       "    </tr>\n",
       "    <tr>\n",
       "      <th>10680</th>\n",
       "      <td>Jet Airways</td>\n",
       "      <td>27/04/2019</td>\n",
       "      <td>Banglore</td>\n",
       "      <td>Delhi</td>\n",
       "      <td>BLR → DEL</td>\n",
       "      <td>08:20</td>\n",
       "      <td>11:20</td>\n",
       "      <td>3h</td>\n",
       "      <td>non-stop</td>\n",
       "      <td>No info</td>\n",
       "      <td>7229</td>\n",
       "    </tr>\n",
       "    <tr>\n",
       "      <th>10681</th>\n",
       "      <td>Vistara</td>\n",
       "      <td>01/03/2019</td>\n",
       "      <td>Banglore</td>\n",
       "      <td>New Delhi</td>\n",
       "      <td>BLR → DEL</td>\n",
       "      <td>11:30</td>\n",
       "      <td>14:10</td>\n",
       "      <td>2h 40m</td>\n",
       "      <td>non-stop</td>\n",
       "      <td>No info</td>\n",
       "      <td>12648</td>\n",
       "    </tr>\n",
       "    <tr>\n",
       "      <th>10682</th>\n",
       "      <td>Air India</td>\n",
       "      <td>9/05/2019</td>\n",
       "      <td>Delhi</td>\n",
       "      <td>Cochin</td>\n",
       "      <td>DEL → GOI → BOM → COK</td>\n",
       "      <td>10:55</td>\n",
       "      <td>19:15</td>\n",
       "      <td>8h 20m</td>\n",
       "      <td>2 stops</td>\n",
       "      <td>No info</td>\n",
       "      <td>11753</td>\n",
       "    </tr>\n",
       "  </tbody>\n",
       "</table>\n",
       "<p>10683 rows × 11 columns</p>\n",
       "</div>"
      ],
      "text/plain": [
       "           Airline Date_of_Journey    Source Destination  \\\n",
       "0           IndiGo      24/03/2019  Banglore   New Delhi   \n",
       "1        Air India       1/05/2019   Kolkata    Banglore   \n",
       "2      Jet Airways       9/06/2019     Delhi      Cochin   \n",
       "3           IndiGo      12/05/2019   Kolkata    Banglore   \n",
       "4           IndiGo      01/03/2019  Banglore   New Delhi   \n",
       "...            ...             ...       ...         ...   \n",
       "10678     Air Asia       9/04/2019   Kolkata    Banglore   \n",
       "10679    Air India      27/04/2019   Kolkata    Banglore   \n",
       "10680  Jet Airways      27/04/2019  Banglore       Delhi   \n",
       "10681      Vistara      01/03/2019  Banglore   New Delhi   \n",
       "10682    Air India       9/05/2019     Delhi      Cochin   \n",
       "\n",
       "                       Route Dep_Time  Arrival_Time Duration Total_Stops  \\\n",
       "0                  BLR → DEL    22:20  01:10 22 Mar   2h 50m    non-stop   \n",
       "1      CCU → IXR → BBI → BLR    05:50         13:15   7h 25m     2 stops   \n",
       "2      DEL → LKO → BOM → COK    09:25  04:25 10 Jun      19h     2 stops   \n",
       "3            CCU → NAG → BLR    18:05         23:30   5h 25m      1 stop   \n",
       "4            BLR → NAG → DEL    16:50         21:35   4h 45m      1 stop   \n",
       "...                      ...      ...           ...      ...         ...   \n",
       "10678              CCU → BLR    19:55         22:25   2h 30m    non-stop   \n",
       "10679              CCU → BLR    20:45         23:20   2h 35m    non-stop   \n",
       "10680              BLR → DEL    08:20         11:20       3h    non-stop   \n",
       "10681              BLR → DEL    11:30         14:10   2h 40m    non-stop   \n",
       "10682  DEL → GOI → BOM → COK    10:55         19:15   8h 20m     2 stops   \n",
       "\n",
       "      Additional_Info  Price  \n",
       "0             No info   3897  \n",
       "1             No info   7662  \n",
       "2             No info  13882  \n",
       "3             No info   6218  \n",
       "4             No info  13302  \n",
       "...               ...    ...  \n",
       "10678         No info   4107  \n",
       "10679         No info   4145  \n",
       "10680         No info   7229  \n",
       "10681         No info  12648  \n",
       "10682         No info  11753  \n",
       "\n",
       "[10683 rows x 11 columns]"
      ]
     },
     "execution_count": 2,
     "metadata": {},
     "output_type": "execute_result"
    }
   ],
   "source": [
    "df=pd.read_excel('Data_Train.xlsx')\n",
    "df"
   ]
  },
  {
   "cell_type": "markdown",
   "metadata": {},
   "source": [
    "There are 10683 Rows and 11 Columns in the  train data."
   ]
  },
  {
   "cell_type": "code",
   "execution_count": 6,
   "metadata": {},
   "outputs": [
    {
     "data": {
      "text/plain": [
       "Airline            object\n",
       "Date_of_Journey    object\n",
       "Source             object\n",
       "Destination        object\n",
       "Route              object\n",
       "Dep_Time           object\n",
       "Arrival_Time       object\n",
       "Duration           object\n",
       "Total_Stops        object\n",
       "Additional_Info    object\n",
       "Price               int64\n",
       "dtype: object"
      ]
     },
     "execution_count": 6,
     "metadata": {},
     "output_type": "execute_result"
    }
   ],
   "source": [
    "df.dtypes"
   ]
  },
  {
   "cell_type": "markdown",
   "metadata": {},
   "source": [
    "All the columns are in String Data types except for the last column, which also happens to be our Target Variable \"Price\"."
   ]
  },
  {
   "cell_type": "code",
   "execution_count": 5,
   "metadata": {},
   "outputs": [
    {
     "data": {
      "text/html": [
       "<div>\n",
       "<style scoped>\n",
       "    .dataframe tbody tr th:only-of-type {\n",
       "        vertical-align: middle;\n",
       "    }\n",
       "\n",
       "    .dataframe tbody tr th {\n",
       "        vertical-align: top;\n",
       "    }\n",
       "\n",
       "    .dataframe thead th {\n",
       "        text-align: right;\n",
       "    }\n",
       "</style>\n",
       "<table border=\"1\" class=\"dataframe\">\n",
       "  <thead>\n",
       "    <tr style=\"text-align: right;\">\n",
       "      <th></th>\n",
       "      <th>Price</th>\n",
       "    </tr>\n",
       "  </thead>\n",
       "  <tbody>\n",
       "    <tr>\n",
       "      <th>count</th>\n",
       "      <td>10683.000000</td>\n",
       "    </tr>\n",
       "    <tr>\n",
       "      <th>mean</th>\n",
       "      <td>9087.064121</td>\n",
       "    </tr>\n",
       "    <tr>\n",
       "      <th>std</th>\n",
       "      <td>4611.359167</td>\n",
       "    </tr>\n",
       "    <tr>\n",
       "      <th>min</th>\n",
       "      <td>1759.000000</td>\n",
       "    </tr>\n",
       "    <tr>\n",
       "      <th>25%</th>\n",
       "      <td>5277.000000</td>\n",
       "    </tr>\n",
       "    <tr>\n",
       "      <th>50%</th>\n",
       "      <td>8372.000000</td>\n",
       "    </tr>\n",
       "    <tr>\n",
       "      <th>75%</th>\n",
       "      <td>12373.000000</td>\n",
       "    </tr>\n",
       "    <tr>\n",
       "      <th>max</th>\n",
       "      <td>79512.000000</td>\n",
       "    </tr>\n",
       "  </tbody>\n",
       "</table>\n",
       "</div>"
      ],
      "text/plain": [
       "              Price\n",
       "count  10683.000000\n",
       "mean    9087.064121\n",
       "std     4611.359167\n",
       "min     1759.000000\n",
       "25%     5277.000000\n",
       "50%     8372.000000\n",
       "75%    12373.000000\n",
       "max    79512.000000"
      ]
     },
     "execution_count": 5,
     "metadata": {},
     "output_type": "execute_result"
    }
   ],
   "source": [
    "df.describe()"
   ]
  },
  {
   "cell_type": "markdown",
   "metadata": {},
   "source": [
    "In the column \"Price\", Mean or the Average is 9087.06, Smallest and the Biggest values are 1759.0 & 79512.0 respectively."
   ]
  },
  {
   "cell_type": "code",
   "execution_count": 7,
   "metadata": {},
   "outputs": [
    {
     "data": {
      "text/plain": [
       "Airline            0\n",
       "Date_of_Journey    0\n",
       "Source             0\n",
       "Destination        0\n",
       "Route              1\n",
       "Dep_Time           0\n",
       "Arrival_Time       0\n",
       "Duration           0\n",
       "Total_Stops        1\n",
       "Additional_Info    0\n",
       "Price              0\n",
       "dtype: int64"
      ]
     },
     "execution_count": 7,
     "metadata": {},
     "output_type": "execute_result"
    }
   ],
   "source": [
    "df.isnull().sum()"
   ]
  },
  {
   "cell_type": "markdown",
   "metadata": {},
   "source": [
    "There are 2 Null Values present in the data. \n",
    "One in \"Destination\" column and other in \"Total_stops\""
   ]
  },
  {
   "cell_type": "code",
   "execution_count": 8,
   "metadata": {},
   "outputs": [
    {
     "data": {
      "image/png": "[encoded data removed]",
      "text/plain": [
       "<Figure size 432x288 with 2 Axes>"
      ]
     },
     "metadata": {
      "needs_background": "light"
     },
     "output_type": "display_data"
    }
   ],
   "source": [
    "import seaborn as sns\n",
    "import matplotlib.pyplot as plt\n",
    "sns.heatmap(df.isnull())\n",
    "plt.title('Null Values')\n",
    "plt.show()"
   ]
  },
  {
   "cell_type": "markdown",
   "metadata": {},
   "source": [
    "Due to very high numbers of columns and comperatively very low numbers of Null Values, There are no null values visible on the heat map."
   ]
  },
  {
   "cell_type": "code",
   "execution_count": 9,
   "metadata": {},
   "outputs": [],
   "source": [
    "df=df.dropna()"
   ]
  },
  {
   "cell_type": "code",
   "execution_count": 11,
   "metadata": {},
   "outputs": [
    {
     "data": {
      "text/plain": [
       "(10682, 11)"
      ]
     },
     "execution_count": 11,
     "metadata": {},
     "output_type": "execute_result"
    }
   ],
   "source": [
    "df.shape"
   ]
  },
  {
   "cell_type": "code",
   "execution_count": 10,
   "metadata": {},
   "outputs": [
    {
     "data": {
      "text/plain": [
       "Airline            0\n",
       "Date_of_Journey    0\n",
       "Source             0\n",
       "Destination        0\n",
       "Route              0\n",
       "Dep_Time           0\n",
       "Arrival_Time       0\n",
       "Duration           0\n",
       "Total_Stops        0\n",
       "Additional_Info    0\n",
       "Price              0\n",
       "dtype: int64"
      ]
     },
     "execution_count": 10,
     "metadata": {},
     "output_type": "execute_result"
    }
   ],
   "source": [
    "df.isnull().sum()"
   ]
  },
  {
   "cell_type": "markdown",
   "metadata": {},
   "source": [
    "Due to very high numbers of columns and only 2 null values, the column with Null Values is droped. There are no Null Values present in the data anymore."
   ]
  },
  {
   "cell_type": "markdown",
   "metadata": {},
   "source": [
    "# Data Visulisation"
   ]
  },
  {
   "cell_type": "code",
   "execution_count": 13,
   "metadata": {},
   "outputs": [
    {
     "name": "stdout",
     "output_type": "stream",
     "text": [
      "10682\n"
     ]
    },
    {
     "data": {
      "image/png": "[encoded data removed]",
      "text/plain": [
       "<Figure size 432x288 with 1 Axes>"
      ]
     },
     "metadata": {
      "needs_background": "light"
     },
     "output_type": "display_data"
    }
   ],
   "source": [
    "ax=sns.countplot(y='Airline',data=df)\n",
    "print(df['Airline'].count())"
   ]
  },
  {
   "cell_type": "markdown",
   "metadata": {},
   "source": [
    "As per the visualistion, 'Jet Airways' has the highest number of Flights and 'Vistara premium Economy', 'Jet Airways Business' and, 'Trujet' has the least number of Flights."
   ]
  },
  {
   "cell_type": "code",
   "execution_count": 14,
   "metadata": {
    "scrolled": true
   },
   "outputs": [
    {
     "name": "stdout",
     "output_type": "stream",
     "text": [
      "10682\n"
     ]
    },
    {
     "data": {
      "image/png": "[encoded data removed]",
      "text/plain": [
       "<Figure size 432x288 with 1 Axes>"
      ]
     },
     "metadata": {
      "needs_background": "light"
     },
     "output_type": "display_data"
    }
   ],
   "source": [
    "ax=sns.countplot(x='Source',data=df)\n",
    "print(df['Source'].count())"
   ]
  },
  {
   "cell_type": "markdown",
   "metadata": {},
   "source": [
    "'Delhi' is the most frequent Bording Airport, more than 4000 Flights were Boarded from Delhi, and 'Chennai' being the least boarded Airport where only around 500 Flights were boarded by their passengers."
   ]
  },
  {
   "cell_type": "code",
   "execution_count": 21,
   "metadata": {},
   "outputs": [
    {
     "name": "stdout",
     "output_type": "stream",
     "text": [
      "10682\n"
     ]
    },
    {
     "data": {
      "image/png": "[encoded data removed]",
      "text/plain": [
       "<Figure size 432x288 with 1 Axes>"
      ]
     },
     "metadata": {
      "needs_background": "light"
     },
     "output_type": "display_data"
    }
   ],
   "source": [
    "ax=sns.countplot(x='Destination',data=df)\n",
    "print(df['Destination'].count())"
   ]
  },
  {
   "cell_type": "markdown",
   "metadata": {},
   "source": [
    "More than 4000 Flights were completed in \"Cochin\", and least flights were destined for \"Kolkata\" i.e. 500."
   ]
  },
  {
   "cell_type": "code",
   "execution_count": 17,
   "metadata": {},
   "outputs": [
    {
     "name": "stdout",
     "output_type": "stream",
     "text": [
      "10682\n"
     ]
    },
    {
     "data": {
      "image/png": "[encoded data removed]",
      "text/plain": [
       "<Figure size 432x288 with 1 Axes>"
      ]
     },
     "metadata": {
      "needs_background": "light"
     },
     "output_type": "display_data"
    }
   ],
   "source": [
    "ax=sns.countplot(x='Total_Stops',data=df)\n",
    "print(df['Total_Stops'].count())"
   ]
  },
  {
   "cell_type": "markdown",
   "metadata": {},
   "source": [
    "Most Flights are having 1 Stop i.e. more than 5000 flights, And there are nearly no flights with 4 Stops.\n",
    "And around 3500 flights are Non-Stop."
   ]
  },
  {
   "cell_type": "code",
   "execution_count": 20,
   "metadata": {},
   "outputs": [
    {
     "name": "stdout",
     "output_type": "stream",
     "text": [
      "10682\n"
     ]
    },
    {
     "data": {
      "image/png": "[encoded data removed]",
      "text/plain": [
       "<Figure size 432x288 with 1 Axes>"
      ]
     },
     "metadata": {
      "needs_background": "light"
     },
     "output_type": "display_data"
    }
   ],
   "source": [
    "ax=sns.countplot(y='Additional_Info',data=df)\n",
    "print(df['Additional_Info'].count())"
   ]
  },
  {
   "cell_type": "markdown",
   "metadata": {},
   "source": [
    "Well, For addtional information more than 8000 flights have 'No-Info', But there are still 9 different Additional informations provided for rest of the flights."
   ]
  },
  {
   "cell_type": "code",
   "execution_count": 23,
   "metadata": {},
   "outputs": [
    {
     "name": "stdout",
     "output_type": "stream",
     "text": [
      "10682\n"
     ]
    },
    {
     "data": {
      "image/png": "[encoded data removed]",
      "text/plain": [
       "<Figure size 432x288 with 1 Axes>"
      ]
     },
     "metadata": {
      "needs_background": "light"
     },
     "output_type": "display_data"
    }
   ],
   "source": [
    "df['Price'].hist(grid=True)\n",
    "plt.title('Price')\n",
    "print(df['Price'].count())\n",
    "plt.show()"
   ]
  },
  {
   "cell_type": "markdown",
   "metadata": {},
   "source": [
    "More than 6000 flights are priced between 1000-9000, Around 4400 Flights are priced between 9000-17000, Around 100 Flights are priced Around 17000-25000 and About 100 flights are priced Around 25000-32000.   "
   ]
  },
  {
   "cell_type": "markdown",
   "metadata": {},
   "source": [
    "# Encoding the data"
   ]
  },
  {
   "cell_type": "code",
   "execution_count": 26,
   "metadata": {},
   "outputs": [
    {
     "data": {
      "text/plain": [
       "Index(['Airline', 'Date_of_Journey', 'Source', 'Destination', 'Route',\n",
       "       'Dep_Time', 'Arrival_Time', 'Duration', 'Total_Stops',\n",
       "       'Additional_Info', 'Price'],\n",
       "      dtype='object')"
      ]
     },
     "execution_count": 26,
     "metadata": {},
     "output_type": "execute_result"
    }
   ],
   "source": [
    "df.columns"
   ]
  },
  {
   "cell_type": "code",
   "execution_count": 27,
   "metadata": {},
   "outputs": [],
   "source": [
    "from sklearn.preprocessing import OrdinalEncoder\n",
    "enc=OrdinalEncoder()\n",
    "\n",
    "for i in df.columns:\n",
    "    if df[i].dtypes==\"object\":\n",
    "        df[i]=enc.fit_transform(df[i].values.reshape(-1,1))"
   ]
  },
  {
   "cell_type": "code",
   "execution_count": 28,
   "metadata": {},
   "outputs": [
    {
     "data": {
      "text/html": [
       "<div>\n",
       "<style scoped>\n",
       "    .dataframe tbody tr th:only-of-type {\n",
       "        vertical-align: middle;\n",
       "    }\n",
       "\n",
       "    .dataframe tbody tr th {\n",
       "        vertical-align: top;\n",
       "    }\n",
       "\n",
       "    .dataframe thead th {\n",
       "        text-align: right;\n",
       "    }\n",
       "</style>\n",
       "<table border=\"1\" class=\"dataframe\">\n",
       "  <thead>\n",
       "    <tr style=\"text-align: right;\">\n",
       "      <th></th>\n",
       "      <th>Airline</th>\n",
       "      <th>Date_of_Journey</th>\n",
       "      <th>Source</th>\n",
       "      <th>Destination</th>\n",
       "      <th>Route</th>\n",
       "      <th>Dep_Time</th>\n",
       "      <th>Arrival_Time</th>\n",
       "      <th>Duration</th>\n",
       "      <th>Total_Stops</th>\n",
       "      <th>Additional_Info</th>\n",
       "      <th>Price</th>\n",
       "    </tr>\n",
       "  </thead>\n",
       "  <tbody>\n",
       "    <tr>\n",
       "      <th>0</th>\n",
       "      <td>3.0</td>\n",
       "      <td>24.0</td>\n",
       "      <td>0.0</td>\n",
       "      <td>5.0</td>\n",
       "      <td>18.0</td>\n",
       "      <td>211.0</td>\n",
       "      <td>233.0</td>\n",
       "      <td>240.0</td>\n",
       "      <td>4.0</td>\n",
       "      <td>8.0</td>\n",
       "      <td>3897</td>\n",
       "    </tr>\n",
       "    <tr>\n",
       "      <th>1</th>\n",
       "      <td>1.0</td>\n",
       "      <td>6.0</td>\n",
       "      <td>3.0</td>\n",
       "      <td>0.0</td>\n",
       "      <td>84.0</td>\n",
       "      <td>31.0</td>\n",
       "      <td>906.0</td>\n",
       "      <td>336.0</td>\n",
       "      <td>1.0</td>\n",
       "      <td>8.0</td>\n",
       "      <td>7662</td>\n",
       "    </tr>\n",
       "    <tr>\n",
       "      <th>2</th>\n",
       "      <td>4.0</td>\n",
       "      <td>43.0</td>\n",
       "      <td>2.0</td>\n",
       "      <td>1.0</td>\n",
       "      <td>118.0</td>\n",
       "      <td>70.0</td>\n",
       "      <td>413.0</td>\n",
       "      <td>106.0</td>\n",
       "      <td>1.0</td>\n",
       "      <td>8.0</td>\n",
       "      <td>13882</td>\n",
       "    </tr>\n",
       "    <tr>\n",
       "      <th>3</th>\n",
       "      <td>3.0</td>\n",
       "      <td>10.0</td>\n",
       "      <td>3.0</td>\n",
       "      <td>0.0</td>\n",
       "      <td>91.0</td>\n",
       "      <td>164.0</td>\n",
       "      <td>1324.0</td>\n",
       "      <td>311.0</td>\n",
       "      <td>0.0</td>\n",
       "      <td>8.0</td>\n",
       "      <td>6218</td>\n",
       "    </tr>\n",
       "    <tr>\n",
       "      <th>4</th>\n",
       "      <td>3.0</td>\n",
       "      <td>0.0</td>\n",
       "      <td>0.0</td>\n",
       "      <td>5.0</td>\n",
       "      <td>29.0</td>\n",
       "      <td>149.0</td>\n",
       "      <td>1237.0</td>\n",
       "      <td>303.0</td>\n",
       "      <td>0.0</td>\n",
       "      <td>8.0</td>\n",
       "      <td>13302</td>\n",
       "    </tr>\n",
       "    <tr>\n",
       "      <th>...</th>\n",
       "      <td>...</td>\n",
       "      <td>...</td>\n",
       "      <td>...</td>\n",
       "      <td>...</td>\n",
       "      <td>...</td>\n",
       "      <td>...</td>\n",
       "      <td>...</td>\n",
       "      <td>...</td>\n",
       "      <td>...</td>\n",
       "      <td>...</td>\n",
       "      <td>...</td>\n",
       "    </tr>\n",
       "    <tr>\n",
       "      <th>10678</th>\n",
       "      <td>0.0</td>\n",
       "      <td>41.0</td>\n",
       "      <td>3.0</td>\n",
       "      <td>0.0</td>\n",
       "      <td>64.0</td>\n",
       "      <td>183.0</td>\n",
       "      <td>1259.0</td>\n",
       "      <td>236.0</td>\n",
       "      <td>4.0</td>\n",
       "      <td>8.0</td>\n",
       "      <td>4107</td>\n",
       "    </tr>\n",
       "    <tr>\n",
       "      <th>10679</th>\n",
       "      <td>1.0</td>\n",
       "      <td>29.0</td>\n",
       "      <td>3.0</td>\n",
       "      <td>0.0</td>\n",
       "      <td>64.0</td>\n",
       "      <td>193.0</td>\n",
       "      <td>1305.0</td>\n",
       "      <td>237.0</td>\n",
       "      <td>4.0</td>\n",
       "      <td>8.0</td>\n",
       "      <td>4145</td>\n",
       "    </tr>\n",
       "    <tr>\n",
       "      <th>10680</th>\n",
       "      <td>4.0</td>\n",
       "      <td>29.0</td>\n",
       "      <td>0.0</td>\n",
       "      <td>2.0</td>\n",
       "      <td>18.0</td>\n",
       "      <td>58.0</td>\n",
       "      <td>824.0</td>\n",
       "      <td>280.0</td>\n",
       "      <td>4.0</td>\n",
       "      <td>8.0</td>\n",
       "      <td>7229</td>\n",
       "    </tr>\n",
       "    <tr>\n",
       "      <th>10681</th>\n",
       "      <td>10.0</td>\n",
       "      <td>0.0</td>\n",
       "      <td>0.0</td>\n",
       "      <td>5.0</td>\n",
       "      <td>18.0</td>\n",
       "      <td>92.0</td>\n",
       "      <td>938.0</td>\n",
       "      <td>238.0</td>\n",
       "      <td>4.0</td>\n",
       "      <td>8.0</td>\n",
       "      <td>12648</td>\n",
       "    </tr>\n",
       "    <tr>\n",
       "      <th>10682</th>\n",
       "      <td>1.0</td>\n",
       "      <td>42.0</td>\n",
       "      <td>2.0</td>\n",
       "      <td>1.0</td>\n",
       "      <td>108.0</td>\n",
       "      <td>85.0</td>\n",
       "      <td>1124.0</td>\n",
       "      <td>347.0</td>\n",
       "      <td>1.0</td>\n",
       "      <td>8.0</td>\n",
       "      <td>11753</td>\n",
       "    </tr>\n",
       "  </tbody>\n",
       "</table>\n",
       "<p>10682 rows × 11 columns</p>\n",
       "</div>"
      ],
      "text/plain": [
       "       Airline  Date_of_Journey  Source  Destination  Route  Dep_Time  \\\n",
       "0          3.0             24.0     0.0          5.0   18.0     211.0   \n",
       "1          1.0              6.0     3.0          0.0   84.0      31.0   \n",
       "2          4.0             43.0     2.0          1.0  118.0      70.0   \n",
       "3          3.0             10.0     3.0          0.0   91.0     164.0   \n",
       "4          3.0              0.0     0.0          5.0   29.0     149.0   \n",
       "...        ...              ...     ...          ...    ...       ...   \n",
       "10678      0.0             41.0     3.0          0.0   64.0     183.0   \n",
       "10679      1.0             29.0     3.0          0.0   64.0     193.0   \n",
       "10680      4.0             29.0     0.0          2.0   18.0      58.0   \n",
       "10681     10.0              0.0     0.0          5.0   18.0      92.0   \n",
       "10682      1.0             42.0     2.0          1.0  108.0      85.0   \n",
       "\n",
       "       Arrival_Time  Duration  Total_Stops  Additional_Info  Price  \n",
       "0             233.0     240.0          4.0              8.0   3897  \n",
       "1             906.0     336.0          1.0              8.0   7662  \n",
       "2             413.0     106.0          1.0              8.0  13882  \n",
       "3            1324.0     311.0          0.0              8.0   6218  \n",
       "4            1237.0     303.0          0.0              8.0  13302  \n",
       "...             ...       ...          ...              ...    ...  \n",
       "10678        1259.0     236.0          4.0              8.0   4107  \n",
       "10679        1305.0     237.0          4.0              8.0   4145  \n",
       "10680         824.0     280.0          4.0              8.0   7229  \n",
       "10681         938.0     238.0          4.0              8.0  12648  \n",
       "10682        1124.0     347.0          1.0              8.0  11753  \n",
       "\n",
       "[10682 rows x 11 columns]"
      ]
     },
     "execution_count": 28,
     "metadata": {},
     "output_type": "execute_result"
    }
   ],
   "source": [
    "df"
   ]
  },
  {
   "cell_type": "code",
   "execution_count": null,
   "metadata": {},
   "outputs": [],
   "source": []
  },
  {
   "cell_type": "markdown",
   "metadata": {},
   "source": [
    "# Checking for Correlation"
   ]
  },
  {
   "cell_type": "code",
   "execution_count": 29,
   "metadata": {},
   "outputs": [
    {
     "data": {
      "image/png": "[encoded data removed]",
      "text/plain": [
       "<Figure size 432x288 with 2 Axes>"
      ]
     },
     "metadata": {
      "needs_background": "light"
     },
     "output_type": "display_data"
    }
   ],
   "source": [
    "sns.heatmap(df.corr(), annot=True)\n",
    "plt.title('Correlation Matrix')\n",
    "plt.show()"
   ]
  },
  {
   "cell_type": "code",
   "execution_count": 30,
   "metadata": {},
   "outputs": [
    {
     "data": {
      "text/plain": [
       "Price              1.000000\n",
       "Route              0.164149\n",
       "Arrival_Time       0.027358\n",
       "Source             0.015999\n",
       "Dep_Time           0.002931\n",
       "Date_of_Journey   -0.036907\n",
       "Airline           -0.039565\n",
       "Additional_Info   -0.065463\n",
       "Destination       -0.071122\n",
       "Duration          -0.144280\n",
       "Total_Stops       -0.571221\n",
       "Name: Price, dtype: float64"
      ]
     },
     "execution_count": 30,
     "metadata": {},
     "output_type": "execute_result"
    }
   ],
   "source": [
    "corr_matrix=df.corr()\n",
    "corr_matrix['Price'].sort_values(ascending=False)"
   ]
  },
  {
   "cell_type": "markdown",
   "metadata": {},
   "source": [
    "Variable 'Route' is Highly correlated to the Target Variable, Whereas 'Total_Stops' is Least Correlated."
   ]
  },
  {
   "cell_type": "markdown",
   "metadata": {},
   "source": [
    "# Checking for Skewness"
   ]
  },
  {
   "cell_type": "code",
   "execution_count": 31,
   "metadata": {},
   "outputs": [
    {
     "data": {
      "text/plain": [
       "Airline            0.731057\n",
       "Date_of_Journey   -0.070718\n",
       "Source            -0.424023\n",
       "Destination        1.244046\n",
       "Route             -0.501911\n",
       "Dep_Time           0.194914\n",
       "Arrival_Time      -0.606676\n",
       "Duration          -0.213498\n",
       "Total_Stops        0.631532\n",
       "Additional_Info   -1.779689\n",
       "Price              1.812405\n",
       "dtype: float64"
      ]
     },
     "execution_count": 31,
     "metadata": {},
     "output_type": "execute_result"
    }
   ],
   "source": [
    "df.skew()"
   ]
  },
  {
   "cell_type": "markdown",
   "metadata": {},
   "source": [
    "Keeping +/-(0.5) as the range of skewness.\n",
    "There are 6 columns out of the range of skewness."
   ]
  },
  {
   "cell_type": "code",
   "execution_count": 38,
   "metadata": {},
   "outputs": [],
   "source": [
    "x=df.drop('Price', axis =1)\n",
    "y=df['Price']"
   ]
  },
  {
   "cell_type": "code",
   "execution_count": 39,
   "metadata": {},
   "outputs": [],
   "source": [
    "from sklearn.preprocessing import power_transform\n",
    "df.new=power_transform(x)\n",
    "\n",
    "df.new=pd.DataFrame(df.new,columns=x.columns)"
   ]
  },
  {
   "cell_type": "code",
   "execution_count": 40,
   "metadata": {},
   "outputs": [
    {
     "data": {
      "text/plain": [
       "Airline           -0.015281\n",
       "Date_of_Journey   -0.228702\n",
       "Source            -0.238295\n",
       "Destination        0.041570\n",
       "Route             -0.442919\n",
       "Dep_Time          -0.150814\n",
       "Arrival_Time      -0.381687\n",
       "Duration          -0.390739\n",
       "Total_Stops        0.325086\n",
       "Additional_Info   -1.371943\n",
       "dtype: float64"
      ]
     },
     "execution_count": 40,
     "metadata": {},
     "output_type": "execute_result"
    }
   ],
   "source": [
    "df.new.skew()"
   ]
  },
  {
   "cell_type": "code",
   "execution_count": 41,
   "metadata": {},
   "outputs": [],
   "source": [
    "x=df.new"
   ]
  },
  {
   "cell_type": "markdown",
   "metadata": {},
   "source": [
    "# Checking For Outliers"
   ]
  },
  {
   "cell_type": "code",
   "execution_count": 42,
   "metadata": {},
   "outputs": [
    {
     "data": {
      "image/png": "[encoded data removed]",
      "text/plain": [
       "<Figure size 1440x576 with 1 Axes>"
      ]
     },
     "metadata": {
      "needs_background": "light"
     },
     "output_type": "display_data"
    }
   ],
   "source": [
    "x.boxplot(figsize=[20,8])\n",
    "plt.subplots_adjust(bottom=.25)\n",
    "plt.show()"
   ]
  },
  {
   "cell_type": "markdown",
   "metadata": {},
   "source": [
    "There are very few Outliers that could be seen near few columns but No treatment is required."
   ]
  },
  {
   "cell_type": "markdown",
   "metadata": {},
   "source": [
    "# Finding best random state"
   ]
  },
  {
   "cell_type": "code",
   "execution_count": 36,
   "metadata": {},
   "outputs": [],
   "source": [
    "from sklearn.linear_model import LinearRegression \n",
    "lr=LinearRegression() \n",
    "from sklearn.tree import DecisionTreeRegressor\n",
    "dtr=DecisionTreeRegressor()\n",
    "from sklearn.metrics import r2_score"
   ]
  },
  {
   "cell_type": "code",
   "execution_count": 44,
   "metadata": {},
   "outputs": [
    {
     "name": "stdout",
     "output_type": "stream",
     "text": [
      "At randon state 0, the training accuracy is:- 0.9961956012678292\n",
      "At random state 0, the testing accuracy is:0.7587424615242396\n",
      "\n",
      "\n",
      "At randon state 1, the training accuracy is:- 0.9959294340095393\n",
      "At random state 1, the testing accuracy is:0.7830927151637752\n",
      "\n",
      "\n",
      "At randon state 2, the training accuracy is:- 0.9961753024270718\n",
      "At random state 2, the testing accuracy is:0.8249871229016902\n",
      "\n",
      "\n",
      "At randon state 3, the training accuracy is:- 0.996784468646589\n",
      "At random state 3, the testing accuracy is:0.7077048291433399\n",
      "\n",
      "\n",
      "At randon state 4, the training accuracy is:- 0.9961742798912464\n",
      "At random state 4, the testing accuracy is:0.8272470921419635\n",
      "\n",
      "\n",
      "At randon state 5, the training accuracy is:- 0.9963410718502986\n",
      "At random state 5, the testing accuracy is:0.827112426724286\n",
      "\n",
      "\n",
      "At randon state 6, the training accuracy is:- 0.9959939423322358\n",
      "At random state 6, the testing accuracy is:0.8360595475172123\n",
      "\n",
      "\n",
      "At randon state 7, the training accuracy is:- 0.9966994985868153\n",
      "At random state 7, the testing accuracy is:0.849053878840919\n",
      "\n",
      "\n",
      "At randon state 8, the training accuracy is:- 0.9957111125997893\n",
      "At random state 8, the testing accuracy is:0.7246352276323698\n",
      "\n",
      "\n",
      "At randon state 9, the training accuracy is:- 0.9955656981378269\n",
      "At random state 9, the testing accuracy is:0.8469920292084345\n",
      "\n",
      "\n",
      "At randon state 10, the training accuracy is:- 0.9959342426331433\n",
      "At random state 10, the testing accuracy is:0.8099307824149066\n",
      "\n",
      "\n",
      "At randon state 11, the training accuracy is:- 0.9959829712848605\n",
      "At random state 11, the testing accuracy is:0.740686258125266\n",
      "\n",
      "\n",
      "At randon state 12, the training accuracy is:- 0.9963269456792836\n",
      "At random state 12, the testing accuracy is:0.774260210067184\n",
      "\n",
      "\n",
      "At randon state 13, the training accuracy is:- 0.9964738199102343\n",
      "At random state 13, the testing accuracy is:0.8340609175511028\n",
      "\n",
      "\n",
      "At randon state 14, the training accuracy is:- 0.9955919770894246\n",
      "At random state 14, the testing accuracy is:0.7649280649928109\n",
      "\n",
      "\n",
      "At randon state 15, the training accuracy is:- 0.9962993956838212\n",
      "At random state 15, the testing accuracy is:0.8130425280356014\n",
      "\n",
      "\n",
      "At randon state 16, the training accuracy is:- 0.9956543688955606\n",
      "At random state 16, the testing accuracy is:0.7612228843689454\n",
      "\n",
      "\n",
      "At randon state 17, the training accuracy is:- 0.9962407073538981\n",
      "At random state 17, the testing accuracy is:0.7401451380090955\n",
      "\n",
      "\n",
      "At randon state 18, the training accuracy is:- 0.9964903883867168\n",
      "At random state 18, the testing accuracy is:0.8119430068463623\n",
      "\n",
      "\n",
      "At randon state 19, the training accuracy is:- 0.996099401627093\n",
      "At random state 19, the testing accuracy is:0.8030367851231701\n",
      "\n",
      "\n",
      "At randon state 20, the training accuracy is:- 0.9963193337131014\n",
      "At random state 20, the testing accuracy is:0.7958285700911136\n",
      "\n",
      "\n",
      "At randon state 21, the training accuracy is:- 0.995972061178882\n",
      "At random state 21, the testing accuracy is:0.8405148376176781\n",
      "\n",
      "\n",
      "At randon state 22, the training accuracy is:- 0.9967586873532335\n",
      "At random state 22, the testing accuracy is:0.7802812536788213\n",
      "\n",
      "\n",
      "At randon state 23, the training accuracy is:- 0.9962418958243301\n",
      "At random state 23, the testing accuracy is:0.8072964195252779\n",
      "\n",
      "\n",
      "At randon state 24, the training accuracy is:- 0.9966359442574498\n",
      "At random state 24, the testing accuracy is:0.7578702043018186\n",
      "\n",
      "\n",
      "At randon state 25, the training accuracy is:- 0.9957008016939825\n",
      "At random state 25, the testing accuracy is:0.8428533002119156\n",
      "\n",
      "\n",
      "At randon state 26, the training accuracy is:- 0.9959407716601197\n",
      "At random state 26, the testing accuracy is:0.7781464251193959\n",
      "\n",
      "\n",
      "At randon state 27, the training accuracy is:- 0.9961083666227499\n",
      "At random state 27, the testing accuracy is:0.8102332924383815\n",
      "\n",
      "\n",
      "At randon state 28, the training accuracy is:- 0.9964400932543198\n",
      "At random state 28, the testing accuracy is:0.811463407136695\n",
      "\n",
      "\n",
      "At randon state 29, the training accuracy is:- 0.9958455789772832\n",
      "At random state 29, the testing accuracy is:0.8212281631835738\n",
      "\n",
      "\n",
      "At randon state 30, the training accuracy is:- 0.9961872655334787\n",
      "At random state 30, the testing accuracy is:0.763077220851116\n",
      "\n",
      "\n",
      "At randon state 31, the training accuracy is:- 0.9961321454812881\n",
      "At random state 31, the testing accuracy is:0.8486037341235984\n",
      "\n",
      "\n",
      "At randon state 32, the training accuracy is:- 0.9963690719749388\n",
      "At random state 32, the testing accuracy is:0.821717894159621\n",
      "\n",
      "\n",
      "At randon state 33, the training accuracy is:- 0.9957584860991983\n",
      "At random state 33, the testing accuracy is:0.823472371297054\n",
      "\n",
      "\n",
      "At randon state 34, the training accuracy is:- 0.9963490383785667\n",
      "At random state 34, the testing accuracy is:0.8581685421413993\n",
      "\n",
      "\n",
      "At randon state 35, the training accuracy is:- 0.9963713218548201\n",
      "At random state 35, the testing accuracy is:0.8007735973578691\n",
      "\n",
      "\n",
      "At randon state 36, the training accuracy is:- 0.9955703891995317\n",
      "At random state 36, the testing accuracy is:0.7101764886950472\n",
      "\n",
      "\n",
      "At randon state 37, the training accuracy is:- 0.9957496244688049\n",
      "At random state 37, the testing accuracy is:0.6131992141648289\n",
      "\n",
      "\n",
      "At randon state 38, the training accuracy is:- 0.9962765020892744\n",
      "At random state 38, the testing accuracy is:0.7984722188290417\n",
      "\n",
      "\n",
      "At randon state 39, the training accuracy is:- 0.9958112978378053\n",
      "At random state 39, the testing accuracy is:0.8213618321023568\n",
      "\n",
      "\n",
      "At randon state 40, the training accuracy is:- 0.996299388980019\n",
      "At random state 40, the testing accuracy is:0.7243628310759904\n",
      "\n",
      "\n",
      "At randon state 41, the training accuracy is:- 0.9960821658337475\n",
      "At random state 41, the testing accuracy is:0.7382395930406322\n",
      "\n",
      "\n",
      "At randon state 42, the training accuracy is:- 0.9955963815476628\n",
      "At random state 42, the testing accuracy is:0.7909418990048673\n",
      "\n",
      "\n",
      "At randon state 43, the training accuracy is:- 0.9958432839023333\n",
      "At random state 43, the testing accuracy is:0.7834180041769276\n",
      "\n",
      "\n",
      "At randon state 44, the training accuracy is:- 0.9968792538870516\n",
      "At random state 44, the testing accuracy is:0.7954298355617124\n",
      "\n",
      "\n",
      "At randon state 45, the training accuracy is:- 0.9957867194154242\n",
      "At random state 45, the testing accuracy is:0.7613821448306773\n",
      "\n",
      "\n",
      "At randon state 46, the training accuracy is:- 0.9957951047376187\n",
      "At random state 46, the testing accuracy is:0.7373168018998639\n",
      "\n",
      "\n",
      "At randon state 47, the training accuracy is:- 0.995991504644573\n",
      "At random state 47, the testing accuracy is:0.816725029531019\n",
      "\n",
      "\n",
      "At randon state 48, the training accuracy is:- 0.9963911961592737\n",
      "At random state 48, the testing accuracy is:0.7595704176226399\n",
      "\n",
      "\n",
      "At randon state 49, the training accuracy is:- 0.9964369224201757\n",
      "At random state 49, the testing accuracy is:0.7903699634458285\n",
      "\n",
      "\n",
      "At randon state 50, the training accuracy is:- 0.9960548283688399\n",
      "At random state 50, the testing accuracy is:0.7908768843399715\n",
      "\n",
      "\n",
      "At randon state 51, the training accuracy is:- 0.9956241879661903\n",
      "At random state 51, the testing accuracy is:0.8317083493292196\n",
      "\n",
      "\n",
      "At randon state 52, the training accuracy is:- 0.996281495187458\n",
      "At random state 52, the testing accuracy is:0.8217477482549002\n",
      "\n",
      "\n",
      "At randon state 53, the training accuracy is:- 0.9961566403283006\n",
      "At random state 53, the testing accuracy is:0.8414182977337756\n",
      "\n",
      "\n",
      "At randon state 54, the training accuracy is:- 0.9957500736514757\n",
      "At random state 54, the testing accuracy is:0.8055770768279421\n",
      "\n",
      "\n",
      "At randon state 55, the training accuracy is:- 0.9958301301700926\n",
      "At random state 55, the testing accuracy is:0.7756063379544389\n",
      "\n",
      "\n",
      "At randon state 56, the training accuracy is:- 0.9963151706795127\n",
      "At random state 56, the testing accuracy is:0.8120088317975604\n",
      "\n",
      "\n",
      "At randon state 57, the training accuracy is:- 0.9959858973345375\n",
      "At random state 57, the testing accuracy is:0.7690889665129338\n",
      "\n",
      "\n",
      "At randon state 58, the training accuracy is:- 0.9960541531348261\n",
      "At random state 58, the testing accuracy is:0.8503581471683027\n",
      "\n",
      "\n",
      "At randon state 59, the training accuracy is:- 0.9964457378238836\n",
      "At random state 59, the testing accuracy is:0.8215600287287727\n",
      "\n",
      "\n",
      "At randon state 60, the training accuracy is:- 0.9961953965166226\n",
      "At random state 60, the testing accuracy is:0.8212109541137564\n",
      "\n",
      "\n",
      "At randon state 61, the training accuracy is:- 0.9959468918641531\n",
      "At random state 61, the testing accuracy is:0.7861110355193862\n",
      "\n",
      "\n",
      "At randon state 62, the training accuracy is:- 0.9966203487776147\n",
      "At random state 62, the testing accuracy is:0.7957117795593164\n",
      "\n",
      "\n"
     ]
    },
    {
     "name": "stdout",
     "output_type": "stream",
     "text": [
      "At randon state 63, the training accuracy is:- 0.9964594090218737\n",
      "At random state 63, the testing accuracy is:0.7656901450051624\n",
      "\n",
      "\n",
      "At randon state 64, the training accuracy is:- 0.996043546357798\n",
      "At random state 64, the testing accuracy is:0.7968878491786913\n",
      "\n",
      "\n",
      "At randon state 65, the training accuracy is:- 0.9962153225773765\n",
      "At random state 65, the testing accuracy is:0.8065820139891527\n",
      "\n",
      "\n",
      "At randon state 66, the training accuracy is:- 0.9959495817318731\n",
      "At random state 66, the testing accuracy is:0.7665457051608319\n",
      "\n",
      "\n",
      "At randon state 67, the training accuracy is:- 0.995539165288936\n",
      "At random state 67, the testing accuracy is:0.850920877978283\n",
      "\n",
      "\n",
      "At randon state 68, the training accuracy is:- 0.9959812826480324\n",
      "At random state 68, the testing accuracy is:0.8020327649451444\n",
      "\n",
      "\n",
      "At randon state 69, the training accuracy is:- 0.9962309815037362\n",
      "At random state 69, the testing accuracy is:0.8553999669872471\n",
      "\n",
      "\n",
      "At randon state 70, the training accuracy is:- 0.9956255303698014\n",
      "At random state 70, the testing accuracy is:0.8069802673423834\n",
      "\n",
      "\n",
      "At randon state 71, the training accuracy is:- 0.9960699784451307\n",
      "At random state 71, the testing accuracy is:0.7790013282724632\n",
      "\n",
      "\n",
      "At randon state 72, the training accuracy is:- 0.996404958348357\n",
      "At random state 72, the testing accuracy is:0.8127813491344167\n",
      "\n",
      "\n",
      "At randon state 73, the training accuracy is:- 0.9965893891741564\n",
      "At random state 73, the testing accuracy is:0.8332360473891072\n",
      "\n",
      "\n",
      "At randon state 74, the training accuracy is:- 0.9964000249352167\n",
      "At random state 74, the testing accuracy is:0.8194061433899128\n",
      "\n",
      "\n",
      "At randon state 75, the training accuracy is:- 0.9963584678839837\n",
      "At random state 75, the testing accuracy is:0.7134222519298882\n",
      "\n",
      "\n",
      "At randon state 76, the training accuracy is:- 0.9959085789064294\n",
      "At random state 76, the testing accuracy is:0.7737316400681618\n",
      "\n",
      "\n",
      "At randon state 77, the training accuracy is:- 0.9965057147302868\n",
      "At random state 77, the testing accuracy is:0.836110608680581\n",
      "\n",
      "\n",
      "At randon state 78, the training accuracy is:- 0.9964784752819777\n",
      "At random state 78, the testing accuracy is:0.80604304205139\n",
      "\n",
      "\n",
      "At randon state 79, the training accuracy is:- 0.9963593818510542\n",
      "At random state 79, the testing accuracy is:0.7847760160041214\n",
      "\n",
      "\n",
      "At randon state 80, the training accuracy is:- 0.9955507636518938\n",
      "At random state 80, the testing accuracy is:0.8002995330066068\n",
      "\n",
      "\n",
      "At randon state 81, the training accuracy is:- 0.9956579398831514\n",
      "At random state 81, the testing accuracy is:0.8400744811502612\n",
      "\n",
      "\n",
      "At randon state 82, the training accuracy is:- 0.9963087749176153\n",
      "At random state 82, the testing accuracy is:0.7931312133005766\n",
      "\n",
      "\n",
      "At randon state 83, the training accuracy is:- 0.9966020055727876\n",
      "At random state 83, the testing accuracy is:0.7671907943496167\n",
      "\n",
      "\n",
      "At randon state 84, the training accuracy is:- 0.9960448696138141\n",
      "At random state 84, the testing accuracy is:0.7596402813256515\n",
      "\n",
      "\n",
      "At randon state 85, the training accuracy is:- 0.9961155165761146\n",
      "At random state 85, the testing accuracy is:0.7974912160815155\n",
      "\n",
      "\n",
      "At randon state 86, the training accuracy is:- 0.9960898793487697\n",
      "At random state 86, the testing accuracy is:0.7713348821390458\n",
      "\n",
      "\n",
      "At randon state 87, the training accuracy is:- 0.9962451424638037\n",
      "At random state 87, the testing accuracy is:0.7922063855689156\n",
      "\n",
      "\n",
      "At randon state 88, the training accuracy is:- 0.9964034149232027\n",
      "At random state 88, the testing accuracy is:0.8526512550960035\n",
      "\n",
      "\n",
      "At randon state 89, the training accuracy is:- 0.9964200828108685\n",
      "At random state 89, the testing accuracy is:0.8189650090472513\n",
      "\n",
      "\n",
      "At randon state 90, the training accuracy is:- 0.9966399903305633\n",
      "At random state 90, the testing accuracy is:0.7251549439567586\n",
      "\n",
      "\n",
      "At randon state 91, the training accuracy is:- 0.9969244855773058\n",
      "At random state 91, the testing accuracy is:0.8314463287924985\n",
      "\n",
      "\n",
      "At randon state 92, the training accuracy is:- 0.9959746923141923\n",
      "At random state 92, the testing accuracy is:0.7612453320840559\n",
      "\n",
      "\n",
      "At randon state 93, the training accuracy is:- 0.9964088882470972\n",
      "At random state 93, the testing accuracy is:0.8406036383247049\n",
      "\n",
      "\n",
      "At randon state 94, the training accuracy is:- 0.9956634247320154\n",
      "At random state 94, the testing accuracy is:0.8567252461837069\n",
      "\n",
      "\n",
      "At randon state 95, the training accuracy is:- 0.9962577262172125\n",
      "At random state 95, the testing accuracy is:0.794668626159279\n",
      "\n",
      "\n",
      "At randon state 96, the training accuracy is:- 0.9958664823598424\n",
      "At random state 96, the testing accuracy is:0.8408333462525861\n",
      "\n",
      "\n",
      "At randon state 97, the training accuracy is:- 0.9966689102989841\n",
      "At random state 97, the testing accuracy is:0.6904561428431588\n",
      "\n",
      "\n",
      "At randon state 98, the training accuracy is:- 0.9964963030610907\n",
      "At random state 98, the testing accuracy is:0.8465490322990942\n",
      "\n",
      "\n",
      "At randon state 99, the training accuracy is:- 0.9963620672081126\n",
      "At random state 99, the testing accuracy is:0.7264300872388745\n",
      "\n",
      "\n"
     ]
    }
   ],
   "source": [
    "for i in range(0,100):\n",
    "    x_train, x_test, y_train, y_test=train_test_split(x, y, test_size=0.2, random_state=i)\n",
    "    dtr.fit(x_train,y_train) \n",
    "    pred_train=dtr.predict(x_train) \n",
    "    pred_test=dtr.predict(x_test) \n",
    "    print (f\"At randon state {i}, the training accuracy is:- {r2_score(y_train, pred_train)}\") \n",
    "    print (f\"At random state {i}, the testing accuracy is:{r2_score(y_test,pred_test)}\") \n",
    "    print(\"\\n\")"
   ]
  },
  {
   "cell_type": "markdown",
   "metadata": {},
   "source": [
    "Best Accuracy is for Decision Tree Regressor model at Random State 69."
   ]
  },
  {
   "cell_type": "markdown",
   "metadata": {},
   "source": [
    "# Creating Train Test Split"
   ]
  },
  {
   "cell_type": "code",
   "execution_count": 63,
   "metadata": {},
   "outputs": [],
   "source": [
    "x_train, x_test, y_train, y_test=train_test_split(x, y, test_size=0.2, random_state=94)"
   ]
  },
  {
   "cell_type": "code",
   "execution_count": 64,
   "metadata": {},
   "outputs": [
    {
     "data": {
      "text/plain": [
       "DecisionTreeRegressor()"
      ]
     },
     "execution_count": 64,
     "metadata": {},
     "output_type": "execute_result"
    }
   ],
   "source": [
    "dtr.fit(x_train, y_train)"
   ]
  },
  {
   "cell_type": "code",
   "execution_count": 65,
   "metadata": {},
   "outputs": [],
   "source": [
    "prd_test=dtr.predict(x_test)"
   ]
  },
  {
   "cell_type": "code",
   "execution_count": 66,
   "metadata": {},
   "outputs": [
    {
     "name": "stdout",
     "output_type": "stream",
     "text": [
      "-0.8978816689297258\n"
     ]
    }
   ],
   "source": [
    "print (r2_score(y_test, pred_test))"
   ]
  },
  {
   "cell_type": "markdown",
   "metadata": {},
   "source": [
    "# Cross-validation of the model"
   ]
  },
  {
   "cell_type": "code",
   "execution_count": 67,
   "metadata": {},
   "outputs": [],
   "source": [
    "Train_accuracy=r2_score(y_train,pred_train) \n",
    "Test_accuracy= r2_score(y_test,pred_test)"
   ]
  },
  {
   "cell_type": "code",
   "execution_count": 68,
   "metadata": {},
   "outputs": [
    {
     "name": "stdout",
     "output_type": "stream",
     "text": [
      " At cross fold 2 the cv score is 0.2589695891841718 and accuracy score for training is -1.0628723165861307 and accuracy score for testing is -0.8978816689297258\n",
      "\n",
      "\n",
      " At cross fold 3 the cv score is 0.25892539642394613 and accuracy score for training is -1.0628723165861307 and accuracy score for testing is -0.8978816689297258\n",
      "\n",
      "\n",
      " At cross fold 4 the cv score is 0.2590638704724578 and accuracy score for training is -1.0628723165861307 and accuracy score for testing is -0.8978816689297258\n",
      "\n",
      "\n",
      " At cross fold 5 the cv score is 0.25907034466166695 and accuracy score for training is -1.0628723165861307 and accuracy score for testing is -0.8978816689297258\n",
      "\n",
      "\n",
      " At cross fold 6 the cv score is 0.2588366779612643 and accuracy score for training is -1.0628723165861307 and accuracy score for testing is -0.8978816689297258\n",
      "\n",
      "\n",
      " At cross fold 7 the cv score is 0.2590528927804347 and accuracy score for training is -1.0628723165861307 and accuracy score for testing is -0.8978816689297258\n",
      "\n",
      "\n",
      " At cross fold 8 the cv score is 0.25900096483644225 and accuracy score for training is -1.0628723165861307 and accuracy score for testing is -0.8978816689297258\n",
      "\n",
      "\n",
      " At cross fold 9 the cv score is 0.2596493122807904 and accuracy score for training is -1.0628723165861307 and accuracy score for testing is -0.8978816689297258\n",
      "\n",
      "\n"
     ]
    }
   ],
   "source": [
    "from sklearn.model_selection import cross_val_score \n",
    "for j in range (2,10):\n",
    "    cv_score=cross_val_score (lr , x, y, cv=j)\n",
    "    cv_mean=cv_score.mean()\n",
    "    print(f\" At cross fold {j} the cv score is {cv_mean} and accuracy score for training is {Train_accuracy} and accuracy score for testing is {Test_accuracy}\")  \n",
    "    print(\"\\n\")"
   ]
  },
  {
   "cell_type": "markdown",
   "metadata": {},
   "source": [
    "Since the number of folds don't have such impact on the accuracy and cv_score. So cv=5 is selected."
   ]
  },
  {
   "cell_type": "code",
   "execution_count": null,
   "metadata": {},
   "outputs": [],
   "source": []
  },
  {
   "cell_type": "code",
   "execution_count": 69,
   "metadata": {
    "scrolled": true
   },
   "outputs": [
    {
     "data": {
      "image/png": "[encoded data removed]",
      "text/plain": [
       "<Figure size 576x432 with 1 Axes>"
      ]
     },
     "metadata": {
      "needs_background": "light"
     },
     "output_type": "display_data"
    }
   ],
   "source": [
    "import matplotlib.pyplot as plt \n",
    "plt. figure(figsize=(8,6)) \n",
    "plt. scatter(x=y_test, y=pred_test, color='r') \n",
    "plt.plot(y_test, y_test, color='b') \n",
    "plt.xlabel('Actual Price', fontsize=14) \n",
    "plt.ylabel('predicted Price', fontsize=14) \n",
    "plt.title('Decision Tree regressor', fontsize=18) \n",
    "plt.show()"
   ]
  },
  {
   "cell_type": "markdown",
   "metadata": {},
   "source": [
    "# Regularization"
   ]
  },
  {
   "cell_type": "code",
   "execution_count": 70,
   "metadata": {},
   "outputs": [],
   "source": [
    "from sklearn.model_selection import GridSearchCV \n",
    "from sklearn.model_selection import cross_val_score"
   ]
  },
  {
   "cell_type": "code",
   "execution_count": 71,
   "metadata": {},
   "outputs": [
    {
     "name": "stdout",
     "output_type": "stream",
     "text": [
      "{'alpha': 1, 'random_state': 0}\n"
     ]
    }
   ],
   "source": [
    "from sklearn.linear_model import Lasso \n",
    "parameters = {'alpha' : [.0001, .001, .01, .1, 1, 10], 'random_state' :list (range(0,10))} \n",
    "ls= Lasso() \n",
    "clf= GridSearchCV(ls, parameters) \n",
    "clf.fit(x_train, y_train)\n",
    "print (clf.best_params_)"
   ]
  },
  {
   "cell_type": "code",
   "execution_count": 72,
   "metadata": {},
   "outputs": [
    {
     "data": {
      "text/plain": [
       "0.2590803037317851"
      ]
     },
     "execution_count": 72,
     "metadata": {},
     "output_type": "execute_result"
    }
   ],
   "source": [
    "cv_score=cross_val_score (ls , x, y,cv=5) \n",
    "cv_mean=cv_score.mean() \n",
    "cv_mean"
   ]
  },
  {
   "cell_type": "markdown",
   "metadata": {},
   "source": [
    "# Ensemble Technique"
   ]
  },
  {
   "cell_type": "code",
   "execution_count": 74,
   "metadata": {},
   "outputs": [
    {
     "name": "stdout",
     "output_type": "stream",
     "text": [
      "R2 core: 88.73199262028328\n",
      "Cross Val Score: 86.3637762088538\n"
     ]
    }
   ],
   "source": [
    "from sklearn.ensemble import RandomForestRegressor \n",
    "\n",
    "rf=RandomForestRegressor (criterion=\"mse\", max_features=\"auto\") \n",
    "rf.fit(x_train, y_train) \n",
    "rf.score(x_train,y_train) \n",
    "pred_decision =rf.predict(x_test) \n",
    "\n",
    "rfs = r2_score(y_test, pred_decision) \n",
    "print('R2 core:' , rfs*100 ) \n",
    "     \n",
    "rfscore = cross_val_score( rf,x,y,cv=5) \n",
    "rfc = rfscore.mean() \n",
    "print('Cross Val Score:',rfc* 100)"
   ]
  },
  {
   "cell_type": "code",
   "execution_count": null,
   "metadata": {},
   "outputs": [],
   "source": []
  },
  {
   "cell_type": "code",
   "execution_count": 75,
   "metadata": {},
   "outputs": [],
   "source": [
    "import pickle \n",
    "filename = 'FPP_train_project.pkl'\n",
    "pickle.dump(rf, open( filename, 'wb' ))"
   ]
  },
  {
   "cell_type": "markdown",
   "metadata": {},
   "source": [
    "# Conclusion"
   ]
  },
  {
   "cell_type": "code",
   "execution_count": 76,
   "metadata": {},
   "outputs": [
    {
     "name": "stdout",
     "output_type": "stream",
     "text": [
      "0.8873199262028327\n"
     ]
    }
   ],
   "source": [
    "loaded_model = pickle.load(open('FPP_train_project.pkl', 'rb')) \n",
    "result = loaded_model.score(x_test, y_test)\n",
    "\n",
    "print(result)"
   ]
  },
  {
   "cell_type": "code",
   "execution_count": 77,
   "metadata": {},
   "outputs": [
    {
     "data": {
      "text/html": [
       "<div>\n",
       "<style scoped>\n",
       "    .dataframe tbody tr th:only-of-type {\n",
       "        vertical-align: middle;\n",
       "    }\n",
       "\n",
       "    .dataframe tbody tr th {\n",
       "        vertical-align: top;\n",
       "    }\n",
       "\n",
       "    .dataframe thead th {\n",
       "        text-align: right;\n",
       "    }\n",
       "</style>\n",
       "<table border=\"1\" class=\"dataframe\">\n",
       "  <thead>\n",
       "    <tr style=\"text-align: right;\">\n",
       "      <th></th>\n",
       "      <th>0</th>\n",
       "      <th>1</th>\n",
       "      <th>2</th>\n",
       "      <th>3</th>\n",
       "      <th>4</th>\n",
       "      <th>5</th>\n",
       "      <th>6</th>\n",
       "      <th>7</th>\n",
       "      <th>8</th>\n",
       "      <th>9</th>\n",
       "      <th>...</th>\n",
       "      <th>2127</th>\n",
       "      <th>2128</th>\n",
       "      <th>2129</th>\n",
       "      <th>2130</th>\n",
       "      <th>2131</th>\n",
       "      <th>2132</th>\n",
       "      <th>2133</th>\n",
       "      <th>2134</th>\n",
       "      <th>2135</th>\n",
       "      <th>2136</th>\n",
       "    </tr>\n",
       "  </thead>\n",
       "  <tbody>\n",
       "    <tr>\n",
       "      <th>Predicted</th>\n",
       "      <td>2281.39</td>\n",
       "      <td>10352.51</td>\n",
       "      <td>12801.78</td>\n",
       "      <td>29344.24</td>\n",
       "      <td>5228.0</td>\n",
       "      <td>10733.81</td>\n",
       "      <td>4036.57</td>\n",
       "      <td>6380.54</td>\n",
       "      <td>4056.47</td>\n",
       "      <td>7499.08</td>\n",
       "      <td>...</td>\n",
       "      <td>14219.65</td>\n",
       "      <td>9387.37</td>\n",
       "      <td>15491.3</td>\n",
       "      <td>8796.05</td>\n",
       "      <td>16638.49</td>\n",
       "      <td>9327.507667</td>\n",
       "      <td>4398.97</td>\n",
       "      <td>12445.8</td>\n",
       "      <td>5557.98</td>\n",
       "      <td>14099.31</td>\n",
       "    </tr>\n",
       "    <tr>\n",
       "      <th>orginal</th>\n",
       "      <td>2281.39</td>\n",
       "      <td>10352.51</td>\n",
       "      <td>12801.78</td>\n",
       "      <td>29344.24</td>\n",
       "      <td>5228.0</td>\n",
       "      <td>10733.81</td>\n",
       "      <td>4036.57</td>\n",
       "      <td>6380.54</td>\n",
       "      <td>4056.47</td>\n",
       "      <td>7499.08</td>\n",
       "      <td>...</td>\n",
       "      <td>14219.65</td>\n",
       "      <td>9387.37</td>\n",
       "      <td>15491.3</td>\n",
       "      <td>8796.05</td>\n",
       "      <td>16638.49</td>\n",
       "      <td>9327.507667</td>\n",
       "      <td>4398.97</td>\n",
       "      <td>12445.8</td>\n",
       "      <td>5557.98</td>\n",
       "      <td>14099.31</td>\n",
       "    </tr>\n",
       "  </tbody>\n",
       "</table>\n",
       "<p>2 rows × 2137 columns</p>\n",
       "</div>"
      ],
      "text/plain": [
       "              0         1         2         3       4         5        6     \\\n",
       "Predicted  2281.39  10352.51  12801.78  29344.24  5228.0  10733.81  4036.57   \n",
       "orginal    2281.39  10352.51  12801.78  29344.24  5228.0  10733.81  4036.57   \n",
       "\n",
       "              7        8        9     ...      2127     2128     2129  \\\n",
       "Predicted  6380.54  4056.47  7499.08  ...  14219.65  9387.37  15491.3   \n",
       "orginal    6380.54  4056.47  7499.08  ...  14219.65  9387.37  15491.3   \n",
       "\n",
       "              2130      2131         2132     2133     2134     2135      2136  \n",
       "Predicted  8796.05  16638.49  9327.507667  4398.97  12445.8  5557.98  14099.31  \n",
       "orginal    8796.05  16638.49  9327.507667  4398.97  12445.8  5557.98  14099.31  \n",
       "\n",
       "[2 rows x 2137 columns]"
      ]
     },
     "execution_count": 77,
     "metadata": {},
     "output_type": "execute_result"
    }
   ],
   "source": [
    "conclusion=pd.DataFrame([loaded_model.predict(x_test)[:], pred_decision[:]], index=[\"Predicted\", \"orginal\"])\n",
    "\n",
    "conclusion"
   ]
  },
  {
   "cell_type": "markdown",
   "metadata": {},
   "source": [
    "After Training on different models we have reached to the best possible accuracy and r2 score."
   ]
  },
  {
   "cell_type": "code",
   "execution_count": null,
   "metadata": {},
   "outputs": [],
   "source": []
  },
  {
   "cell_type": "markdown",
   "metadata": {},
   "source": [
    "# Working on Test Data"
   ]
  },
  {
   "cell_type": "code",
   "execution_count": 78,
   "metadata": {},
   "outputs": [
    {
     "data": {
      "text/html": [
       "<div>\n",
       "<style scoped>\n",
       "    .dataframe tbody tr th:only-of-type {\n",
       "        vertical-align: middle;\n",
       "    }\n",
       "\n",
       "    .dataframe tbody tr th {\n",
       "        vertical-align: top;\n",
       "    }\n",
       "\n",
       "    .dataframe thead th {\n",
       "        text-align: right;\n",
       "    }\n",
       "</style>\n",
       "<table border=\"1\" class=\"dataframe\">\n",
       "  <thead>\n",
       "    <tr style=\"text-align: right;\">\n",
       "      <th></th>\n",
       "      <th>Airline</th>\n",
       "      <th>Date_of_Journey</th>\n",
       "      <th>Source</th>\n",
       "      <th>Destination</th>\n",
       "      <th>Route</th>\n",
       "      <th>Dep_Time</th>\n",
       "      <th>Arrival_Time</th>\n",
       "      <th>Duration</th>\n",
       "      <th>Total_Stops</th>\n",
       "      <th>Additional_Info</th>\n",
       "    </tr>\n",
       "  </thead>\n",
       "  <tbody>\n",
       "    <tr>\n",
       "      <th>0</th>\n",
       "      <td>Jet Airways</td>\n",
       "      <td>6/06/2019</td>\n",
       "      <td>Delhi</td>\n",
       "      <td>Cochin</td>\n",
       "      <td>DEL → BOM → COK</td>\n",
       "      <td>17:30</td>\n",
       "      <td>04:25 07 Jun</td>\n",
       "      <td>10h 55m</td>\n",
       "      <td>1 stop</td>\n",
       "      <td>No info</td>\n",
       "    </tr>\n",
       "    <tr>\n",
       "      <th>1</th>\n",
       "      <td>IndiGo</td>\n",
       "      <td>12/05/2019</td>\n",
       "      <td>Kolkata</td>\n",
       "      <td>Banglore</td>\n",
       "      <td>CCU → MAA → BLR</td>\n",
       "      <td>06:20</td>\n",
       "      <td>10:20</td>\n",
       "      <td>4h</td>\n",
       "      <td>1 stop</td>\n",
       "      <td>No info</td>\n",
       "    </tr>\n",
       "    <tr>\n",
       "      <th>2</th>\n",
       "      <td>Jet Airways</td>\n",
       "      <td>21/05/2019</td>\n",
       "      <td>Delhi</td>\n",
       "      <td>Cochin</td>\n",
       "      <td>DEL → BOM → COK</td>\n",
       "      <td>19:15</td>\n",
       "      <td>19:00 22 May</td>\n",
       "      <td>23h 45m</td>\n",
       "      <td>1 stop</td>\n",
       "      <td>In-flight meal not included</td>\n",
       "    </tr>\n",
       "    <tr>\n",
       "      <th>3</th>\n",
       "      <td>Multiple carriers</td>\n",
       "      <td>21/05/2019</td>\n",
       "      <td>Delhi</td>\n",
       "      <td>Cochin</td>\n",
       "      <td>DEL → BOM → COK</td>\n",
       "      <td>08:00</td>\n",
       "      <td>21:00</td>\n",
       "      <td>13h</td>\n",
       "      <td>1 stop</td>\n",
       "      <td>No info</td>\n",
       "    </tr>\n",
       "    <tr>\n",
       "      <th>4</th>\n",
       "      <td>Air Asia</td>\n",
       "      <td>24/06/2019</td>\n",
       "      <td>Banglore</td>\n",
       "      <td>Delhi</td>\n",
       "      <td>BLR → DEL</td>\n",
       "      <td>23:55</td>\n",
       "      <td>02:45 25 Jun</td>\n",
       "      <td>2h 50m</td>\n",
       "      <td>non-stop</td>\n",
       "      <td>No info</td>\n",
       "    </tr>\n",
       "    <tr>\n",
       "      <th>...</th>\n",
       "      <td>...</td>\n",
       "      <td>...</td>\n",
       "      <td>...</td>\n",
       "      <td>...</td>\n",
       "      <td>...</td>\n",
       "      <td>...</td>\n",
       "      <td>...</td>\n",
       "      <td>...</td>\n",
       "      <td>...</td>\n",
       "      <td>...</td>\n",
       "    </tr>\n",
       "    <tr>\n",
       "      <th>2666</th>\n",
       "      <td>Air India</td>\n",
       "      <td>6/06/2019</td>\n",
       "      <td>Kolkata</td>\n",
       "      <td>Banglore</td>\n",
       "      <td>CCU → DEL → BLR</td>\n",
       "      <td>20:30</td>\n",
       "      <td>20:25 07 Jun</td>\n",
       "      <td>23h 55m</td>\n",
       "      <td>1 stop</td>\n",
       "      <td>No info</td>\n",
       "    </tr>\n",
       "    <tr>\n",
       "      <th>2667</th>\n",
       "      <td>IndiGo</td>\n",
       "      <td>27/03/2019</td>\n",
       "      <td>Kolkata</td>\n",
       "      <td>Banglore</td>\n",
       "      <td>CCU → BLR</td>\n",
       "      <td>14:20</td>\n",
       "      <td>16:55</td>\n",
       "      <td>2h 35m</td>\n",
       "      <td>non-stop</td>\n",
       "      <td>No info</td>\n",
       "    </tr>\n",
       "    <tr>\n",
       "      <th>2668</th>\n",
       "      <td>Jet Airways</td>\n",
       "      <td>6/03/2019</td>\n",
       "      <td>Delhi</td>\n",
       "      <td>Cochin</td>\n",
       "      <td>DEL → BOM → COK</td>\n",
       "      <td>21:50</td>\n",
       "      <td>04:25 07 Mar</td>\n",
       "      <td>6h 35m</td>\n",
       "      <td>1 stop</td>\n",
       "      <td>No info</td>\n",
       "    </tr>\n",
       "    <tr>\n",
       "      <th>2669</th>\n",
       "      <td>Air India</td>\n",
       "      <td>6/03/2019</td>\n",
       "      <td>Delhi</td>\n",
       "      <td>Cochin</td>\n",
       "      <td>DEL → BOM → COK</td>\n",
       "      <td>04:00</td>\n",
       "      <td>19:15</td>\n",
       "      <td>15h 15m</td>\n",
       "      <td>1 stop</td>\n",
       "      <td>No info</td>\n",
       "    </tr>\n",
       "    <tr>\n",
       "      <th>2670</th>\n",
       "      <td>Multiple carriers</td>\n",
       "      <td>15/06/2019</td>\n",
       "      <td>Delhi</td>\n",
       "      <td>Cochin</td>\n",
       "      <td>DEL → BOM → COK</td>\n",
       "      <td>04:55</td>\n",
       "      <td>19:15</td>\n",
       "      <td>14h 20m</td>\n",
       "      <td>1 stop</td>\n",
       "      <td>No info</td>\n",
       "    </tr>\n",
       "  </tbody>\n",
       "</table>\n",
       "<p>2671 rows × 10 columns</p>\n",
       "</div>"
      ],
      "text/plain": [
       "                Airline Date_of_Journey    Source Destination  \\\n",
       "0           Jet Airways       6/06/2019     Delhi      Cochin   \n",
       "1                IndiGo      12/05/2019   Kolkata    Banglore   \n",
       "2           Jet Airways      21/05/2019     Delhi      Cochin   \n",
       "3     Multiple carriers      21/05/2019     Delhi      Cochin   \n",
       "4              Air Asia      24/06/2019  Banglore       Delhi   \n",
       "...                 ...             ...       ...         ...   \n",
       "2666          Air India       6/06/2019   Kolkata    Banglore   \n",
       "2667             IndiGo      27/03/2019   Kolkata    Banglore   \n",
       "2668        Jet Airways       6/03/2019     Delhi      Cochin   \n",
       "2669          Air India       6/03/2019     Delhi      Cochin   \n",
       "2670  Multiple carriers      15/06/2019     Delhi      Cochin   \n",
       "\n",
       "                Route Dep_Time  Arrival_Time Duration Total_Stops  \\\n",
       "0     DEL → BOM → COK    17:30  04:25 07 Jun  10h 55m      1 stop   \n",
       "1     CCU → MAA → BLR    06:20         10:20       4h      1 stop   \n",
       "2     DEL → BOM → COK    19:15  19:00 22 May  23h 45m      1 stop   \n",
       "3     DEL → BOM → COK    08:00         21:00      13h      1 stop   \n",
       "4           BLR → DEL    23:55  02:45 25 Jun   2h 50m    non-stop   \n",
       "...               ...      ...           ...      ...         ...   \n",
       "2666  CCU → DEL → BLR    20:30  20:25 07 Jun  23h 55m      1 stop   \n",
       "2667        CCU → BLR    14:20         16:55   2h 35m    non-stop   \n",
       "2668  DEL → BOM → COK    21:50  04:25 07 Mar   6h 35m      1 stop   \n",
       "2669  DEL → BOM → COK    04:00         19:15  15h 15m      1 stop   \n",
       "2670  DEL → BOM → COK    04:55         19:15  14h 20m      1 stop   \n",
       "\n",
       "                  Additional_Info  \n",
       "0                         No info  \n",
       "1                         No info  \n",
       "2     In-flight meal not included  \n",
       "3                         No info  \n",
       "4                         No info  \n",
       "...                           ...  \n",
       "2666                      No info  \n",
       "2667                      No info  \n",
       "2668                      No info  \n",
       "2669                      No info  \n",
       "2670                      No info  \n",
       "\n",
       "[2671 rows x 10 columns]"
      ]
     },
     "execution_count": 78,
     "metadata": {},
     "output_type": "execute_result"
    }
   ],
   "source": [
    "df.test=pd.read_excel('Test_Set.xlsx')\n",
    "df.test"
   ]
  },
  {
   "cell_type": "markdown",
   "metadata": {},
   "source": [
    "There are 2671 Rows and 10 Columns in the Test Data."
   ]
  },
  {
   "cell_type": "code",
   "execution_count": 79,
   "metadata": {},
   "outputs": [
    {
     "data": {
      "text/plain": [
       "Airline            object\n",
       "Date_of_Journey    object\n",
       "Source             object\n",
       "Destination        object\n",
       "Route              object\n",
       "Dep_Time           object\n",
       "Arrival_Time       object\n",
       "Duration           object\n",
       "Total_Stops        object\n",
       "Additional_Info    object\n",
       "dtype: object"
      ]
     },
     "execution_count": 79,
     "metadata": {},
     "output_type": "execute_result"
    }
   ],
   "source": [
    "df.test.dtypes"
   ]
  },
  {
   "cell_type": "markdown",
   "metadata": {},
   "source": [
    "All the values are in the 'Object' data type thrghout the test Data."
   ]
  },
  {
   "cell_type": "code",
   "execution_count": 80,
   "metadata": {},
   "outputs": [
    {
     "data": {
      "text/plain": [
       "Airline            0\n",
       "Date_of_Journey    0\n",
       "Source             0\n",
       "Destination        0\n",
       "Route              0\n",
       "Dep_Time           0\n",
       "Arrival_Time       0\n",
       "Duration           0\n",
       "Total_Stops        0\n",
       "Additional_Info    0\n",
       "dtype: int64"
      ]
     },
     "execution_count": 80,
     "metadata": {},
     "output_type": "execute_result"
    }
   ],
   "source": [
    "df.test.isnull().sum()"
   ]
  },
  {
   "cell_type": "markdown",
   "metadata": {},
   "source": [
    "There are no Null Values in the Data."
   ]
  },
  {
   "cell_type": "code",
   "execution_count": 81,
   "metadata": {},
   "outputs": [
    {
     "data": {
      "image/png": "[encoded data removed]",
      "text/plain": [
       "<Figure size 432x288 with 2 Axes>"
      ]
     },
     "metadata": {
      "needs_background": "light"
     },
     "output_type": "display_data"
    }
   ],
   "source": [
    "import seaborn as sns\n",
    "import matplotlib.pyplot as plt\n",
    "sns.heatmap(df.test.isnull())\n",
    "plt.title('Null Values')\n",
    "plt.show()"
   ]
  },
  {
   "cell_type": "markdown",
   "metadata": {},
   "source": [
    "As observed earlier there are no null values."
   ]
  },
  {
   "cell_type": "markdown",
   "metadata": {},
   "source": [
    "# Data Visulisation"
   ]
  },
  {
   "cell_type": "code",
   "execution_count": 84,
   "metadata": {},
   "outputs": [],
   "source": [
    "Index=['Airline', 'Date_of_Journey', 'Source', 'Destination', 'Route',\n",
    "       'Dep_Time', 'Arrival_Time', 'Duration', 'Total_Stops',\n",
    "       'Additional_Info', 'Price']"
   ]
  },
  {
   "cell_type": "code",
   "execution_count": 91,
   "metadata": {},
   "outputs": [
    {
     "name": "stdout",
     "output_type": "stream",
     "text": [
      "2671\n"
     ]
    },
    {
     "data": {
      "image/png": "[encoded data removed]",
      "text/plain": [
       "<Figure size 432x288 with 1 Axes>"
      ]
     },
     "metadata": {
      "needs_background": "light"
     },
     "output_type": "display_data"
    }
   ],
   "source": [
    "ax=sns.countplot(y='Airline',data=df.test)\n",
    "print(df.test['Airline'].count())"
   ]
  },
  {
   "cell_type": "markdown",
   "metadata": {},
   "source": [
    "As per the visualistion, 'Jet Airways' has the highest number of Flights and 'Vistara premium Economy', 'Jet Airways Business' has the least number of Flights."
   ]
  },
  {
   "cell_type": "code",
   "execution_count": 92,
   "metadata": {},
   "outputs": [
    {
     "name": "stdout",
     "output_type": "stream",
     "text": [
      "2671\n"
     ]
    },
    {
     "data": {
      "image/png": "[encoded data removed]",
      "text/plain": [
       "<Figure size 432x288 with 1 Axes>"
      ]
     },
     "metadata": {
      "needs_background": "light"
     },
     "output_type": "display_data"
    }
   ],
   "source": [
    "ax=sns.countplot(y='Source',data=df.test)\n",
    "print(df.test['Source'].count())"
   ]
  },
  {
   "cell_type": "markdown",
   "metadata": {},
   "source": [
    "'Delhi' is the most frequent Bording Airport, more than 1100 Flights were Boarded from Delhi, and 'Chennai' being the least boarded Airport where only around 50 Flights were boarded by their passengers"
   ]
  },
  {
   "cell_type": "code",
   "execution_count": 93,
   "metadata": {},
   "outputs": [
    {
     "name": "stdout",
     "output_type": "stream",
     "text": [
      "2671\n"
     ]
    },
    {
     "data": {
      "image/png": "[encoded data removed]",
      "text/plain": [
       "<Figure size 432x288 with 1 Axes>"
      ]
     },
     "metadata": {
      "needs_background": "light"
     },
     "output_type": "display_data"
    }
   ],
   "source": [
    "ax=sns.countplot(y='Destination',data=df.test)\n",
    "print(df.test['Destination'].count())"
   ]
  },
  {
   "cell_type": "markdown",
   "metadata": {},
   "source": [
    "More than 1100 Flights were completed in \"Cochin\", and least flights were destined for \"Kolkata\" i.e. 50."
   ]
  },
  {
   "cell_type": "code",
   "execution_count": 94,
   "metadata": {},
   "outputs": [
    {
     "name": "stdout",
     "output_type": "stream",
     "text": [
      "2671\n"
     ]
    },
    {
     "data": {
      "image/png": "[encoded data removed]",
      "text/plain": [
       "<Figure size 432x288 with 1 Axes>"
      ]
     },
     "metadata": {
      "needs_background": "light"
     },
     "output_type": "display_data"
    }
   ],
   "source": [
    "ax=sns.countplot(y='Total_Stops',data=df.test)\n",
    "print(df.test['Total_Stops'].count())"
   ]
  },
  {
   "cell_type": "markdown",
   "metadata": {},
   "source": [
    "Most Flights are having 1 Stop i.e. more than 1400 flights, And there are nearly no flights with 4 Stops.\n",
    "And around 900 flights are Non-Stop"
   ]
  },
  {
   "cell_type": "code",
   "execution_count": 100,
   "metadata": {},
   "outputs": [
    {
     "name": "stdout",
     "output_type": "stream",
     "text": [
      "2671\n"
     ]
    },
    {
     "data": {
      "image/png": "[encoded data removed]",
      "text/plain": [
       "<Figure size 432x288 with 1 Axes>"
      ]
     },
     "metadata": {
      "needs_background": "light"
     },
     "output_type": "display_data"
    }
   ],
   "source": [
    "ax=sns.countplot(y='Additional_Info',data=df.test)\n",
    "print(df.test['Additional_Info'].count())"
   ]
  },
  {
   "cell_type": "markdown",
   "metadata": {},
   "source": [
    "Well, For addtional information more than 2000 flights have 'No-Info', But there are still 5 different Additional informations provided for rest of the flights."
   ]
  },
  {
   "cell_type": "markdown",
   "metadata": {},
   "source": [
    "# Encoding The Data"
   ]
  },
  {
   "cell_type": "code",
   "execution_count": 102,
   "metadata": {},
   "outputs": [],
   "source": [
    "from sklearn.preprocessing import LabelEncoder\n",
    "le=LabelEncoder()\n",
    "\n",
    "for i in df.test.columns:\n",
    "    if df.test[i].dtypes==\"object\":\n",
    "        df.test[i]=le.fit_transform(df.test[i].values.reshape(-1,1))"
   ]
  },
  {
   "cell_type": "markdown",
   "metadata": {},
   "source": [
    "# Checking for Skewness"
   ]
  },
  {
   "cell_type": "code",
   "execution_count": 103,
   "metadata": {},
   "outputs": [
    {
     "data": {
      "text/plain": [
       "Airline            0.483882\n",
       "Date_of_Journey   -0.044181\n",
       "Source            -0.424997\n",
       "Destination        1.263630\n",
       "Route             -0.281807\n",
       "Dep_Time           0.178928\n",
       "Arrival_Time      -0.523661\n",
       "Duration          -0.275404\n",
       "Total_Stops        0.672623\n",
       "Additional_Info   -1.719119\n",
       "dtype: float64"
      ]
     },
     "execution_count": 103,
     "metadata": {},
     "output_type": "execute_result"
    }
   ],
   "source": [
    "df.test.skew()"
   ]
  },
  {
   "cell_type": "markdown",
   "metadata": {},
   "source": [
    "Keeping +/-(0.5) as the range of skewness.\n",
    "There are 3 columns out of the range of skewness."
   ]
  },
  {
   "cell_type": "code",
   "execution_count": 119,
   "metadata": {},
   "outputs": [],
   "source": [
    "from sklearn.preprocessing import power_transform\n",
    "df.tnew=power_transform(x)\n",
    "\n",
    "df.tnew=pd.DataFrame(df.tnew,columns=df.test.columns)"
   ]
  },
  {
   "cell_type": "code",
   "execution_count": 120,
   "metadata": {},
   "outputs": [
    {
     "data": {
      "text/plain": [
       "Airline            0.024809\n",
       "Date_of_Journey   -0.048610\n",
       "Source             0.033346\n",
       "Destination        0.037055\n",
       "Route             -0.111439\n",
       "Dep_Time          -0.049069\n",
       "Arrival_Time      -0.070195\n",
       "Duration          -0.058161\n",
       "Total_Stops        0.231992\n",
       "Additional_Info    6.225946\n",
       "dtype: float64"
      ]
     },
     "execution_count": 120,
     "metadata": {},
     "output_type": "execute_result"
    }
   ],
   "source": [
    "df.tnew.skew()"
   ]
  },
  {
   "cell_type": "markdown",
   "metadata": {},
   "source": [
    "# Checking for outliers"
   ]
  },
  {
   "cell_type": "code",
   "execution_count": 127,
   "metadata": {},
   "outputs": [
    {
     "data": {
      "image/png": "[encoded data removed]",
      "text/plain": [
       "<Figure size 1440x576 with 1 Axes>"
      ]
     },
     "metadata": {
      "needs_background": "light"
     },
     "output_type": "display_data"
    }
   ],
   "source": [
    "df.tnew.boxplot(figsize=[20,8])\n",
    "plt.subplots_adjust(bottom=.25)\n",
    "plt.show()"
   ]
  },
  {
   "cell_type": "markdown",
   "metadata": {},
   "source": [
    "Only few outliers are present in the data. There's no need to treat them."
   ]
  },
  {
   "cell_type": "code",
   "execution_count": null,
   "metadata": {},
   "outputs": [],
   "source": []
  },
  {
   "cell_type": "markdown",
   "metadata": {},
   "source": [
    "# Loading Train Model"
   ]
  },
  {
   "cell_type": "code",
   "execution_count": 122,
   "metadata": {},
   "outputs": [],
   "source": [
    "fitted_model=pickle.load(open('FPP_train_project.pkl','rb'))"
   ]
  },
  {
   "cell_type": "code",
   "execution_count": 123,
   "metadata": {},
   "outputs": [
    {
     "data": {
      "text/plain": [
       "RandomForestRegressor()"
      ]
     },
     "execution_count": 123,
     "metadata": {},
     "output_type": "execute_result"
    }
   ],
   "source": [
    "fitted_model"
   ]
  },
  {
   "cell_type": "code",
   "execution_count": 125,
   "metadata": {},
   "outputs": [],
   "source": [
    "predictions=fitted_model.predict(df.tnew)"
   ]
  },
  {
   "cell_type": "code",
   "execution_count": 126,
   "metadata": {},
   "outputs": [
    {
     "data": {
      "text/plain": [
       "array([ 4652.68333333,  9106.45      , 13641.0725    , ...,\n",
       "        7354.92      ,  9612.68      , 12045.0425    ])"
      ]
     },
     "execution_count": 126,
     "metadata": {},
     "output_type": "execute_result"
    }
   ],
   "source": [
    "predictions"
   ]
  },
  {
   "cell_type": "markdown",
   "metadata": {},
   "source": [
    "Predicted Prices for the test data."
   ]
  },
  {
   "cell_type": "code",
   "execution_count": null,
   "metadata": {},
   "outputs": [],
   "source": []
  }
 ],
 "metadata": {
  "kernelspec": {
   "display_name": "Python 3",
   "language": "python",
   "name": "python3"
  },
  "language_info": {
   "codemirror_mode": {
    "name": "ipython",
    "version": 3
   },
   "file_extension": ".py",
   "mimetype": "text/x-python",
   "name": "python",
   "nbconvert_exporter": "python",
   "pygments_lexer": "ipython3",
   "version": "3.8.3"
  }
 },
 "nbformat": 4,
 "nbformat_minor": 4
}
