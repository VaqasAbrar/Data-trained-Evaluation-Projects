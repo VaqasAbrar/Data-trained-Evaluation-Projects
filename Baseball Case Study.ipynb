{
 "cells": [
  {
   "cell_type": "markdown",
   "metadata": {},
   "source": [
    "Baseball Case Study\n",
    "\n",
    "\n",
    "This dataset utilizes data from 2014 Major League Baseball seasons in order to develop an algorithm that predicts the number of wins for a given team in the 2015 season based on several different indicators of success. There are 16 different features that will be used as the inputs to the machine learning and the output will be a value that represents the number of wins. \n",
    "\n",
    "Input features: Runs, At Bats, Hits, Doubles, Triples, Homeruns, Walks, Strikeouts, Stolen Bases, Runs Allowed, Earned Runs, Earned Run Average (ERA), Shutouts, Saves, and Errors\n",
    "\n",
    "Output: Number of predicted wins (W)"
   ]
  },
  {
   "cell_type": "code",
   "execution_count": 29,
   "metadata": {},
   "outputs": [],
   "source": [
    "import pandas as pd\n",
    "import numpy as np\n",
    "from sklearn.model_selection import train_test_split\n",
    "import warnings\n",
    "warnings.filterwarnings('ignore')"
   ]
  },
  {
   "cell_type": "code",
   "execution_count": 3,
   "metadata": {},
   "outputs": [
    {
     "data": {
      "text/html": [
       "<div>\n",
       "<style scoped>\n",
       "    .dataframe tbody tr th:only-of-type {\n",
       "        vertical-align: middle;\n",
       "    }\n",
       "\n",
       "    .dataframe tbody tr th {\n",
       "        vertical-align: top;\n",
       "    }\n",
       "\n",
       "    .dataframe thead th {\n",
       "        text-align: right;\n",
       "    }\n",
       "</style>\n",
       "<table border=\"1\" class=\"dataframe\">\n",
       "  <thead>\n",
       "    <tr style=\"text-align: right;\">\n",
       "      <th></th>\n",
       "      <th>W</th>\n",
       "      <th>R</th>\n",
       "      <th>AB</th>\n",
       "      <th>H</th>\n",
       "      <th>2B</th>\n",
       "      <th>3B</th>\n",
       "      <th>HR</th>\n",
       "      <th>BB</th>\n",
       "      <th>SO</th>\n",
       "      <th>SB</th>\n",
       "      <th>RA</th>\n",
       "      <th>ER</th>\n",
       "      <th>ERA</th>\n",
       "      <th>CG</th>\n",
       "      <th>SHO</th>\n",
       "      <th>SV</th>\n",
       "      <th>E</th>\n",
       "    </tr>\n",
       "  </thead>\n",
       "  <tbody>\n",
       "    <tr>\n",
       "      <th>0</th>\n",
       "      <td>95</td>\n",
       "      <td>724</td>\n",
       "      <td>5575</td>\n",
       "      <td>1497</td>\n",
       "      <td>300</td>\n",
       "      <td>42</td>\n",
       "      <td>139</td>\n",
       "      <td>383</td>\n",
       "      <td>973</td>\n",
       "      <td>104</td>\n",
       "      <td>641</td>\n",
       "      <td>601</td>\n",
       "      <td>3.73</td>\n",
       "      <td>2</td>\n",
       "      <td>8</td>\n",
       "      <td>56</td>\n",
       "      <td>88</td>\n",
       "    </tr>\n",
       "    <tr>\n",
       "      <th>1</th>\n",
       "      <td>83</td>\n",
       "      <td>696</td>\n",
       "      <td>5467</td>\n",
       "      <td>1349</td>\n",
       "      <td>277</td>\n",
       "      <td>44</td>\n",
       "      <td>156</td>\n",
       "      <td>439</td>\n",
       "      <td>1264</td>\n",
       "      <td>70</td>\n",
       "      <td>700</td>\n",
       "      <td>653</td>\n",
       "      <td>4.07</td>\n",
       "      <td>2</td>\n",
       "      <td>12</td>\n",
       "      <td>45</td>\n",
       "      <td>86</td>\n",
       "    </tr>\n",
       "    <tr>\n",
       "      <th>2</th>\n",
       "      <td>81</td>\n",
       "      <td>669</td>\n",
       "      <td>5439</td>\n",
       "      <td>1395</td>\n",
       "      <td>303</td>\n",
       "      <td>29</td>\n",
       "      <td>141</td>\n",
       "      <td>533</td>\n",
       "      <td>1157</td>\n",
       "      <td>86</td>\n",
       "      <td>640</td>\n",
       "      <td>584</td>\n",
       "      <td>3.67</td>\n",
       "      <td>11</td>\n",
       "      <td>10</td>\n",
       "      <td>38</td>\n",
       "      <td>79</td>\n",
       "    </tr>\n",
       "    <tr>\n",
       "      <th>3</th>\n",
       "      <td>76</td>\n",
       "      <td>622</td>\n",
       "      <td>5533</td>\n",
       "      <td>1381</td>\n",
       "      <td>260</td>\n",
       "      <td>27</td>\n",
       "      <td>136</td>\n",
       "      <td>404</td>\n",
       "      <td>1231</td>\n",
       "      <td>68</td>\n",
       "      <td>701</td>\n",
       "      <td>643</td>\n",
       "      <td>3.98</td>\n",
       "      <td>7</td>\n",
       "      <td>9</td>\n",
       "      <td>37</td>\n",
       "      <td>101</td>\n",
       "    </tr>\n",
       "    <tr>\n",
       "      <th>4</th>\n",
       "      <td>74</td>\n",
       "      <td>689</td>\n",
       "      <td>5605</td>\n",
       "      <td>1515</td>\n",
       "      <td>289</td>\n",
       "      <td>49</td>\n",
       "      <td>151</td>\n",
       "      <td>455</td>\n",
       "      <td>1259</td>\n",
       "      <td>83</td>\n",
       "      <td>803</td>\n",
       "      <td>746</td>\n",
       "      <td>4.64</td>\n",
       "      <td>7</td>\n",
       "      <td>12</td>\n",
       "      <td>35</td>\n",
       "      <td>86</td>\n",
       "    </tr>\n",
       "    <tr>\n",
       "      <th>5</th>\n",
       "      <td>93</td>\n",
       "      <td>891</td>\n",
       "      <td>5509</td>\n",
       "      <td>1480</td>\n",
       "      <td>308</td>\n",
       "      <td>17</td>\n",
       "      <td>232</td>\n",
       "      <td>570</td>\n",
       "      <td>1151</td>\n",
       "      <td>88</td>\n",
       "      <td>670</td>\n",
       "      <td>609</td>\n",
       "      <td>3.80</td>\n",
       "      <td>7</td>\n",
       "      <td>10</td>\n",
       "      <td>34</td>\n",
       "      <td>88</td>\n",
       "    </tr>\n",
       "    <tr>\n",
       "      <th>6</th>\n",
       "      <td>87</td>\n",
       "      <td>764</td>\n",
       "      <td>5567</td>\n",
       "      <td>1397</td>\n",
       "      <td>272</td>\n",
       "      <td>19</td>\n",
       "      <td>212</td>\n",
       "      <td>554</td>\n",
       "      <td>1227</td>\n",
       "      <td>63</td>\n",
       "      <td>698</td>\n",
       "      <td>652</td>\n",
       "      <td>4.03</td>\n",
       "      <td>3</td>\n",
       "      <td>4</td>\n",
       "      <td>48</td>\n",
       "      <td>93</td>\n",
       "    </tr>\n",
       "    <tr>\n",
       "      <th>7</th>\n",
       "      <td>81</td>\n",
       "      <td>713</td>\n",
       "      <td>5485</td>\n",
       "      <td>1370</td>\n",
       "      <td>246</td>\n",
       "      <td>20</td>\n",
       "      <td>217</td>\n",
       "      <td>418</td>\n",
       "      <td>1331</td>\n",
       "      <td>44</td>\n",
       "      <td>693</td>\n",
       "      <td>646</td>\n",
       "      <td>4.05</td>\n",
       "      <td>0</td>\n",
       "      <td>10</td>\n",
       "      <td>43</td>\n",
       "      <td>77</td>\n",
       "    </tr>\n",
       "    <tr>\n",
       "      <th>8</th>\n",
       "      <td>80</td>\n",
       "      <td>644</td>\n",
       "      <td>5485</td>\n",
       "      <td>1383</td>\n",
       "      <td>278</td>\n",
       "      <td>32</td>\n",
       "      <td>167</td>\n",
       "      <td>436</td>\n",
       "      <td>1310</td>\n",
       "      <td>87</td>\n",
       "      <td>642</td>\n",
       "      <td>604</td>\n",
       "      <td>3.74</td>\n",
       "      <td>1</td>\n",
       "      <td>12</td>\n",
       "      <td>60</td>\n",
       "      <td>95</td>\n",
       "    </tr>\n",
       "    <tr>\n",
       "      <th>9</th>\n",
       "      <td>78</td>\n",
       "      <td>748</td>\n",
       "      <td>5640</td>\n",
       "      <td>1495</td>\n",
       "      <td>294</td>\n",
       "      <td>33</td>\n",
       "      <td>161</td>\n",
       "      <td>478</td>\n",
       "      <td>1148</td>\n",
       "      <td>71</td>\n",
       "      <td>753</td>\n",
       "      <td>694</td>\n",
       "      <td>4.31</td>\n",
       "      <td>3</td>\n",
       "      <td>10</td>\n",
       "      <td>40</td>\n",
       "      <td>97</td>\n",
       "    </tr>\n",
       "    <tr>\n",
       "      <th>10</th>\n",
       "      <td>88</td>\n",
       "      <td>751</td>\n",
       "      <td>5511</td>\n",
       "      <td>1419</td>\n",
       "      <td>279</td>\n",
       "      <td>32</td>\n",
       "      <td>172</td>\n",
       "      <td>503</td>\n",
       "      <td>1233</td>\n",
       "      <td>101</td>\n",
       "      <td>733</td>\n",
       "      <td>680</td>\n",
       "      <td>4.24</td>\n",
       "      <td>5</td>\n",
       "      <td>9</td>\n",
       "      <td>45</td>\n",
       "      <td>119</td>\n",
       "    </tr>\n",
       "    <tr>\n",
       "      <th>11</th>\n",
       "      <td>86</td>\n",
       "      <td>729</td>\n",
       "      <td>5459</td>\n",
       "      <td>1363</td>\n",
       "      <td>278</td>\n",
       "      <td>26</td>\n",
       "      <td>230</td>\n",
       "      <td>486</td>\n",
       "      <td>1392</td>\n",
       "      <td>121</td>\n",
       "      <td>618</td>\n",
       "      <td>572</td>\n",
       "      <td>3.57</td>\n",
       "      <td>5</td>\n",
       "      <td>13</td>\n",
       "      <td>39</td>\n",
       "      <td>85</td>\n",
       "    </tr>\n",
       "    <tr>\n",
       "      <th>12</th>\n",
       "      <td>85</td>\n",
       "      <td>661</td>\n",
       "      <td>5417</td>\n",
       "      <td>1331</td>\n",
       "      <td>243</td>\n",
       "      <td>21</td>\n",
       "      <td>176</td>\n",
       "      <td>435</td>\n",
       "      <td>1150</td>\n",
       "      <td>52</td>\n",
       "      <td>675</td>\n",
       "      <td>630</td>\n",
       "      <td>3.94</td>\n",
       "      <td>2</td>\n",
       "      <td>12</td>\n",
       "      <td>46</td>\n",
       "      <td>93</td>\n",
       "    </tr>\n",
       "    <tr>\n",
       "      <th>13</th>\n",
       "      <td>76</td>\n",
       "      <td>656</td>\n",
       "      <td>5544</td>\n",
       "      <td>1379</td>\n",
       "      <td>262</td>\n",
       "      <td>22</td>\n",
       "      <td>198</td>\n",
       "      <td>478</td>\n",
       "      <td>1336</td>\n",
       "      <td>69</td>\n",
       "      <td>726</td>\n",
       "      <td>677</td>\n",
       "      <td>4.16</td>\n",
       "      <td>6</td>\n",
       "      <td>12</td>\n",
       "      <td>45</td>\n",
       "      <td>94</td>\n",
       "    </tr>\n",
       "    <tr>\n",
       "      <th>14</th>\n",
       "      <td>68</td>\n",
       "      <td>694</td>\n",
       "      <td>5600</td>\n",
       "      <td>1405</td>\n",
       "      <td>277</td>\n",
       "      <td>46</td>\n",
       "      <td>146</td>\n",
       "      <td>475</td>\n",
       "      <td>1119</td>\n",
       "      <td>78</td>\n",
       "      <td>729</td>\n",
       "      <td>664</td>\n",
       "      <td>4.14</td>\n",
       "      <td>5</td>\n",
       "      <td>15</td>\n",
       "      <td>28</td>\n",
       "      <td>126</td>\n",
       "    </tr>\n",
       "    <tr>\n",
       "      <th>15</th>\n",
       "      <td>100</td>\n",
       "      <td>647</td>\n",
       "      <td>5484</td>\n",
       "      <td>1386</td>\n",
       "      <td>288</td>\n",
       "      <td>39</td>\n",
       "      <td>137</td>\n",
       "      <td>506</td>\n",
       "      <td>1267</td>\n",
       "      <td>69</td>\n",
       "      <td>525</td>\n",
       "      <td>478</td>\n",
       "      <td>2.94</td>\n",
       "      <td>1</td>\n",
       "      <td>15</td>\n",
       "      <td>62</td>\n",
       "      <td>96</td>\n",
       "    </tr>\n",
       "    <tr>\n",
       "      <th>16</th>\n",
       "      <td>98</td>\n",
       "      <td>697</td>\n",
       "      <td>5631</td>\n",
       "      <td>1462</td>\n",
       "      <td>292</td>\n",
       "      <td>27</td>\n",
       "      <td>140</td>\n",
       "      <td>461</td>\n",
       "      <td>1322</td>\n",
       "      <td>98</td>\n",
       "      <td>596</td>\n",
       "      <td>532</td>\n",
       "      <td>3.21</td>\n",
       "      <td>0</td>\n",
       "      <td>13</td>\n",
       "      <td>54</td>\n",
       "      <td>122</td>\n",
       "    </tr>\n",
       "    <tr>\n",
       "      <th>17</th>\n",
       "      <td>97</td>\n",
       "      <td>689</td>\n",
       "      <td>5491</td>\n",
       "      <td>1341</td>\n",
       "      <td>272</td>\n",
       "      <td>30</td>\n",
       "      <td>171</td>\n",
       "      <td>567</td>\n",
       "      <td>1518</td>\n",
       "      <td>95</td>\n",
       "      <td>608</td>\n",
       "      <td>546</td>\n",
       "      <td>3.36</td>\n",
       "      <td>6</td>\n",
       "      <td>21</td>\n",
       "      <td>48</td>\n",
       "      <td>111</td>\n",
       "    </tr>\n",
       "    <tr>\n",
       "      <th>18</th>\n",
       "      <td>68</td>\n",
       "      <td>655</td>\n",
       "      <td>5480</td>\n",
       "      <td>1378</td>\n",
       "      <td>274</td>\n",
       "      <td>34</td>\n",
       "      <td>145</td>\n",
       "      <td>412</td>\n",
       "      <td>1299</td>\n",
       "      <td>84</td>\n",
       "      <td>737</td>\n",
       "      <td>682</td>\n",
       "      <td>4.28</td>\n",
       "      <td>1</td>\n",
       "      <td>7</td>\n",
       "      <td>40</td>\n",
       "      <td>116</td>\n",
       "    </tr>\n",
       "    <tr>\n",
       "      <th>19</th>\n",
       "      <td>64</td>\n",
       "      <td>640</td>\n",
       "      <td>5571</td>\n",
       "      <td>1382</td>\n",
       "      <td>257</td>\n",
       "      <td>27</td>\n",
       "      <td>167</td>\n",
       "      <td>496</td>\n",
       "      <td>1255</td>\n",
       "      <td>134</td>\n",
       "      <td>754</td>\n",
       "      <td>700</td>\n",
       "      <td>4.33</td>\n",
       "      <td>2</td>\n",
       "      <td>8</td>\n",
       "      <td>35</td>\n",
       "      <td>90</td>\n",
       "    </tr>\n",
       "    <tr>\n",
       "      <th>20</th>\n",
       "      <td>90</td>\n",
       "      <td>683</td>\n",
       "      <td>5527</td>\n",
       "      <td>1351</td>\n",
       "      <td>295</td>\n",
       "      <td>17</td>\n",
       "      <td>177</td>\n",
       "      <td>488</td>\n",
       "      <td>1290</td>\n",
       "      <td>51</td>\n",
       "      <td>613</td>\n",
       "      <td>557</td>\n",
       "      <td>3.43</td>\n",
       "      <td>1</td>\n",
       "      <td>14</td>\n",
       "      <td>50</td>\n",
       "      <td>88</td>\n",
       "    </tr>\n",
       "    <tr>\n",
       "      <th>21</th>\n",
       "      <td>83</td>\n",
       "      <td>703</td>\n",
       "      <td>5428</td>\n",
       "      <td>1363</td>\n",
       "      <td>265</td>\n",
       "      <td>13</td>\n",
       "      <td>177</td>\n",
       "      <td>539</td>\n",
       "      <td>1344</td>\n",
       "      <td>57</td>\n",
       "      <td>635</td>\n",
       "      <td>577</td>\n",
       "      <td>3.62</td>\n",
       "      <td>4</td>\n",
       "      <td>13</td>\n",
       "      <td>41</td>\n",
       "      <td>90</td>\n",
       "    </tr>\n",
       "    <tr>\n",
       "      <th>22</th>\n",
       "      <td>71</td>\n",
       "      <td>613</td>\n",
       "      <td>5463</td>\n",
       "      <td>1420</td>\n",
       "      <td>236</td>\n",
       "      <td>40</td>\n",
       "      <td>120</td>\n",
       "      <td>375</td>\n",
       "      <td>1150</td>\n",
       "      <td>112</td>\n",
       "      <td>678</td>\n",
       "      <td>638</td>\n",
       "      <td>4.02</td>\n",
       "      <td>0</td>\n",
       "      <td>12</td>\n",
       "      <td>35</td>\n",
       "      <td>77</td>\n",
       "    </tr>\n",
       "    <tr>\n",
       "      <th>23</th>\n",
       "      <td>67</td>\n",
       "      <td>573</td>\n",
       "      <td>5420</td>\n",
       "      <td>1361</td>\n",
       "      <td>251</td>\n",
       "      <td>18</td>\n",
       "      <td>100</td>\n",
       "      <td>471</td>\n",
       "      <td>1107</td>\n",
       "      <td>69</td>\n",
       "      <td>760</td>\n",
       "      <td>698</td>\n",
       "      <td>4.41</td>\n",
       "      <td>3</td>\n",
       "      <td>10</td>\n",
       "      <td>44</td>\n",
       "      <td>90</td>\n",
       "    </tr>\n",
       "    <tr>\n",
       "      <th>24</th>\n",
       "      <td>63</td>\n",
       "      <td>626</td>\n",
       "      <td>5529</td>\n",
       "      <td>1374</td>\n",
       "      <td>272</td>\n",
       "      <td>37</td>\n",
       "      <td>130</td>\n",
       "      <td>387</td>\n",
       "      <td>1274</td>\n",
       "      <td>88</td>\n",
       "      <td>809</td>\n",
       "      <td>749</td>\n",
       "      <td>4.69</td>\n",
       "      <td>1</td>\n",
       "      <td>7</td>\n",
       "      <td>35</td>\n",
       "      <td>117</td>\n",
       "    </tr>\n",
       "    <tr>\n",
       "      <th>25</th>\n",
       "      <td>92</td>\n",
       "      <td>667</td>\n",
       "      <td>5385</td>\n",
       "      <td>1346</td>\n",
       "      <td>263</td>\n",
       "      <td>26</td>\n",
       "      <td>187</td>\n",
       "      <td>563</td>\n",
       "      <td>1258</td>\n",
       "      <td>59</td>\n",
       "      <td>595</td>\n",
       "      <td>553</td>\n",
       "      <td>3.44</td>\n",
       "      <td>6</td>\n",
       "      <td>21</td>\n",
       "      <td>47</td>\n",
       "      <td>75</td>\n",
       "    </tr>\n",
       "    <tr>\n",
       "      <th>26</th>\n",
       "      <td>84</td>\n",
       "      <td>696</td>\n",
       "      <td>5565</td>\n",
       "      <td>1486</td>\n",
       "      <td>288</td>\n",
       "      <td>39</td>\n",
       "      <td>136</td>\n",
       "      <td>457</td>\n",
       "      <td>1159</td>\n",
       "      <td>93</td>\n",
       "      <td>627</td>\n",
       "      <td>597</td>\n",
       "      <td>3.72</td>\n",
       "      <td>7</td>\n",
       "      <td>18</td>\n",
       "      <td>41</td>\n",
       "      <td>78</td>\n",
       "    </tr>\n",
       "    <tr>\n",
       "      <th>27</th>\n",
       "      <td>79</td>\n",
       "      <td>720</td>\n",
       "      <td>5649</td>\n",
       "      <td>1494</td>\n",
       "      <td>289</td>\n",
       "      <td>48</td>\n",
       "      <td>154</td>\n",
       "      <td>490</td>\n",
       "      <td>1312</td>\n",
       "      <td>132</td>\n",
       "      <td>713</td>\n",
       "      <td>659</td>\n",
       "      <td>4.04</td>\n",
       "      <td>1</td>\n",
       "      <td>12</td>\n",
       "      <td>44</td>\n",
       "      <td>86</td>\n",
       "    </tr>\n",
       "    <tr>\n",
       "      <th>28</th>\n",
       "      <td>74</td>\n",
       "      <td>650</td>\n",
       "      <td>5457</td>\n",
       "      <td>1324</td>\n",
       "      <td>260</td>\n",
       "      <td>36</td>\n",
       "      <td>148</td>\n",
       "      <td>426</td>\n",
       "      <td>1327</td>\n",
       "      <td>82</td>\n",
       "      <td>731</td>\n",
       "      <td>655</td>\n",
       "      <td>4.09</td>\n",
       "      <td>1</td>\n",
       "      <td>6</td>\n",
       "      <td>41</td>\n",
       "      <td>92</td>\n",
       "    </tr>\n",
       "    <tr>\n",
       "      <th>29</th>\n",
       "      <td>68</td>\n",
       "      <td>737</td>\n",
       "      <td>5572</td>\n",
       "      <td>1479</td>\n",
       "      <td>274</td>\n",
       "      <td>49</td>\n",
       "      <td>186</td>\n",
       "      <td>388</td>\n",
       "      <td>1283</td>\n",
       "      <td>97</td>\n",
       "      <td>844</td>\n",
       "      <td>799</td>\n",
       "      <td>5.04</td>\n",
       "      <td>4</td>\n",
       "      <td>4</td>\n",
       "      <td>36</td>\n",
       "      <td>95</td>\n",
       "    </tr>\n",
       "  </tbody>\n",
       "</table>\n",
       "</div>"
      ],
      "text/plain": [
       "      W    R    AB     H   2B  3B   HR   BB    SO   SB   RA   ER   ERA  CG  \\\n",
       "0    95  724  5575  1497  300  42  139  383   973  104  641  601  3.73   2   \n",
       "1    83  696  5467  1349  277  44  156  439  1264   70  700  653  4.07   2   \n",
       "2    81  669  5439  1395  303  29  141  533  1157   86  640  584  3.67  11   \n",
       "3    76  622  5533  1381  260  27  136  404  1231   68  701  643  3.98   7   \n",
       "4    74  689  5605  1515  289  49  151  455  1259   83  803  746  4.64   7   \n",
       "5    93  891  5509  1480  308  17  232  570  1151   88  670  609  3.80   7   \n",
       "6    87  764  5567  1397  272  19  212  554  1227   63  698  652  4.03   3   \n",
       "7    81  713  5485  1370  246  20  217  418  1331   44  693  646  4.05   0   \n",
       "8    80  644  5485  1383  278  32  167  436  1310   87  642  604  3.74   1   \n",
       "9    78  748  5640  1495  294  33  161  478  1148   71  753  694  4.31   3   \n",
       "10   88  751  5511  1419  279  32  172  503  1233  101  733  680  4.24   5   \n",
       "11   86  729  5459  1363  278  26  230  486  1392  121  618  572  3.57   5   \n",
       "12   85  661  5417  1331  243  21  176  435  1150   52  675  630  3.94   2   \n",
       "13   76  656  5544  1379  262  22  198  478  1336   69  726  677  4.16   6   \n",
       "14   68  694  5600  1405  277  46  146  475  1119   78  729  664  4.14   5   \n",
       "15  100  647  5484  1386  288  39  137  506  1267   69  525  478  2.94   1   \n",
       "16   98  697  5631  1462  292  27  140  461  1322   98  596  532  3.21   0   \n",
       "17   97  689  5491  1341  272  30  171  567  1518   95  608  546  3.36   6   \n",
       "18   68  655  5480  1378  274  34  145  412  1299   84  737  682  4.28   1   \n",
       "19   64  640  5571  1382  257  27  167  496  1255  134  754  700  4.33   2   \n",
       "20   90  683  5527  1351  295  17  177  488  1290   51  613  557  3.43   1   \n",
       "21   83  703  5428  1363  265  13  177  539  1344   57  635  577  3.62   4   \n",
       "22   71  613  5463  1420  236  40  120  375  1150  112  678  638  4.02   0   \n",
       "23   67  573  5420  1361  251  18  100  471  1107   69  760  698  4.41   3   \n",
       "24   63  626  5529  1374  272  37  130  387  1274   88  809  749  4.69   1   \n",
       "25   92  667  5385  1346  263  26  187  563  1258   59  595  553  3.44   6   \n",
       "26   84  696  5565  1486  288  39  136  457  1159   93  627  597  3.72   7   \n",
       "27   79  720  5649  1494  289  48  154  490  1312  132  713  659  4.04   1   \n",
       "28   74  650  5457  1324  260  36  148  426  1327   82  731  655  4.09   1   \n",
       "29   68  737  5572  1479  274  49  186  388  1283   97  844  799  5.04   4   \n",
       "\n",
       "    SHO  SV    E  \n",
       "0     8  56   88  \n",
       "1    12  45   86  \n",
       "2    10  38   79  \n",
       "3     9  37  101  \n",
       "4    12  35   86  \n",
       "5    10  34   88  \n",
       "6     4  48   93  \n",
       "7    10  43   77  \n",
       "8    12  60   95  \n",
       "9    10  40   97  \n",
       "10    9  45  119  \n",
       "11   13  39   85  \n",
       "12   12  46   93  \n",
       "13   12  45   94  \n",
       "14   15  28  126  \n",
       "15   15  62   96  \n",
       "16   13  54  122  \n",
       "17   21  48  111  \n",
       "18    7  40  116  \n",
       "19    8  35   90  \n",
       "20   14  50   88  \n",
       "21   13  41   90  \n",
       "22   12  35   77  \n",
       "23   10  44   90  \n",
       "24    7  35  117  \n",
       "25   21  47   75  \n",
       "26   18  41   78  \n",
       "27   12  44   86  \n",
       "28    6  41   92  \n",
       "29    4  36   95  "
      ]
     },
     "execution_count": 3,
     "metadata": {},
     "output_type": "execute_result"
    }
   ],
   "source": [
    "df=pd.read_csv(\"Baseball Case Study.csv\")\n",
    "df"
   ]
  },
  {
   "cell_type": "code",
   "execution_count": 4,
   "metadata": {},
   "outputs": [
    {
     "data": {
      "text/plain": [
       "(30, 17)"
      ]
     },
     "execution_count": 4,
     "metadata": {},
     "output_type": "execute_result"
    }
   ],
   "source": [
    "df.shape"
   ]
  },
  {
   "cell_type": "code",
   "execution_count": 5,
   "metadata": {},
   "outputs": [
    {
     "data": {
      "text/plain": [
       "W        int64\n",
       "R        int64\n",
       "AB       int64\n",
       "H        int64\n",
       "2B       int64\n",
       "3B       int64\n",
       "HR       int64\n",
       "BB       int64\n",
       "SO       int64\n",
       "SB       int64\n",
       "RA       int64\n",
       "ER       int64\n",
       "ERA    float64\n",
       "CG       int64\n",
       "SHO      int64\n",
       "SV       int64\n",
       "E        int64\n",
       "dtype: object"
      ]
     },
     "execution_count": 5,
     "metadata": {},
     "output_type": "execute_result"
    }
   ],
   "source": [
    "df.dtypes"
   ]
  },
  {
   "cell_type": "markdown",
   "metadata": {},
   "source": [
    "All the data is numeric no string values are there"
   ]
  },
  {
   "cell_type": "code",
   "execution_count": 6,
   "metadata": {},
   "outputs": [
    {
     "data": {
      "text/plain": [
       "W      0\n",
       "R      0\n",
       "AB     0\n",
       "H      0\n",
       "2B     0\n",
       "3B     0\n",
       "HR     0\n",
       "BB     0\n",
       "SO     0\n",
       "SB     0\n",
       "RA     0\n",
       "ER     0\n",
       "ERA    0\n",
       "CG     0\n",
       "SHO    0\n",
       "SV     0\n",
       "E      0\n",
       "dtype: int64"
      ]
     },
     "execution_count": 6,
     "metadata": {},
     "output_type": "execute_result"
    }
   ],
   "source": [
    "df.isnull().sum()"
   ]
  },
  {
   "cell_type": "code",
   "execution_count": 7,
   "metadata": {},
   "outputs": [
    {
     "data": {
      "image/png": "[encoded data removed]",
      "text/plain": [
       "<Figure size 432x288 with 2 Axes>"
      ]
     },
     "metadata": {
      "needs_background": "light"
     },
     "output_type": "display_data"
    }
   ],
   "source": [
    "import seaborn as sns\n",
    "import matplotlib.pyplot as plt\n",
    "sns.heatmap(df.isnull())\n",
    "plt.title('Null Values')\n",
    "plt.show()"
   ]
  },
  {
   "cell_type": "markdown",
   "metadata": {},
   "source": [
    "There are no null values present in the data."
   ]
  },
  {
   "cell_type": "markdown",
   "metadata": {},
   "source": [
    "# Data Visualisation"
   ]
  },
  {
   "cell_type": "code",
   "execution_count": 10,
   "metadata": {},
   "outputs": [
    {
     "name": "stdout",
     "output_type": "stream",
     "text": [
      "30\n"
     ]
    },
    {
     "data": {
      "image/png": "[encoded data removed]",
      "text/plain": [
       "<Figure size 432x288 with 1 Axes>"
      ]
     },
     "metadata": {
      "needs_background": "light"
     },
     "output_type": "display_data"
    }
   ],
   "source": [
    "df['R'].hist(grid=True)\n",
    "plt.title('Runs')\n",
    "print(df['R'].count())\n",
    "plt.show()"
   ]
  },
  {
   "cell_type": "markdown",
   "metadata": {},
   "source": [
    "Around 650 - 700 runs are scored maximum number of times. 0-600 and 875-925 are scored in least seasons."
   ]
  },
  {
   "cell_type": "code",
   "execution_count": 14,
   "metadata": {},
   "outputs": [
    {
     "data": {
      "image/png": "[encoded data removed]",
      "text/plain": [
       "<Figure size 432x288 with 1 Axes>"
      ]
     },
     "metadata": {
      "needs_background": "light"
     },
     "output_type": "display_data"
    }
   ],
   "source": [
    "df['H'].hist(grid=True)\n",
    "plt.title('Hits')\n",
    "plt.show()"
   ]
  },
  {
   "cell_type": "markdown",
   "metadata": {},
   "source": [
    "1360-1380 is the most recurring class of hits and 1425-1435 is least recurring class."
   ]
  },
  {
   "cell_type": "code",
   "execution_count": 15,
   "metadata": {},
   "outputs": [
    {
     "data": {
      "image/png": "[encoded data removed]",
      "text/plain": [
       "<Figure size 432x288 with 1 Axes>"
      ]
     },
     "metadata": {
      "needs_background": "light"
     },
     "output_type": "display_data"
    }
   ],
   "source": [
    "df['HR'].hist(grid=True)\n",
    "plt.title('Home Runs')\n",
    "plt.show()"
   ]
  },
  {
   "cell_type": "markdown",
   "metadata": {},
   "source": [
    "165-180 is the most recurring homeruns made according to the dataset and 100-120 bieng the least recurring. "
   ]
  },
  {
   "cell_type": "code",
   "execution_count": 16,
   "metadata": {},
   "outputs": [
    {
     "data": {
      "image/png": "[encoded data removed]",
      "text/plain": [
       "<Figure size 432x288 with 1 Axes>"
      ]
     },
     "metadata": {
      "needs_background": "light"
     },
     "output_type": "display_data"
    }
   ],
   "source": [
    "df['SV'].hist(grid=True)\n",
    "plt.title('Saves')\n",
    "plt.show()"
   ]
  },
  {
   "cell_type": "markdown",
   "metadata": {},
   "source": [
    "35-38 and 45-48 saves are much frequent than most of the data whoch lies between 28-62."
   ]
  },
  {
   "cell_type": "markdown",
   "metadata": {},
   "source": [
    "# Correlation"
   ]
  },
  {
   "cell_type": "code",
   "execution_count": 17,
   "metadata": {},
   "outputs": [
    {
     "data": {
      "image/png": "[encoded data removed]",
      "text/plain": [
       "<Figure size 432x288 with 2 Axes>"
      ]
     },
     "metadata": {
      "needs_background": "light"
     },
     "output_type": "display_data"
    }
   ],
   "source": [
    "sns.heatmap(df.corr(), annot=True)\n",
    "plt.title('Correlation Matrix')\n",
    "plt.show()"
   ]
  },
  {
   "cell_type": "code",
   "execution_count": 19,
   "metadata": {},
   "outputs": [
    {
     "data": {
      "text/plain": [
       "W      1.000000\n",
       "SV     0.666530\n",
       "BB     0.484342\n",
       "SHO    0.471805\n",
       "R      0.430751\n",
       "2B     0.427797\n",
       "HR     0.307407\n",
       "SO     0.111850\n",
       "CG     0.080533\n",
       "H      0.037612\n",
       "AB    -0.087947\n",
       "E     -0.089485\n",
       "SB    -0.157234\n",
       "3B    -0.251118\n",
       "ER    -0.809435\n",
       "RA    -0.812952\n",
       "ERA   -0.819600\n",
       "Name: W, dtype: float64"
      ]
     },
     "execution_count": 19,
     "metadata": {},
     "output_type": "execute_result"
    }
   ],
   "source": [
    "corr_matrix=df.corr()\n",
    "corr_matrix['W'].sort_values(ascending=False)"
   ]
  },
  {
   "cell_type": "markdown",
   "metadata": {},
   "source": [
    "Here it's understood how the target, Wins(W) is correlated with different features. Saves(SV) bieng highly correlated and Earned Run Average(ERA) bieng least."
   ]
  },
  {
   "cell_type": "markdown",
   "metadata": {},
   "source": [
    "# Skewness"
   ]
  },
  {
   "cell_type": "code",
   "execution_count": 20,
   "metadata": {},
   "outputs": [
    {
     "data": {
      "text/plain": [
       "W      0.047089\n",
       "R      1.200786\n",
       "AB     0.183437\n",
       "H      0.670254\n",
       "2B    -0.230650\n",
       "3B     0.129502\n",
       "HR     0.516441\n",
       "BB     0.158498\n",
       "SO    -0.156065\n",
       "SB     0.479893\n",
       "RA     0.045734\n",
       "ER     0.058710\n",
       "ERA    0.053331\n",
       "CG     0.736845\n",
       "SHO    0.565790\n",
       "SV     0.657524\n",
       "E      0.890132\n",
       "dtype: float64"
      ]
     },
     "execution_count": 20,
     "metadata": {},
     "output_type": "execute_result"
    }
   ],
   "source": [
    "df.skew()"
   ]
  },
  {
   "cell_type": "markdown",
   "metadata": {},
   "source": [
    "Keeping +/-(0.5) as the range of skewness. Runs(R), Hits(H), Shutouts(SHO), Saves(SV), Error(E) are higher."
   ]
  },
  {
   "cell_type": "code",
   "execution_count": 117,
   "metadata": {},
   "outputs": [],
   "source": [
    "x=df.drop('W', axis =1)\n",
    "y=df['W']"
   ]
  },
  {
   "cell_type": "code",
   "execution_count": 24,
   "metadata": {},
   "outputs": [],
   "source": [
    "from sklearn.preprocessing import power_transform\n",
    "df.new=power_transform(x)\n",
    "\n",
    "df.new=pd.DataFrame(df.new,columns=x.columns)"
   ]
  },
  {
   "cell_type": "code",
   "execution_count": 26,
   "metadata": {
    "scrolled": true
   },
   "outputs": [
    {
     "data": {
      "text/plain": [
       "R      0.000000\n",
       "AB     0.000000\n",
       "H      0.000000\n",
       "2B    -0.035315\n",
       "3B    -0.072933\n",
       "HR    -0.000065\n",
       "BB    -0.007760\n",
       "SO     0.041170\n",
       "SB    -0.010455\n",
       "RA    -0.008082\n",
       "ER    -0.001940\n",
       "ERA    0.001746\n",
       "CG    -0.059785\n",
       "SHO    0.006560\n",
       "SV     0.000836\n",
       "E      0.063909\n",
       "dtype: float64"
      ]
     },
     "execution_count": 26,
     "metadata": {},
     "output_type": "execute_result"
    }
   ],
   "source": [
    "df.new.skew()"
   ]
  },
  {
   "cell_type": "markdown",
   "metadata": {},
   "source": [
    "As we can see theres alot of data loss. we can move ahead with unadjusted data."
   ]
  },
  {
   "cell_type": "markdown",
   "metadata": {},
   "source": [
    "# Checking for outliers"
   ]
  },
  {
   "cell_type": "code",
   "execution_count": 118,
   "metadata": {},
   "outputs": [
    {
     "data": {
      "image/png": "[encoded data removed]",
      "text/plain": [
       "<Figure size 1440x576 with 1 Axes>"
      ]
     },
     "metadata": {
      "needs_background": "light"
     },
     "output_type": "display_data"
    }
   ],
   "source": [
    "x.boxplot(figsize=[20,8])\n",
    "plt.subplots_adjust(bottom=.25)\n",
    "plt.show()"
   ]
  },
  {
   "cell_type": "markdown",
   "metadata": {},
   "source": [
    "There are few outliers present. Due to the nature of the data we can consider these values and would not eliminate them."
   ]
  },
  {
   "cell_type": "markdown",
   "metadata": {},
   "source": [
    "# Scaling the data using Min-Max Scaler:"
   ]
  },
  {
   "cell_type": "code",
   "execution_count": 66,
   "metadata": {},
   "outputs": [],
   "source": [
    "from sklearn.preprocessing import MinMaxScaler \n",
    "mms=MinMaxScaler() \n",
    "from sklearn.linear_model import LinearRegression \n",
    "lr=LinearRegression() \n",
    "from sklearn.metrics import r2_score "
   ]
  },
  {
   "cell_type": "markdown",
   "metadata": {},
   "source": [
    "# Finding best random state"
   ]
  },
  {
   "cell_type": "code",
   "execution_count": 119,
   "metadata": {},
   "outputs": [
    {
     "name": "stdout",
     "output_type": "stream",
     "text": [
      "At randon state 0, the training accuracy is:- 0.9609590618835543\n",
      "At random state 0, the testing accuracy is:0.6629341689506705\n",
      "\n",
      "\n",
      "At randon state 1, the training accuracy is:- 0.9715846357165405\n",
      "At random state 1, the testing accuracy is:0.3841724690075786\n",
      "\n",
      "\n",
      "At randon state 2, the training accuracy is:- 0.9898192153844548\n",
      "At random state 2, the testing accuracy is:-2.081998955010787\n",
      "\n",
      "\n",
      "At randon state 3, the training accuracy is:- 0.9722553885185528\n",
      "At random state 3, the testing accuracy is:0.4618378970602377\n",
      "\n",
      "\n",
      "At randon state 4, the training accuracy is:- 0.964746149799658\n",
      "At random state 4, the testing accuracy is:0.4660685292728437\n",
      "\n",
      "\n",
      "At randon state 5, the training accuracy is:- 0.9503092887369992\n",
      "At random state 5, the testing accuracy is:0.7517105066858546\n",
      "\n",
      "\n",
      "At randon state 6, the training accuracy is:- 0.948947004521447\n",
      "At random state 6, the testing accuracy is:0.8376419521868339\n",
      "\n",
      "\n",
      "At randon state 7, the training accuracy is:- 0.9631978535911326\n",
      "At random state 7, the testing accuracy is:-0.25547694158915535\n",
      "\n",
      "\n",
      "At randon state 8, the training accuracy is:- 0.9623956064118225\n",
      "At random state 8, the testing accuracy is:0.5868676500008577\n",
      "\n",
      "\n",
      "At randon state 9, the training accuracy is:- 0.9558190206474735\n",
      "At random state 9, the testing accuracy is:0.7290448155515925\n",
      "\n",
      "\n",
      "At randon state 10, the training accuracy is:- 0.9658380488238816\n",
      "At random state 10, the testing accuracy is:-0.2279712919950747\n",
      "\n",
      "\n",
      "At randon state 11, the training accuracy is:- 0.9794801537272682\n",
      "At random state 11, the testing accuracy is:0.2481759765614716\n",
      "\n",
      "\n",
      "At randon state 12, the training accuracy is:- 0.9737413001008608\n",
      "At random state 12, the testing accuracy is:-1.1916550064202482\n",
      "\n",
      "\n",
      "At randon state 13, the training accuracy is:- 0.9750450815078384\n",
      "At random state 13, the testing accuracy is:0.676707984334459\n",
      "\n",
      "\n",
      "At randon state 14, the training accuracy is:- 0.9469984720280225\n",
      "At random state 14, the testing accuracy is:0.7947948235207332\n",
      "\n",
      "\n",
      "At randon state 15, the training accuracy is:- 0.9709420941407676\n",
      "At random state 15, the testing accuracy is:0.08782646885313528\n",
      "\n",
      "\n",
      "At randon state 16, the training accuracy is:- 0.9858809375178788\n",
      "At random state 16, the testing accuracy is:0.2156636142748778\n",
      "\n",
      "\n",
      "At randon state 17, the training accuracy is:- 0.9749884441968527\n",
      "At random state 17, the testing accuracy is:0.2429837566512275\n",
      "\n",
      "\n",
      "At randon state 18, the training accuracy is:- 0.9619051538791019\n",
      "At random state 18, the testing accuracy is:0.44692713019862174\n",
      "\n",
      "\n",
      "At randon state 19, the training accuracy is:- 0.9495167250254274\n",
      "At random state 19, the testing accuracy is:0.838113419335654\n",
      "\n",
      "\n",
      "At randon state 20, the training accuracy is:- 0.9648282100620996\n",
      "At random state 20, the testing accuracy is:0.30103553183443355\n",
      "\n",
      "\n",
      "At randon state 21, the training accuracy is:- 0.9632922835126104\n",
      "At random state 21, the testing accuracy is:0.43748497306629985\n",
      "\n",
      "\n",
      "At randon state 22, the training accuracy is:- 0.9538756336575558\n",
      "At random state 22, the testing accuracy is:-0.022968263180221937\n",
      "\n",
      "\n",
      "At randon state 23, the training accuracy is:- 0.9614513761755267\n",
      "At random state 23, the testing accuracy is:0.5703263346963161\n",
      "\n",
      "\n",
      "At randon state 24, the training accuracy is:- 0.9930550857101428\n",
      "At random state 24, the testing accuracy is:-3.9281386887175183\n",
      "\n",
      "\n",
      "At randon state 25, the training accuracy is:- 0.9579610563737945\n",
      "At random state 25, the testing accuracy is:0.4181713062412423\n",
      "\n",
      "\n",
      "At randon state 26, the training accuracy is:- 0.9658277445021987\n",
      "At random state 26, the testing accuracy is:0.324133608651172\n",
      "\n",
      "\n",
      "At randon state 27, the training accuracy is:- 0.9552740421332101\n",
      "At random state 27, the testing accuracy is:0.6767959850140982\n",
      "\n",
      "\n",
      "At randon state 28, the training accuracy is:- 0.9597644213445621\n",
      "At random state 28, the testing accuracy is:0.6699377101719095\n",
      "\n",
      "\n",
      "At randon state 29, the training accuracy is:- 0.9511213168423279\n",
      "At random state 29, the testing accuracy is:0.8790507229532956\n",
      "\n",
      "\n",
      "At randon state 30, the training accuracy is:- 0.9494811939208996\n",
      "At random state 30, the testing accuracy is:0.8365092739163154\n",
      "\n",
      "\n",
      "At randon state 31, the training accuracy is:- 0.9951572148896561\n",
      "At random state 31, the testing accuracy is:0.2592083827638959\n",
      "\n",
      "\n",
      "At randon state 32, the training accuracy is:- 0.9631618129568901\n",
      "At random state 32, the testing accuracy is:0.24486497945420882\n",
      "\n",
      "\n",
      "At randon state 33, the training accuracy is:- 0.9828979279570369\n",
      "At random state 33, the testing accuracy is:0.7251644237527008\n",
      "\n",
      "\n",
      "At randon state 34, the training accuracy is:- 0.9721607076503062\n",
      "At random state 34, the testing accuracy is:0.7974272428667585\n",
      "\n",
      "\n",
      "At randon state 35, the training accuracy is:- 0.980068511522487\n",
      "At random state 35, the testing accuracy is:0.18097976995379672\n",
      "\n",
      "\n",
      "At randon state 36, the training accuracy is:- 0.9577869158330774\n",
      "At random state 36, the testing accuracy is:0.7342034319837716\n",
      "\n",
      "\n",
      "At randon state 37, the training accuracy is:- 0.9564708376178136\n",
      "At random state 37, the testing accuracy is:0.5924138149123603\n",
      "\n",
      "\n",
      "At randon state 38, the training accuracy is:- 0.9684911861559723\n",
      "At random state 38, the testing accuracy is:0.23284767333799095\n",
      "\n",
      "\n",
      "At randon state 39, the training accuracy is:- 0.9531716157253376\n",
      "At random state 39, the testing accuracy is:0.8073613092401453\n",
      "\n",
      "\n",
      "At randon state 40, the training accuracy is:- 0.9693187478384305\n",
      "At random state 40, the testing accuracy is:0.45805077232058156\n",
      "\n",
      "\n",
      "At randon state 41, the training accuracy is:- 0.9586218982294639\n",
      "At random state 41, the testing accuracy is:0.7343696065237005\n",
      "\n",
      "\n",
      "At randon state 42, the training accuracy is:- 0.9740426384448528\n",
      "At random state 42, the testing accuracy is:0.7876400316149446\n",
      "\n",
      "\n",
      "At randon state 43, the training accuracy is:- 0.9881881791911085\n",
      "At random state 43, the testing accuracy is:-1.0543428896604752\n",
      "\n",
      "\n",
      "At randon state 44, the training accuracy is:- 0.9567296904413439\n",
      "At random state 44, the testing accuracy is:0.5894992447123721\n",
      "\n",
      "\n",
      "At randon state 45, the training accuracy is:- 0.954954901790532\n",
      "At random state 45, the testing accuracy is:0.6385651240924294\n",
      "\n",
      "\n",
      "At randon state 46, the training accuracy is:- 0.9627441089213999\n",
      "At random state 46, the testing accuracy is:0.6261439472974861\n",
      "\n",
      "\n",
      "At randon state 47, the training accuracy is:- 0.9572737663157227\n",
      "At random state 47, the testing accuracy is:0.8116559418363234\n",
      "\n",
      "\n",
      "At randon state 48, the training accuracy is:- 0.9460990720082069\n",
      "At random state 48, the testing accuracy is:0.8234694071796368\n",
      "\n",
      "\n",
      "At randon state 49, the training accuracy is:- 0.9871259881150013\n",
      "At random state 49, the testing accuracy is:-0.07399772649633274\n",
      "\n",
      "\n",
      "At randon state 50, the training accuracy is:- 0.9823137618455432\n",
      "At random state 50, the testing accuracy is:0.6111709711671869\n",
      "\n",
      "\n",
      "At randon state 51, the training accuracy is:- 0.9786247301654906\n",
      "At random state 51, the testing accuracy is:0.4582745176586478\n",
      "\n",
      "\n",
      "At randon state 52, the training accuracy is:- 0.9772088150616494\n",
      "At random state 52, the testing accuracy is:0.5097793692109345\n",
      "\n",
      "\n",
      "At randon state 53, the training accuracy is:- 0.9854055261633469\n",
      "At random state 53, the testing accuracy is:0.2550058206707292\n",
      "\n",
      "\n",
      "At randon state 54, the training accuracy is:- 0.9639045549917286\n",
      "At random state 54, the testing accuracy is:0.7551746347340793\n",
      "\n",
      "\n",
      "At randon state 55, the training accuracy is:- 0.9548931781151017\n",
      "At random state 55, the testing accuracy is:0.7860903369149369\n",
      "\n",
      "\n",
      "At randon state 56, the training accuracy is:- 0.959902264838421\n",
      "At random state 56, the testing accuracy is:0.6079899644112027\n",
      "\n",
      "\n",
      "At randon state 57, the training accuracy is:- 0.9773161013476726\n",
      "At random state 57, the testing accuracy is:-0.7979271743714578\n",
      "\n",
      "\n",
      "At randon state 58, the training accuracy is:- 0.9554433249805975\n",
      "At random state 58, the testing accuracy is:0.41049923062100524\n",
      "\n",
      "\n",
      "At randon state 59, the training accuracy is:- 0.9860359788865672\n",
      "At random state 59, the testing accuracy is:0.008019457575950795\n",
      "\n",
      "\n",
      "At randon state 60, the training accuracy is:- 0.9870382905760342\n",
      "At random state 60, the testing accuracy is:-0.41187977286930155\n",
      "\n",
      "\n",
      "At randon state 61, the training accuracy is:- 0.9852781686735402\n",
      "At random state 61, the testing accuracy is:-0.11594360026659212\n",
      "\n",
      "\n",
      "At randon state 62, the training accuracy is:- 0.9561041370877833\n",
      "At random state 62, the testing accuracy is:0.6185871131833671\n",
      "\n",
      "\n",
      "At randon state 63, the training accuracy is:- 0.9579361117394376\n",
      "At random state 63, the testing accuracy is:0.5576984549178928\n",
      "\n",
      "\n",
      "At randon state 64, the training accuracy is:- 0.9560367093903079\n",
      "At random state 64, the testing accuracy is:0.6352725305740629\n",
      "\n",
      "\n",
      "At randon state 65, the training accuracy is:- 0.9525149014820992\n"
     ]
    },
    {
     "name": "stdout",
     "output_type": "stream",
     "text": [
      "At random state 65, the testing accuracy is:0.7247598156620236\n",
      "\n",
      "\n",
      "At randon state 66, the training accuracy is:- 0.9899795721247048\n",
      "At random state 66, the testing accuracy is:0.1719134662476841\n",
      "\n",
      "\n",
      "At randon state 67, the training accuracy is:- 0.9489471263761321\n",
      "At random state 67, the testing accuracy is:0.8087753828913911\n",
      "\n",
      "\n",
      "At randon state 68, the training accuracy is:- 0.9433712692742346\n",
      "At random state 68, the testing accuracy is:0.8732463116865993\n",
      "\n",
      "\n",
      "At randon state 69, the training accuracy is:- 0.9584500267196242\n",
      "At random state 69, the testing accuracy is:0.5242852201259449\n",
      "\n",
      "\n",
      "At randon state 70, the training accuracy is:- 0.9669105523499834\n",
      "At random state 70, the testing accuracy is:-0.19350775610923399\n",
      "\n",
      "\n",
      "At randon state 71, the training accuracy is:- 0.96469155628748\n",
      "At random state 71, the testing accuracy is:0.3790991443797861\n",
      "\n",
      "\n",
      "At randon state 72, the training accuracy is:- 0.958465646280237\n",
      "At random state 72, the testing accuracy is:0.7102012570894161\n",
      "\n",
      "\n",
      "At randon state 73, the training accuracy is:- 0.9669581454532016\n",
      "At random state 73, the testing accuracy is:0.7261324544603858\n",
      "\n",
      "\n",
      "At randon state 74, the training accuracy is:- 0.9824485230030252\n",
      "At random state 74, the testing accuracy is:-2.006452499229162\n",
      "\n",
      "\n",
      "At randon state 75, the training accuracy is:- 0.9619107292032059\n",
      "At random state 75, the testing accuracy is:0.31970899130267183\n",
      "\n",
      "\n",
      "At randon state 76, the training accuracy is:- 0.9823020250956469\n",
      "At random state 76, the testing accuracy is:-0.5350831359883372\n",
      "\n",
      "\n",
      "At randon state 77, the training accuracy is:- 0.9852345925877508\n",
      "At random state 77, the testing accuracy is:-0.3919915994033878\n",
      "\n",
      "\n",
      "At randon state 78, the training accuracy is:- 0.9617795239455276\n",
      "At random state 78, the testing accuracy is:0.39264201587679226\n",
      "\n",
      "\n",
      "At randon state 79, the training accuracy is:- 0.9746721228360483\n",
      "At random state 79, the testing accuracy is:0.25891280632901215\n",
      "\n",
      "\n",
      "At randon state 80, the training accuracy is:- 0.9815940714701807\n",
      "At random state 80, the testing accuracy is:-1.3881438676976905\n",
      "\n",
      "\n",
      "At randon state 81, the training accuracy is:- 0.9671418744471724\n",
      "At random state 81, the testing accuracy is:-3.832495192183848\n",
      "\n",
      "\n",
      "At randon state 82, the training accuracy is:- 0.9792528357720713\n",
      "At random state 82, the testing accuracy is:0.7619024479455736\n",
      "\n",
      "\n",
      "At randon state 83, the training accuracy is:- 0.9538482413124927\n",
      "At random state 83, the testing accuracy is:0.8479393575196346\n",
      "\n",
      "\n",
      "At randon state 84, the training accuracy is:- 0.953949316151689\n",
      "At random state 84, the testing accuracy is:0.7098512965463728\n",
      "\n",
      "\n",
      "At randon state 85, the training accuracy is:- 0.9526629781970174\n",
      "At random state 85, the testing accuracy is:0.8407963276845669\n",
      "\n",
      "\n",
      "At randon state 86, the training accuracy is:- 0.9543878085444035\n",
      "At random state 86, the testing accuracy is:0.7404936612670406\n",
      "\n",
      "\n",
      "At randon state 87, the training accuracy is:- 0.9631177788804777\n",
      "At random state 87, the testing accuracy is:0.3095696288138776\n",
      "\n",
      "\n",
      "At randon state 88, the training accuracy is:- 0.9774273263600962\n",
      "At random state 88, the testing accuracy is:-4.229901909248935\n",
      "\n",
      "\n",
      "At randon state 89, the training accuracy is:- 0.9722162780072603\n",
      "At random state 89, the testing accuracy is:-0.779814482533445\n",
      "\n",
      "\n",
      "At randon state 90, the training accuracy is:- 0.9530090276344043\n",
      "At random state 90, the testing accuracy is:0.8300294405682725\n",
      "\n",
      "\n",
      "At randon state 91, the training accuracy is:- 0.9535273897994727\n",
      "At random state 91, the testing accuracy is:0.6922110717277895\n",
      "\n",
      "\n",
      "At randon state 92, the training accuracy is:- 0.9650375090233065\n",
      "At random state 92, the testing accuracy is:0.5943186016078721\n",
      "\n",
      "\n",
      "At randon state 93, the training accuracy is:- 0.9667903742911996\n",
      "At random state 93, the testing accuracy is:0.42035802794473476\n",
      "\n",
      "\n",
      "At randon state 94, the training accuracy is:- 0.9714128770121184\n",
      "At random state 94, the testing accuracy is:-0.865226596250888\n",
      "\n",
      "\n",
      "At randon state 95, the training accuracy is:- 0.9570916052259711\n",
      "At random state 95, the testing accuracy is:0.5065497917817132\n",
      "\n",
      "\n",
      "At randon state 96, the training accuracy is:- 0.9664588096020406\n",
      "At random state 96, the testing accuracy is:0.13466114454257616\n",
      "\n",
      "\n",
      "At randon state 97, the training accuracy is:- 0.949458968097837\n",
      "At random state 97, the testing accuracy is:0.8340143915795823\n",
      "\n",
      "\n",
      "At randon state 98, the training accuracy is:- 0.9856174713033907\n",
      "At random state 98, the testing accuracy is:0.5691793123627711\n",
      "\n",
      "\n",
      "At randon state 99, the training accuracy is:- 0.9531948414942486\n",
      "At random state 99, the testing accuracy is:0.8804448045510347\n",
      "\n",
      "\n"
     ]
    }
   ],
   "source": [
    "for i in range(0,100):\n",
    "    x_train, x_test, y_train, y_test=train_test_split(x, y, test_size=0.2, random_state=i)\n",
    "    lr.fit(x_train,y_train) \n",
    "    pred_train=lr.predict(x_train) \n",
    "    pred_test=lr.predict(x_test) \n",
    "    print (f\"At randon state {i}, the training accuracy is:- {r2_score(y_train, pred_train)}\") \n",
    "    print (f\"At random state {i}, the testing accuracy is:{r2_score(y_test,pred_test)}\") \n",
    "    print(\"\\n\")"
   ]
  },
  {
   "cell_type": "code",
   "execution_count": 129,
   "metadata": {},
   "outputs": [],
   "source": [
    "x_train, x_test, y_train, y_test=train_test_split(x, y, test_size=0.2, random_state=99)"
   ]
  },
  {
   "cell_type": "code",
   "execution_count": 130,
   "metadata": {},
   "outputs": [
    {
     "data": {
      "text/plain": [
       "LinearRegression()"
      ]
     },
     "execution_count": 130,
     "metadata": {},
     "output_type": "execute_result"
    }
   ],
   "source": [
    "lr.fit(x_train, y_train)"
   ]
  },
  {
   "cell_type": "code",
   "execution_count": 131,
   "metadata": {},
   "outputs": [],
   "source": [
    "prd_test=lr.predict(x_test)"
   ]
  },
  {
   "cell_type": "code",
   "execution_count": 132,
   "metadata": {},
   "outputs": [
    {
     "name": "stdout",
     "output_type": "stream",
     "text": [
      "0.8804448045510347\n"
     ]
    }
   ],
   "source": [
    "print (r2_score(y_test, pred_test))"
   ]
  },
  {
   "cell_type": "markdown",
   "metadata": {},
   "source": [
    "# Cross-validation of the model"
   ]
  },
  {
   "cell_type": "code",
   "execution_count": 133,
   "metadata": {},
   "outputs": [],
   "source": [
    "Train_accuracy=r2_score(y_train,pred_train) \n",
    "Test_accuracy= r2_score(y_test,pred_test)"
   ]
  },
  {
   "cell_type": "code",
   "execution_count": 134,
   "metadata": {},
   "outputs": [
    {
     "name": "stdout",
     "output_type": "stream",
     "text": [
      " At cross fold 2 the cv score is -1.057932205834568 and accuracy score for training is 0.9531948414942486 and accuracy score for testing is 0.8804448045510347\n",
      "\n",
      "\n",
      " At cross fold 3 the cv score is 0.2258846016774 and accuracy score for training is 0.9531948414942486 and accuracy score for testing is 0.8804448045510347\n",
      "\n",
      "\n",
      " At cross fold 4 the cv score is 0.24952166654368527 and accuracy score for training is 0.9531948414942486 and accuracy score for testing is 0.8804448045510347\n",
      "\n",
      "\n",
      " At cross fold 5 the cv score is 0.04075540667465847 and accuracy score for training is 0.9531948414942486 and accuracy score for testing is 0.8804448045510347\n",
      "\n",
      "\n",
      " At cross fold 6 the cv score is 0.2515353093720216 and accuracy score for training is 0.9531948414942486 and accuracy score for testing is 0.8804448045510347\n",
      "\n",
      "\n",
      " At cross fold 7 the cv score is 0.3890804644289939 and accuracy score for training is 0.9531948414942486 and accuracy score for testing is 0.8804448045510347\n",
      "\n",
      "\n",
      " At cross fold 8 the cv score is 0.31937022109669355 and accuracy score for training is 0.9531948414942486 and accuracy score for testing is 0.8804448045510347\n",
      "\n",
      "\n",
      " At cross fold 9 the cv score is -4.8090841203953385 and accuracy score for training is 0.9531948414942486 and accuracy score for testing is 0.8804448045510347\n",
      "\n",
      "\n"
     ]
    }
   ],
   "source": [
    "from sklearn.model_selection import cross_val_score \n",
    "for j in range (2,10):\n",
    "    cv_score=cross_val_score (lr , x, y, cv=j)\n",
    "    cv_mean=cv_score.mean()\n",
    "    print(f\" At cross fold {j} the cv score is {cv_mean} and accuracy score for training is {Train_accuracy} and accuracy score for testing is {Test_accuracy}\")  \n",
    "    print(\"\\n\")"
   ]
  },
  {
   "cell_type": "markdown",
   "metadata": {},
   "source": [
    "Since the number of folds don't have such impact on the accuracy and cv_score. So cv=3 is selected."
   ]
  },
  {
   "cell_type": "code",
   "execution_count": null,
   "metadata": {},
   "outputs": [],
   "source": []
  },
  {
   "cell_type": "code",
   "execution_count": 136,
   "metadata": {},
   "outputs": [
    {
     "data": {
      "image/png": "[encoded data removed]",
      "text/plain": [
       "<Figure size 576x432 with 1 Axes>"
      ]
     },
     "metadata": {
      "needs_background": "light"
     },
     "output_type": "display_data"
    }
   ],
   "source": [
    "import matplotlib.pyplot as plt \n",
    "plt. figure(figsize=(8,6)) \n",
    "plt. scatter(x=y_test, y=pred_test, color='r') \n",
    "plt.plot(y_test, y_test, color='b') \n",
    "plt.xlabel('Actual Wins', fontsize=14) \n",
    "plt.ylabel('predicted Wins', fontsize=14) \n",
    "plt.title('Linear regression', fontsize=18) \n",
    "plt.show()"
   ]
  },
  {
   "cell_type": "markdown",
   "metadata": {},
   "source": [
    "# Regularization"
   ]
  },
  {
   "cell_type": "code",
   "execution_count": 137,
   "metadata": {},
   "outputs": [],
   "source": [
    "from sklearn.model_selection import GridSearchCV \n",
    "from sklearn.model_selection import cross_val_score"
   ]
  },
  {
   "cell_type": "code",
   "execution_count": 138,
   "metadata": {},
   "outputs": [
    {
     "name": "stdout",
     "output_type": "stream",
     "text": [
      "{'alpha': 10, 'random_state': 0}\n"
     ]
    }
   ],
   "source": [
    "from sklearn.linear_model import Lasso \n",
    "parameters = {'alpha' : [.0001, .001, .01, .1, 1, 10], 'random_state' :list (range(0,10))} \n",
    "ls= Lasso() \n",
    "clf= GridSearchCV(ls, parameters) \n",
    "clf.fit(x_train, y_train)\n",
    "print (clf.best_params_)"
   ]
  },
  {
   "cell_type": "code",
   "execution_count": 139,
   "metadata": {},
   "outputs": [
    {
     "data": {
      "text/plain": [
       "0.8806920611879299"
      ]
     },
     "execution_count": 139,
     "metadata": {},
     "output_type": "execute_result"
    }
   ],
   "source": [
    "ls=Lasso(alpha=1, random_state=0) \n",
    "ls.fit(x_train, y_train) \n",
    "ls.score(x_train, y_train) \n",
    "pred_ls=ls.predict(x_test) \n",
    "lss = r2_score(y_test ,pred_ls) \n",
    "lss"
   ]
  },
  {
   "cell_type": "code",
   "execution_count": 153,
   "metadata": {},
   "outputs": [
    {
     "data": {
      "text/plain": [
       "0.6597006472024929"
      ]
     },
     "execution_count": 153,
     "metadata": {},
     "output_type": "execute_result"
    }
   ],
   "source": [
    "cv_score=cross_val_score (ls , x, y,cv=4) \n",
    "cv_mean=cv_score.mean() \n",
    "cv_mean"
   ]
  },
  {
   "cell_type": "markdown",
   "metadata": {},
   "source": [
    "# Ensemble Technique"
   ]
  },
  {
   "cell_type": "code",
   "execution_count": 141,
   "metadata": {},
   "outputs": [
    {
     "name": "stdout",
     "output_type": "stream",
     "text": [
      "{'criterion': 'mse', 'max_features': 'log2'}\n"
     ]
    }
   ],
   "source": [
    "from sklearn.model_selection import GridSearchCV \n",
    "from sklearn.ensemble import RandomForestRegressor \n",
    "\n",
    "\n",
    "parameters = {'criterion':['mse', 'mae'], 'max_features':['auto', 'sqrt','log2']}\n",
    "rf=RandomForestRegressor() \n",
    "clf = GridSearchCV(rf,parameters) \n",
    "clf.fit(x_train,y_train) \n",
    "print (clf.best_params_)"
   ]
  },
  {
   "cell_type": "code",
   "execution_count": 154,
   "metadata": {},
   "outputs": [
    {
     "name": "stdout",
     "output_type": "stream",
     "text": [
      "R2 core: 74.90102932130407\n",
      "Cross Val Score: 38.85334374785509\n"
     ]
    }
   ],
   "source": [
    "rf=RandomForestRegressor (criterion=\"mse\", max_features=\"auto\") \n",
    "rf.fit(x_train, y_train) \n",
    "rf.score(x_train,y_train) \n",
    "pred_decision =rf.predict(x_test) \n",
    "\n",
    "rfs = r2_score(y_test, pred_decision) \n",
    "print('R2 core:' , rfs*100 ) \n",
    "     \n",
    "rfscore = cross_val_score( rf,x,y,cv=4) \n",
    "rfc = rfscore.mean() \n",
    "print('Cross Val Score:',rfc* 100)"
   ]
  },
  {
   "cell_type": "code",
   "execution_count": 155,
   "metadata": {},
   "outputs": [],
   "source": [
    "import pickle \n",
    "filename = 'Baswball_CaseStudy.pkl'\n",
    "pickle.dump(rf, open( filename, 'wb' ))"
   ]
  },
  {
   "cell_type": "markdown",
   "metadata": {},
   "source": [
    "# Conclusion"
   ]
  },
  {
   "cell_type": "code",
   "execution_count": 156,
   "metadata": {},
   "outputs": [
    {
     "name": "stdout",
     "output_type": "stream",
     "text": [
      "0.7490102932130407\n"
     ]
    }
   ],
   "source": [
    "loaded_model = pickle.load(open('Baswball_CaseStudy.pkl', 'rb')) \n",
    "result = loaded_model.score(x_test, y_test)\n",
    "\n",
    "print(result)"
   ]
  },
  {
   "cell_type": "code",
   "execution_count": 157,
   "metadata": {},
   "outputs": [
    {
     "data": {
      "text/html": [
       "<div>\n",
       "<style scoped>\n",
       "    .dataframe tbody tr th:only-of-type {\n",
       "        vertical-align: middle;\n",
       "    }\n",
       "\n",
       "    .dataframe tbody tr th {\n",
       "        vertical-align: top;\n",
       "    }\n",
       "\n",
       "    .dataframe thead th {\n",
       "        text-align: right;\n",
       "    }\n",
       "</style>\n",
       "<table border=\"1\" class=\"dataframe\">\n",
       "  <thead>\n",
       "    <tr style=\"text-align: right;\">\n",
       "      <th></th>\n",
       "      <th>0</th>\n",
       "      <th>1</th>\n",
       "      <th>2</th>\n",
       "      <th>3</th>\n",
       "      <th>4</th>\n",
       "      <th>5</th>\n",
       "    </tr>\n",
       "  </thead>\n",
       "  <tbody>\n",
       "    <tr>\n",
       "      <th>Predicted</th>\n",
       "      <td>74.78</td>\n",
       "      <td>69.23</td>\n",
       "      <td>89.83</td>\n",
       "      <td>80.69</td>\n",
       "      <td>87.24</td>\n",
       "      <td>77.83</td>\n",
       "    </tr>\n",
       "    <tr>\n",
       "      <th>orginal</th>\n",
       "      <td>74.78</td>\n",
       "      <td>69.23</td>\n",
       "      <td>89.83</td>\n",
       "      <td>80.69</td>\n",
       "      <td>87.24</td>\n",
       "      <td>77.83</td>\n",
       "    </tr>\n",
       "  </tbody>\n",
       "</table>\n",
       "</div>"
      ],
      "text/plain": [
       "               0      1      2      3      4      5\n",
       "Predicted  74.78  69.23  89.83  80.69  87.24  77.83\n",
       "orginal    74.78  69.23  89.83  80.69  87.24  77.83"
      ]
     },
     "execution_count": 157,
     "metadata": {},
     "output_type": "execute_result"
    }
   ],
   "source": [
    "conclusion=pd. DataFrame([loaded_model.predict(x_test)[:], pred_decision[:]], index=[\"Predicted\", \"orginal\"])\n",
    "\n",
    "conclusion"
   ]
  },
  {
   "cell_type": "code",
   "execution_count": null,
   "metadata": {},
   "outputs": [],
   "source": []
  }
 ],
 "metadata": {
  "kernelspec": {
   "display_name": "Python 3",
   "language": "python",
   "name": "python3"
  },
  "language_info": {
   "codemirror_mode": {
    "name": "ipython",
    "version": 3
   },
   "file_extension": ".py",
   "mimetype": "text/x-python",
   "name": "python",
   "nbconvert_exporter": "python",
   "pygments_lexer": "ipython3",
   "version": "3.8.3"
  }
 },
 "nbformat": 4,
 "nbformat_minor": 4
}
