{
 "cells": [
  {
   "cell_type": "markdown",
   "metadata": {},
   "source": [
    "Predict A Doctor’s Consultation Fee is about predicting the fee a doctor will charge for consultation based on the following features.\n",
    "\n",
    "Qualification: Qualification and degrees held by the doctor\n",
    "\n",
    "Experience: Experience of the doctor in years\n",
    "\n",
    "Rating: Rating given by patients\n",
    "\n",
    "Profile: Type of the doctor\n",
    "\n",
    "Miscellaeous_Info: Extra information about the doctor\n",
    "\n",
    "Place: Area and the city where the doctor is located.\n",
    "\n",
    "Since we are going to predict whole numbers, the problem is a regression problem."
   ]
  },
  {
   "cell_type": "code",
   "execution_count": 234,
   "metadata": {},
   "outputs": [],
   "source": [
    "import pandas as pd\n",
    "import numpy as np\n",
    "from sklearn.model_selection import train_test_split\n",
    "import warnings\n",
    "warnings.filterwarnings('ignore')"
   ]
  },
  {
   "cell_type": "code",
   "execution_count": 235,
   "metadata": {},
   "outputs": [
    {
     "data": {
      "text/html": [
       "<div>\n",
       "<style scoped>\n",
       "    .dataframe tbody tr th:only-of-type {\n",
       "        vertical-align: middle;\n",
       "    }\n",
       "\n",
       "    .dataframe tbody tr th {\n",
       "        vertical-align: top;\n",
       "    }\n",
       "\n",
       "    .dataframe thead th {\n",
       "        text-align: right;\n",
       "    }\n",
       "</style>\n",
       "<table border=\"1\" class=\"dataframe\">\n",
       "  <thead>\n",
       "    <tr style=\"text-align: right;\">\n",
       "      <th></th>\n",
       "      <th>Qualification</th>\n",
       "      <th>Experience</th>\n",
       "      <th>Rating</th>\n",
       "      <th>Place</th>\n",
       "      <th>Profile</th>\n",
       "      <th>Miscellaneous_Info</th>\n",
       "      <th>Fees</th>\n",
       "    </tr>\n",
       "  </thead>\n",
       "  <tbody>\n",
       "    <tr>\n",
       "      <th>0</th>\n",
       "      <td>BHMS, MD - Homeopathy</td>\n",
       "      <td>24 years experience</td>\n",
       "      <td>100%</td>\n",
       "      <td>Kakkanad, Ernakulam</td>\n",
       "      <td>Homeopath</td>\n",
       "      <td>100% 16 Feedback Kakkanad, Ernakulam</td>\n",
       "      <td>100</td>\n",
       "    </tr>\n",
       "    <tr>\n",
       "      <th>1</th>\n",
       "      <td>BAMS, MD - Ayurveda Medicine</td>\n",
       "      <td>12 years experience</td>\n",
       "      <td>98%</td>\n",
       "      <td>Whitefield, Bangalore</td>\n",
       "      <td>Ayurveda</td>\n",
       "      <td>98% 76 Feedback Whitefield, Bangalore</td>\n",
       "      <td>350</td>\n",
       "    </tr>\n",
       "    <tr>\n",
       "      <th>2</th>\n",
       "      <td>MBBS, MS - Otorhinolaryngology</td>\n",
       "      <td>9 years experience</td>\n",
       "      <td>NaN</td>\n",
       "      <td>Mathikere - BEL, Bangalore</td>\n",
       "      <td>ENT Specialist</td>\n",
       "      <td>NaN</td>\n",
       "      <td>300</td>\n",
       "    </tr>\n",
       "    <tr>\n",
       "      <th>3</th>\n",
       "      <td>BSc - Zoology, BAMS</td>\n",
       "      <td>12 years experience</td>\n",
       "      <td>NaN</td>\n",
       "      <td>Bannerghatta Road, Bangalore</td>\n",
       "      <td>Ayurveda</td>\n",
       "      <td>Bannerghatta Road, Bangalore ₹250 Available on...</td>\n",
       "      <td>250</td>\n",
       "    </tr>\n",
       "    <tr>\n",
       "      <th>4</th>\n",
       "      <td>BAMS</td>\n",
       "      <td>20 years experience</td>\n",
       "      <td>100%</td>\n",
       "      <td>Keelkattalai, Chennai</td>\n",
       "      <td>Ayurveda</td>\n",
       "      <td>100% 4 Feedback Keelkattalai, Chennai</td>\n",
       "      <td>250</td>\n",
       "    </tr>\n",
       "    <tr>\n",
       "      <th>...</th>\n",
       "      <td>...</td>\n",
       "      <td>...</td>\n",
       "      <td>...</td>\n",
       "      <td>...</td>\n",
       "      <td>...</td>\n",
       "      <td>...</td>\n",
       "      <td>...</td>\n",
       "    </tr>\n",
       "    <tr>\n",
       "      <th>5956</th>\n",
       "      <td>MBBS, MS - ENT</td>\n",
       "      <td>19 years experience</td>\n",
       "      <td>98%</td>\n",
       "      <td>Basavanagudi, Bangalore</td>\n",
       "      <td>ENT Specialist</td>\n",
       "      <td>98% 45 Feedback Basavanagudi, Bangalore</td>\n",
       "      <td>300</td>\n",
       "    </tr>\n",
       "    <tr>\n",
       "      <th>5957</th>\n",
       "      <td>MBBS</td>\n",
       "      <td>33 years experience</td>\n",
       "      <td>NaN</td>\n",
       "      <td>Nungambakkam, Chennai</td>\n",
       "      <td>General Medicine</td>\n",
       "      <td>NaN</td>\n",
       "      <td>100</td>\n",
       "    </tr>\n",
       "    <tr>\n",
       "      <th>5958</th>\n",
       "      <td>MBBS</td>\n",
       "      <td>41 years experience</td>\n",
       "      <td>97%</td>\n",
       "      <td>Greater Kailash Part 2, Delhi</td>\n",
       "      <td>General Medicine</td>\n",
       "      <td>97% 11 Feedback Greater Kailash Part 2, Delhi</td>\n",
       "      <td>600</td>\n",
       "    </tr>\n",
       "    <tr>\n",
       "      <th>5959</th>\n",
       "      <td>MBBS, MD - General Medicine</td>\n",
       "      <td>15 years experience</td>\n",
       "      <td>90%</td>\n",
       "      <td>Vileparle West, Mumbai</td>\n",
       "      <td>General Medicine</td>\n",
       "      <td>General Medical Consultation Viral Fever Treat...</td>\n",
       "      <td>100</td>\n",
       "    </tr>\n",
       "    <tr>\n",
       "      <th>5960</th>\n",
       "      <td>BDS, MDS - Orthodontics</td>\n",
       "      <td>17 years experience</td>\n",
       "      <td>100%</td>\n",
       "      <td>Pitampura, Delhi</td>\n",
       "      <td>Dentist</td>\n",
       "      <td>Acrylic Partial Denture Crowns and Bridges Fix...</td>\n",
       "      <td>200</td>\n",
       "    </tr>\n",
       "  </tbody>\n",
       "</table>\n",
       "<p>5961 rows × 7 columns</p>\n",
       "</div>"
      ],
      "text/plain": [
       "                       Qualification           Experience Rating  \\\n",
       "0              BHMS, MD - Homeopathy  24 years experience   100%   \n",
       "1       BAMS, MD - Ayurveda Medicine  12 years experience    98%   \n",
       "2     MBBS, MS - Otorhinolaryngology   9 years experience    NaN   \n",
       "3                BSc - Zoology, BAMS  12 years experience    NaN   \n",
       "4                               BAMS  20 years experience   100%   \n",
       "...                              ...                  ...    ...   \n",
       "5956                  MBBS, MS - ENT  19 years experience    98%   \n",
       "5957                            MBBS  33 years experience    NaN   \n",
       "5958                            MBBS  41 years experience    97%   \n",
       "5959     MBBS, MD - General Medicine  15 years experience    90%   \n",
       "5960         BDS, MDS - Orthodontics  17 years experience   100%   \n",
       "\n",
       "                              Place           Profile  \\\n",
       "0               Kakkanad, Ernakulam         Homeopath   \n",
       "1             Whitefield, Bangalore          Ayurveda   \n",
       "2        Mathikere - BEL, Bangalore    ENT Specialist   \n",
       "3      Bannerghatta Road, Bangalore          Ayurveda   \n",
       "4             Keelkattalai, Chennai          Ayurveda   \n",
       "...                             ...               ...   \n",
       "5956        Basavanagudi, Bangalore    ENT Specialist   \n",
       "5957          Nungambakkam, Chennai  General Medicine   \n",
       "5958  Greater Kailash Part 2, Delhi  General Medicine   \n",
       "5959         Vileparle West, Mumbai  General Medicine   \n",
       "5960               Pitampura, Delhi           Dentist   \n",
       "\n",
       "                                     Miscellaneous_Info  Fees  \n",
       "0                  100% 16 Feedback Kakkanad, Ernakulam   100  \n",
       "1                 98% 76 Feedback Whitefield, Bangalore   350  \n",
       "2                                                   NaN   300  \n",
       "3     Bannerghatta Road, Bangalore ₹250 Available on...   250  \n",
       "4                 100% 4 Feedback Keelkattalai, Chennai   250  \n",
       "...                                                 ...   ...  \n",
       "5956            98% 45 Feedback Basavanagudi, Bangalore   300  \n",
       "5957                                                NaN   100  \n",
       "5958      97% 11 Feedback Greater Kailash Part 2, Delhi   600  \n",
       "5959  General Medical Consultation Viral Fever Treat...   100  \n",
       "5960  Acrylic Partial Denture Crowns and Bridges Fix...   200  \n",
       "\n",
       "[5961 rows x 7 columns]"
      ]
     },
     "execution_count": 235,
     "metadata": {},
     "output_type": "execute_result"
    }
   ],
   "source": [
    "df=pd.read_excel('Final_Train.xlsx')\n",
    "df"
   ]
  },
  {
   "cell_type": "code",
   "execution_count": 236,
   "metadata": {},
   "outputs": [
    {
     "data": {
      "text/plain": [
       "Qualification         object\n",
       "Experience            object\n",
       "Rating                object\n",
       "Place                 object\n",
       "Profile               object\n",
       "Miscellaneous_Info    object\n",
       "Fees                   int64\n",
       "dtype: object"
      ]
     },
     "execution_count": 236,
     "metadata": {},
     "output_type": "execute_result"
    }
   ],
   "source": [
    "df.dtypes"
   ]
  },
  {
   "cell_type": "markdown",
   "metadata": {},
   "source": [
    "All the variables apart from the Target variable are string data type."
   ]
  },
  {
   "cell_type": "code",
   "execution_count": 237,
   "metadata": {},
   "outputs": [
    {
     "data": {
      "text/html": [
       "<div>\n",
       "<style scoped>\n",
       "    .dataframe tbody tr th:only-of-type {\n",
       "        vertical-align: middle;\n",
       "    }\n",
       "\n",
       "    .dataframe tbody tr th {\n",
       "        vertical-align: top;\n",
       "    }\n",
       "\n",
       "    .dataframe thead th {\n",
       "        text-align: right;\n",
       "    }\n",
       "</style>\n",
       "<table border=\"1\" class=\"dataframe\">\n",
       "  <thead>\n",
       "    <tr style=\"text-align: right;\">\n",
       "      <th></th>\n",
       "      <th>Fees</th>\n",
       "    </tr>\n",
       "  </thead>\n",
       "  <tbody>\n",
       "    <tr>\n",
       "      <th>count</th>\n",
       "      <td>5961.000000</td>\n",
       "    </tr>\n",
       "    <tr>\n",
       "      <th>mean</th>\n",
       "      <td>307.944640</td>\n",
       "    </tr>\n",
       "    <tr>\n",
       "      <th>std</th>\n",
       "      <td>190.920373</td>\n",
       "    </tr>\n",
       "    <tr>\n",
       "      <th>min</th>\n",
       "      <td>5.000000</td>\n",
       "    </tr>\n",
       "    <tr>\n",
       "      <th>25%</th>\n",
       "      <td>150.000000</td>\n",
       "    </tr>\n",
       "    <tr>\n",
       "      <th>50%</th>\n",
       "      <td>300.000000</td>\n",
       "    </tr>\n",
       "    <tr>\n",
       "      <th>75%</th>\n",
       "      <td>500.000000</td>\n",
       "    </tr>\n",
       "    <tr>\n",
       "      <th>max</th>\n",
       "      <td>950.000000</td>\n",
       "    </tr>\n",
       "  </tbody>\n",
       "</table>\n",
       "</div>"
      ],
      "text/plain": [
       "              Fees\n",
       "count  5961.000000\n",
       "mean    307.944640\n",
       "std     190.920373\n",
       "min       5.000000\n",
       "25%     150.000000\n",
       "50%     300.000000\n",
       "75%     500.000000\n",
       "max     950.000000"
      ]
     },
     "execution_count": 237,
     "metadata": {},
     "output_type": "execute_result"
    }
   ],
   "source": [
    "df.describe()"
   ]
  },
  {
   "cell_type": "markdown",
   "metadata": {},
   "source": [
    "Being in string data type, no other variables could be described. We have here is the target variable, where mean or the average fees doctors in this dataset charge is 307.9, also the minimum fees is 5.0 and Maximum is 950.00"
   ]
  },
  {
   "cell_type": "code",
   "execution_count": 238,
   "metadata": {},
   "outputs": [
    {
     "data": {
      "text/plain": [
       "Qualification            0\n",
       "Experience               0\n",
       "Rating                3302\n",
       "Place                   25\n",
       "Profile                  0\n",
       "Miscellaneous_Info    2620\n",
       "Fees                     0\n",
       "dtype: int64"
      ]
     },
     "execution_count": 238,
     "metadata": {},
     "output_type": "execute_result"
    }
   ],
   "source": [
    "df.isnull().sum()"
   ]
  },
  {
   "cell_type": "markdown",
   "metadata": {},
   "source": [
    "we can observe there are various null values highest in 'Rating' desending to 'Miscellaneous_info' and some in 'Place'. Rest there are no null values in the rest of the columns."
   ]
  },
  {
   "cell_type": "code",
   "execution_count": 239,
   "metadata": {},
   "outputs": [
    {
     "data": {
      "image/png": "[encoded data removed]",
      "text/plain": [
       "<Figure size 432x288 with 2 Axes>"
      ]
     },
     "metadata": {
      "needs_background": "light"
     },
     "output_type": "display_data"
    }
   ],
   "source": [
    "import seaborn as sns\n",
    "import matplotlib.pyplot as plt\n",
    "sns.heatmap(df.isnull())\n",
    "plt.title('Null Values')\n",
    "plt.show()"
   ]
  },
  {
   "cell_type": "markdown",
   "metadata": {},
   "source": [
    "Findings are very similar but due to very few null values in 'Place' it cannot be spotted on the heatmap. "
   ]
  },
  {
   "cell_type": "code",
   "execution_count": 240,
   "metadata": {},
   "outputs": [],
   "source": [
    "df=df.fillna(method='ffill')"
   ]
  },
  {
   "cell_type": "code",
   "execution_count": 241,
   "metadata": {},
   "outputs": [
    {
     "data": {
      "text/plain": [
       "Qualification         0\n",
       "Experience            0\n",
       "Rating                0\n",
       "Place                 0\n",
       "Profile               0\n",
       "Miscellaneous_Info    0\n",
       "Fees                  0\n",
       "dtype: int64"
      ]
     },
     "execution_count": 241,
     "metadata": {},
     "output_type": "execute_result"
    }
   ],
   "source": [
    "df.isnull().sum()"
   ]
  },
  {
   "cell_type": "markdown",
   "metadata": {},
   "source": [
    "no Null values present anymore"
   ]
  },
  {
   "cell_type": "markdown",
   "metadata": {},
   "source": [
    "# Encoding the data"
   ]
  },
  {
   "cell_type": "code",
   "execution_count": 242,
   "metadata": {},
   "outputs": [],
   "source": [
    "from sklearn.preprocessing import OrdinalEncoder\n",
    "enc=OrdinalEncoder()\n",
    "\n",
    "for i in df.columns:\n",
    "    if df[i].dtypes==\"object\":\n",
    "        df[i]=enc.fit_transform(df[i].values.reshape(-1,1))"
   ]
  },
  {
   "cell_type": "code",
   "execution_count": 243,
   "metadata": {},
   "outputs": [
    {
     "data": {
      "text/html": [
       "<div>\n",
       "<style scoped>\n",
       "    .dataframe tbody tr th:only-of-type {\n",
       "        vertical-align: middle;\n",
       "    }\n",
       "\n",
       "    .dataframe tbody tr th {\n",
       "        vertical-align: top;\n",
       "    }\n",
       "\n",
       "    .dataframe thead th {\n",
       "        text-align: right;\n",
       "    }\n",
       "</style>\n",
       "<table border=\"1\" class=\"dataframe\">\n",
       "  <thead>\n",
       "    <tr style=\"text-align: right;\">\n",
       "      <th></th>\n",
       "      <th>Qualification</th>\n",
       "      <th>Experience</th>\n",
       "      <th>Rating</th>\n",
       "      <th>Place</th>\n",
       "      <th>Profile</th>\n",
       "      <th>Miscellaneous_Info</th>\n",
       "      <th>Fees</th>\n",
       "    </tr>\n",
       "  </thead>\n",
       "  <tbody>\n",
       "    <tr>\n",
       "      <th>0</th>\n",
       "      <td>401.0</td>\n",
       "      <td>16.0</td>\n",
       "      <td>0.0</td>\n",
       "      <td>299.0</td>\n",
       "      <td>5.0</td>\n",
       "      <td>130.0</td>\n",
       "      <td>100</td>\n",
       "    </tr>\n",
       "    <tr>\n",
       "      <th>1</th>\n",
       "      <td>73.0</td>\n",
       "      <td>3.0</td>\n",
       "      <td>49.0</td>\n",
       "      <td>866.0</td>\n",
       "      <td>0.0</td>\n",
       "      <td>1422.0</td>\n",
       "      <td>350</td>\n",
       "    </tr>\n",
       "    <tr>\n",
       "      <th>2</th>\n",
       "      <td>1135.0</td>\n",
       "      <td>63.0</td>\n",
       "      <td>49.0</td>\n",
       "      <td>457.0</td>\n",
       "      <td>3.0</td>\n",
       "      <td>1422.0</td>\n",
       "      <td>300</td>\n",
       "    </tr>\n",
       "    <tr>\n",
       "      <th>3</th>\n",
       "      <td>464.0</td>\n",
       "      <td>3.0</td>\n",
       "      <td>49.0</td>\n",
       "      <td>68.0</td>\n",
       "      <td>0.0</td>\n",
       "      <td>1695.0</td>\n",
       "      <td>250</td>\n",
       "    </tr>\n",
       "    <tr>\n",
       "      <th>4</th>\n",
       "      <td>10.0</td>\n",
       "      <td>12.0</td>\n",
       "      <td>0.0</td>\n",
       "      <td>337.0</td>\n",
       "      <td>0.0</td>\n",
       "      <td>253.0</td>\n",
       "      <td>250</td>\n",
       "    </tr>\n",
       "    <tr>\n",
       "      <th>...</th>\n",
       "      <td>...</td>\n",
       "      <td>...</td>\n",
       "      <td>...</td>\n",
       "      <td>...</td>\n",
       "      <td>...</td>\n",
       "      <td>...</td>\n",
       "      <td>...</td>\n",
       "    </tr>\n",
       "    <tr>\n",
       "      <th>5956</th>\n",
       "      <td>1075.0</td>\n",
       "      <td>10.0</td>\n",
       "      <td>49.0</td>\n",
       "      <td>70.0</td>\n",
       "      <td>3.0</td>\n",
       "      <td>1385.0</td>\n",
       "      <td>300</td>\n",
       "    </tr>\n",
       "    <tr>\n",
       "      <th>5957</th>\n",
       "      <td>596.0</td>\n",
       "      <td>26.0</td>\n",
       "      <td>49.0</td>\n",
       "      <td>541.0</td>\n",
       "      <td>4.0</td>\n",
       "      <td>1385.0</td>\n",
       "      <td>100</td>\n",
       "    </tr>\n",
       "    <tr>\n",
       "      <th>5958</th>\n",
       "      <td>596.0</td>\n",
       "      <td>35.0</td>\n",
       "      <td>48.0</td>\n",
       "      <td>216.0</td>\n",
       "      <td>4.0</td>\n",
       "      <td>1173.0</td>\n",
       "      <td>600</td>\n",
       "    </tr>\n",
       "    <tr>\n",
       "      <th>5959</th>\n",
       "      <td>943.0</td>\n",
       "      <td>6.0</td>\n",
       "      <td>41.0</td>\n",
       "      <td>850.0</td>\n",
       "      <td>4.0</td>\n",
       "      <td>2202.0</td>\n",
       "      <td>100</td>\n",
       "    </tr>\n",
       "    <tr>\n",
       "      <th>5960</th>\n",
       "      <td>243.0</td>\n",
       "      <td>8.0</td>\n",
       "      <td>0.0</td>\n",
       "      <td>603.0</td>\n",
       "      <td>1.0</td>\n",
       "      <td>1595.0</td>\n",
       "      <td>200</td>\n",
       "    </tr>\n",
       "  </tbody>\n",
       "</table>\n",
       "<p>5961 rows × 7 columns</p>\n",
       "</div>"
      ],
      "text/plain": [
       "      Qualification  Experience  Rating  Place  Profile  Miscellaneous_Info  \\\n",
       "0             401.0        16.0     0.0  299.0      5.0               130.0   \n",
       "1              73.0         3.0    49.0  866.0      0.0              1422.0   \n",
       "2            1135.0        63.0    49.0  457.0      3.0              1422.0   \n",
       "3             464.0         3.0    49.0   68.0      0.0              1695.0   \n",
       "4              10.0        12.0     0.0  337.0      0.0               253.0   \n",
       "...             ...         ...     ...    ...      ...                 ...   \n",
       "5956         1075.0        10.0    49.0   70.0      3.0              1385.0   \n",
       "5957          596.0        26.0    49.0  541.0      4.0              1385.0   \n",
       "5958          596.0        35.0    48.0  216.0      4.0              1173.0   \n",
       "5959          943.0         6.0    41.0  850.0      4.0              2202.0   \n",
       "5960          243.0         8.0     0.0  603.0      1.0              1595.0   \n",
       "\n",
       "      Fees  \n",
       "0      100  \n",
       "1      350  \n",
       "2      300  \n",
       "3      250  \n",
       "4      250  \n",
       "...    ...  \n",
       "5956   300  \n",
       "5957   100  \n",
       "5958   600  \n",
       "5959   100  \n",
       "5960   200  \n",
       "\n",
       "[5961 rows x 7 columns]"
      ]
     },
     "execution_count": 243,
     "metadata": {},
     "output_type": "execute_result"
    }
   ],
   "source": [
    "df"
   ]
  },
  {
   "cell_type": "code",
   "execution_count": 244,
   "metadata": {},
   "outputs": [
    {
     "data": {
      "text/plain": [
       "Qualification         0.239720\n",
       "Experience            0.823531\n",
       "Rating               -0.840796\n",
       "Place                 0.118410\n",
       "Profile               0.108803\n",
       "Miscellaneous_Info   -0.101869\n",
       "Fees                  0.751870\n",
       "dtype: float64"
      ]
     },
     "execution_count": 244,
     "metadata": {},
     "output_type": "execute_result"
    }
   ],
   "source": [
    "df.skew()"
   ]
  },
  {
   "cell_type": "markdown",
   "metadata": {},
   "source": [
    "Keeping +/-(0.5) as the range of skewness."
   ]
  },
  {
   "cell_type": "code",
   "execution_count": 245,
   "metadata": {},
   "outputs": [],
   "source": [
    "x=df.drop('Fees', axis =1)\n",
    "y=df['Fees']"
   ]
  },
  {
   "cell_type": "code",
   "execution_count": 246,
   "metadata": {},
   "outputs": [
    {
     "data": {
      "text/html": [
       "<div>\n",
       "<style scoped>\n",
       "    .dataframe tbody tr th:only-of-type {\n",
       "        vertical-align: middle;\n",
       "    }\n",
       "\n",
       "    .dataframe tbody tr th {\n",
       "        vertical-align: top;\n",
       "    }\n",
       "\n",
       "    .dataframe thead th {\n",
       "        text-align: right;\n",
       "    }\n",
       "</style>\n",
       "<table border=\"1\" class=\"dataframe\">\n",
       "  <thead>\n",
       "    <tr style=\"text-align: right;\">\n",
       "      <th></th>\n",
       "      <th>Qualification</th>\n",
       "      <th>Experience</th>\n",
       "      <th>Rating</th>\n",
       "      <th>Place</th>\n",
       "      <th>Profile</th>\n",
       "      <th>Miscellaneous_Info</th>\n",
       "    </tr>\n",
       "  </thead>\n",
       "  <tbody>\n",
       "    <tr>\n",
       "      <th>0</th>\n",
       "      <td>401.0</td>\n",
       "      <td>16.0</td>\n",
       "      <td>0.0</td>\n",
       "      <td>299.0</td>\n",
       "      <td>5.0</td>\n",
       "      <td>130.0</td>\n",
       "    </tr>\n",
       "    <tr>\n",
       "      <th>1</th>\n",
       "      <td>73.0</td>\n",
       "      <td>3.0</td>\n",
       "      <td>49.0</td>\n",
       "      <td>866.0</td>\n",
       "      <td>0.0</td>\n",
       "      <td>1422.0</td>\n",
       "    </tr>\n",
       "    <tr>\n",
       "      <th>2</th>\n",
       "      <td>1135.0</td>\n",
       "      <td>63.0</td>\n",
       "      <td>49.0</td>\n",
       "      <td>457.0</td>\n",
       "      <td>3.0</td>\n",
       "      <td>1422.0</td>\n",
       "    </tr>\n",
       "    <tr>\n",
       "      <th>3</th>\n",
       "      <td>464.0</td>\n",
       "      <td>3.0</td>\n",
       "      <td>49.0</td>\n",
       "      <td>68.0</td>\n",
       "      <td>0.0</td>\n",
       "      <td>1695.0</td>\n",
       "    </tr>\n",
       "    <tr>\n",
       "      <th>4</th>\n",
       "      <td>10.0</td>\n",
       "      <td>12.0</td>\n",
       "      <td>0.0</td>\n",
       "      <td>337.0</td>\n",
       "      <td>0.0</td>\n",
       "      <td>253.0</td>\n",
       "    </tr>\n",
       "    <tr>\n",
       "      <th>...</th>\n",
       "      <td>...</td>\n",
       "      <td>...</td>\n",
       "      <td>...</td>\n",
       "      <td>...</td>\n",
       "      <td>...</td>\n",
       "      <td>...</td>\n",
       "    </tr>\n",
       "    <tr>\n",
       "      <th>5956</th>\n",
       "      <td>1075.0</td>\n",
       "      <td>10.0</td>\n",
       "      <td>49.0</td>\n",
       "      <td>70.0</td>\n",
       "      <td>3.0</td>\n",
       "      <td>1385.0</td>\n",
       "    </tr>\n",
       "    <tr>\n",
       "      <th>5957</th>\n",
       "      <td>596.0</td>\n",
       "      <td>26.0</td>\n",
       "      <td>49.0</td>\n",
       "      <td>541.0</td>\n",
       "      <td>4.0</td>\n",
       "      <td>1385.0</td>\n",
       "    </tr>\n",
       "    <tr>\n",
       "      <th>5958</th>\n",
       "      <td>596.0</td>\n",
       "      <td>35.0</td>\n",
       "      <td>48.0</td>\n",
       "      <td>216.0</td>\n",
       "      <td>4.0</td>\n",
       "      <td>1173.0</td>\n",
       "    </tr>\n",
       "    <tr>\n",
       "      <th>5959</th>\n",
       "      <td>943.0</td>\n",
       "      <td>6.0</td>\n",
       "      <td>41.0</td>\n",
       "      <td>850.0</td>\n",
       "      <td>4.0</td>\n",
       "      <td>2202.0</td>\n",
       "    </tr>\n",
       "    <tr>\n",
       "      <th>5960</th>\n",
       "      <td>243.0</td>\n",
       "      <td>8.0</td>\n",
       "      <td>0.0</td>\n",
       "      <td>603.0</td>\n",
       "      <td>1.0</td>\n",
       "      <td>1595.0</td>\n",
       "    </tr>\n",
       "  </tbody>\n",
       "</table>\n",
       "<p>5961 rows × 6 columns</p>\n",
       "</div>"
      ],
      "text/plain": [
       "      Qualification  Experience  Rating  Place  Profile  Miscellaneous_Info\n",
       "0             401.0        16.0     0.0  299.0      5.0               130.0\n",
       "1              73.0         3.0    49.0  866.0      0.0              1422.0\n",
       "2            1135.0        63.0    49.0  457.0      3.0              1422.0\n",
       "3             464.0         3.0    49.0   68.0      0.0              1695.0\n",
       "4              10.0        12.0     0.0  337.0      0.0               253.0\n",
       "...             ...         ...     ...    ...      ...                 ...\n",
       "5956         1075.0        10.0    49.0   70.0      3.0              1385.0\n",
       "5957          596.0        26.0    49.0  541.0      4.0              1385.0\n",
       "5958          596.0        35.0    48.0  216.0      4.0              1173.0\n",
       "5959          943.0         6.0    41.0  850.0      4.0              2202.0\n",
       "5960          243.0         8.0     0.0  603.0      1.0              1595.0\n",
       "\n",
       "[5961 rows x 6 columns]"
      ]
     },
     "execution_count": 246,
     "metadata": {},
     "output_type": "execute_result"
    }
   ],
   "source": [
    "x"
   ]
  },
  {
   "cell_type": "code",
   "execution_count": 247,
   "metadata": {},
   "outputs": [],
   "source": [
    "from sklearn.preprocessing import power_transform\n",
    "df.new=power_transform(x)\n",
    "\n",
    "df.new=pd.DataFrame(df.new,columns=x.columns)"
   ]
  },
  {
   "cell_type": "code",
   "execution_count": 267,
   "metadata": {
    "scrolled": true
   },
   "outputs": [
    {
     "data": {
      "text/plain": [
       "Qualification        -0.298616\n",
       "Experience           -0.066770\n",
       "Rating               -0.896107\n",
       "Place                -0.266481\n",
       "Profile              -0.139151\n",
       "Miscellaneous_Info   -0.314946\n",
       "dtype: float64"
      ]
     },
     "execution_count": 267,
     "metadata": {},
     "output_type": "execute_result"
    }
   ],
   "source": [
    "df.new.skew()"
   ]
  },
  {
   "cell_type": "code",
   "execution_count": 268,
   "metadata": {},
   "outputs": [],
   "source": [
    "x=df.new"
   ]
  },
  {
   "cell_type": "markdown",
   "metadata": {},
   "source": [
    "# Checking for outliers"
   ]
  },
  {
   "cell_type": "code",
   "execution_count": 297,
   "metadata": {},
   "outputs": [
    {
     "data": {
      "image/png": "[encoded data removed]",
      "text/plain": [
       "<Figure size 1440x576 with 1 Axes>"
      ]
     },
     "metadata": {
      "needs_background": "light"
     },
     "output_type": "display_data"
    }
   ],
   "source": [
    "x.boxplot(figsize=[20,8])\n",
    "plt.subplots_adjust(bottom=.25)\n",
    "plt.show()"
   ]
  },
  {
   "cell_type": "markdown",
   "metadata": {},
   "source": [
    "There are no outliers present in the data set."
   ]
  },
  {
   "cell_type": "markdown",
   "metadata": {},
   "source": [
    "# Finding best random state"
   ]
  },
  {
   "cell_type": "code",
   "execution_count": 270,
   "metadata": {},
   "outputs": [],
   "source": [
    "from sklearn.linear_model import LinearRegression \n",
    "lr=LinearRegression() \n",
    "from sklearn.tree import DecisionTreeRegressor\n",
    "dtr=DecisionTreeRegressor()\n",
    "from sklearn.metrics import r2_score"
   ]
  },
  {
   "cell_type": "code",
   "execution_count": 272,
   "metadata": {},
   "outputs": [
    {
     "name": "stdout",
     "output_type": "stream",
     "text": [
      "At randon state 0, the training accuracy is:- 0.07367342782612041\n",
      "At random state 0, the testing accuracy is:0.10426047569285102\n",
      "\n",
      "\n",
      "At randon state 1, the training accuracy is:- 0.078790459884294\n",
      "At random state 1, the testing accuracy is:0.08571690361556294\n",
      "\n",
      "\n",
      "At randon state 2, the training accuracy is:- 0.08348756917509492\n",
      "At random state 2, the testing accuracy is:0.06535878034050024\n",
      "\n",
      "\n",
      "At randon state 3, the training accuracy is:- 0.08592842622546992\n",
      "At random state 3, the testing accuracy is:0.056017236119602964\n",
      "\n",
      "\n",
      "At randon state 4, the training accuracy is:- 0.08016248423436434\n",
      "At random state 4, the testing accuracy is:0.08008121016879821\n",
      "\n",
      "\n",
      "At randon state 5, the training accuracy is:- 0.07852506087818145\n",
      "At random state 5, the testing accuracy is:0.08709721612008925\n",
      "\n",
      "\n",
      "At randon state 6, the training accuracy is:- 0.08067469027865859\n",
      "At random state 6, the testing accuracy is:0.0736697892355671\n",
      "\n",
      "\n",
      "At randon state 7, the training accuracy is:- 0.08362032292331012\n",
      "At random state 7, the testing accuracy is:0.062112619731213736\n",
      "\n",
      "\n",
      "At randon state 8, the training accuracy is:- 0.08065381672658622\n",
      "At random state 8, the testing accuracy is:0.07693501347735632\n",
      "\n",
      "\n",
      "At randon state 9, the training accuracy is:- 0.08857978233125385\n",
      "At random state 9, the testing accuracy is:0.041239498205731584\n",
      "\n",
      "\n",
      "At randon state 10, the training accuracy is:- 0.08241894313242959\n",
      "At random state 10, the testing accuracy is:0.07058657053318229\n",
      "\n",
      "\n",
      "At randon state 11, the training accuracy is:- 0.07825346201848038\n",
      "At random state 11, the testing accuracy is:0.08652342355173614\n",
      "\n",
      "\n",
      "At randon state 12, the training accuracy is:- 0.07496508869223328\n",
      "At random state 12, the testing accuracy is:0.0998682954241733\n",
      "\n",
      "\n",
      "At randon state 13, the training accuracy is:- 0.07776887735705407\n",
      "At random state 13, the testing accuracy is:0.08870083661053008\n",
      "\n",
      "\n",
      "At randon state 14, the training accuracy is:- 0.08592064218134943\n",
      "At random state 14, the testing accuracy is:0.057130967800184895\n",
      "\n",
      "\n",
      "At randon state 15, the training accuracy is:- 0.07732893858112477\n",
      "At random state 15, the testing accuracy is:0.09186713821554193\n",
      "\n",
      "\n",
      "At randon state 16, the training accuracy is:- 0.0860241528788076\n",
      "At random state 16, the testing accuracy is:0.05332738006679649\n",
      "\n",
      "\n",
      "At randon state 17, the training accuracy is:- 0.08547814441425017\n",
      "At random state 17, the testing accuracy is:0.05701381213842338\n",
      "\n",
      "\n",
      "At randon state 18, the training accuracy is:- 0.07932637075430582\n",
      "At random state 18, the testing accuracy is:0.07973911396224342\n",
      "\n",
      "\n",
      "At randon state 19, the training accuracy is:- 0.08284625775814736\n",
      "At random state 19, the testing accuracy is:0.06845478119015513\n",
      "\n",
      "\n",
      "At randon state 20, the training accuracy is:- 0.08320540602004223\n",
      "At random state 20, the testing accuracy is:0.06636352139192592\n",
      "\n",
      "\n",
      "At randon state 21, the training accuracy is:- 0.08305223774529857\n",
      "At random state 21, the testing accuracy is:0.06784182297402486\n",
      "\n",
      "\n",
      "At randon state 22, the training accuracy is:- 0.07927095570822429\n",
      "At random state 22, the testing accuracy is:0.08095265346465252\n",
      "\n",
      "\n",
      "At randon state 23, the training accuracy is:- 0.07741977126170507\n",
      "At random state 23, the testing accuracy is:0.09013927225237628\n",
      "\n",
      "\n",
      "At randon state 24, the training accuracy is:- 0.08281230388240202\n",
      "At random state 24, the testing accuracy is:0.07044230175417476\n",
      "\n",
      "\n",
      "At randon state 25, the training accuracy is:- 0.08043064067660743\n",
      "At random state 25, the testing accuracy is:0.0780063260457089\n",
      "\n",
      "\n",
      "At randon state 26, the training accuracy is:- 0.08641504513284193\n",
      "At random state 26, the testing accuracy is:0.050787885715236736\n",
      "\n",
      "\n",
      "At randon state 27, the training accuracy is:- 0.07401762618175511\n",
      "At random state 27, the testing accuracy is:0.10312350526607661\n",
      "\n",
      "\n",
      "At randon state 28, the training accuracy is:- 0.0858839206207469\n",
      "At random state 28, the testing accuracy is:0.05791597777068214\n",
      "\n",
      "\n",
      "At randon state 29, the training accuracy is:- 0.08320838714793755\n",
      "At random state 29, the testing accuracy is:0.06276039269263978\n",
      "\n",
      "\n",
      "At randon state 30, the training accuracy is:- 0.0805692994521815\n",
      "At random state 30, the testing accuracy is:0.07524501598224975\n",
      "\n",
      "\n",
      "At randon state 31, the training accuracy is:- 0.08289306239369731\n",
      "At random state 31, the testing accuracy is:0.06321428344118374\n",
      "\n",
      "\n",
      "At randon state 32, the training accuracy is:- 0.08360575738518694\n",
      "At random state 32, the testing accuracy is:0.06431997268961731\n",
      "\n",
      "\n",
      "At randon state 33, the training accuracy is:- 0.08003498211868865\n",
      "At random state 33, the testing accuracy is:0.08061010347572439\n",
      "\n",
      "\n",
      "At randon state 34, the training accuracy is:- 0.08292960489834278\n",
      "At random state 34, the testing accuracy is:0.06821988173559823\n",
      "\n",
      "\n",
      "At randon state 35, the training accuracy is:- 0.07972095074509356\n",
      "At random state 35, the testing accuracy is:0.08152805360940463\n",
      "\n",
      "\n",
      "At randon state 36, the training accuracy is:- 0.08079088860215655\n",
      "At random state 36, the testing accuracy is:0.0768276409160602\n",
      "\n",
      "\n",
      "At randon state 37, the training accuracy is:- 0.08246878894406973\n",
      "At random state 37, the testing accuracy is:0.07077932571908352\n",
      "\n",
      "\n",
      "At randon state 38, the training accuracy is:- 0.0742235194509816\n",
      "At random state 38, the testing accuracy is:0.10292172296876922\n",
      "\n",
      "\n",
      "At randon state 39, the training accuracy is:- 0.07764938081754891\n",
      "At random state 39, the testing accuracy is:0.09006682870287652\n",
      "\n",
      "\n",
      "At randon state 40, the training accuracy is:- 0.08177392857935895\n",
      "At random state 40, the testing accuracy is:0.07332812454525417\n",
      "\n",
      "\n",
      "At randon state 41, the training accuracy is:- 0.07834646604099238\n",
      "At random state 41, the testing accuracy is:0.08614696217602102\n",
      "\n",
      "\n",
      "At randon state 42, the training accuracy is:- 0.080813764540141\n",
      "At random state 42, the testing accuracy is:0.07764458448572209\n",
      "\n",
      "\n",
      "At randon state 43, the training accuracy is:- 0.07891401220737737\n",
      "At random state 43, the testing accuracy is:0.08510633625999964\n",
      "\n",
      "\n",
      "At randon state 44, the training accuracy is:- 0.07486730650572027\n",
      "At random state 44, the testing accuracy is:0.09936804824881451\n",
      "\n",
      "\n",
      "At randon state 45, the training accuracy is:- 0.08126354529927937\n",
      "At random state 45, the testing accuracy is:0.07498946275202079\n",
      "\n",
      "\n",
      "At randon state 46, the training accuracy is:- 0.08427698414267215\n",
      "At random state 46, the testing accuracy is:0.06516857131568621\n",
      "\n",
      "\n",
      "At randon state 47, the training accuracy is:- 0.08515817692404926\n",
      "At random state 47, the testing accuracy is:0.059585035556191546\n",
      "\n",
      "\n",
      "At randon state 48, the training accuracy is:- 0.08145030445901236\n",
      "At random state 48, the testing accuracy is:0.07401058239117952\n",
      "\n",
      "\n",
      "At randon state 49, the training accuracy is:- 0.07730990026446882\n",
      "At random state 49, the testing accuracy is:0.09091421172638459\n",
      "\n",
      "\n",
      "At randon state 50, the training accuracy is:- 0.0798639283576783\n",
      "At random state 50, the testing accuracy is:0.08049831079426528\n",
      "\n",
      "\n",
      "At randon state 51, the training accuracy is:- 0.0805821108184317\n",
      "At random state 51, the testing accuracy is:0.07772256215072726\n",
      "\n",
      "\n",
      "At randon state 52, the training accuracy is:- 0.0878733650551281\n",
      "At random state 52, the testing accuracy is:0.04754482464953724\n",
      "\n",
      "\n",
      "At randon state 53, the training accuracy is:- 0.0830625326721195\n",
      "At random state 53, the testing accuracy is:0.0650397880906789\n",
      "\n",
      "\n",
      "At randon state 54, the training accuracy is:- 0.08094067833284835\n",
      "At random state 54, the testing accuracy is:0.0761404312807914\n",
      "\n",
      "\n",
      "At randon state 55, the training accuracy is:- 0.08153245869296755\n",
      "At random state 55, the testing accuracy is:0.07471799796047951\n",
      "\n",
      "\n",
      "At randon state 56, the training accuracy is:- 0.07778733135010318\n",
      "At random state 56, the testing accuracy is:0.08858986530365365\n",
      "\n",
      "\n",
      "At randon state 57, the training accuracy is:- 0.08094063790948236\n",
      "At random state 57, the testing accuracy is:0.07694819251021201\n",
      "\n",
      "\n",
      "At randon state 58, the training accuracy is:- 0.08344046849749154\n",
      "At random state 58, the testing accuracy is:0.0661488716300983\n",
      "\n",
      "\n",
      "At randon state 59, the training accuracy is:- 0.076777209658351\n",
      "At random state 59, the testing accuracy is:0.09401106759334676\n",
      "\n",
      "\n",
      "At randon state 60, the training accuracy is:- 0.07681630283836716\n",
      "At random state 60, the testing accuracy is:0.09156485882850618\n",
      "\n",
      "\n",
      "At randon state 61, the training accuracy is:- 0.08333076812032048\n",
      "At random state 61, the testing accuracy is:0.06637160372246953\n",
      "\n",
      "\n",
      "At randon state 62, the training accuracy is:- 0.08038071515118395\n",
      "At random state 62, the testing accuracy is:0.07847801980642632\n",
      "\n",
      "\n",
      "At randon state 63, the training accuracy is:- 0.07832004931919812\n",
      "At random state 63, the testing accuracy is:0.08778453506297867\n",
      "\n",
      "\n",
      "At randon state 64, the training accuracy is:- 0.08016084670395884\n",
      "At random state 64, the testing accuracy is:0.07814999592859084\n",
      "\n",
      "\n",
      "At randon state 65, the training accuracy is:- 0.08187395519736329\n",
      "At random state 65, the testing accuracy is:0.07297921487180159\n",
      "\n",
      "\n"
     ]
    },
    {
     "name": "stdout",
     "output_type": "stream",
     "text": [
      "At randon state 66, the training accuracy is:- 0.0854707478926966\n",
      "At random state 66, the testing accuracy is:0.05922151136961462\n",
      "\n",
      "\n",
      "At randon state 67, the training accuracy is:- 0.07473661748812366\n",
      "At random state 67, the testing accuracy is:0.10170350007243512\n",
      "\n",
      "\n",
      "At randon state 68, the training accuracy is:- 0.07964834253051634\n",
      "At random state 68, the testing accuracy is:0.08217845751830144\n",
      "\n",
      "\n",
      "At randon state 69, the training accuracy is:- 0.07973341331769357\n",
      "At random state 69, the testing accuracy is:0.08116012261815841\n",
      "\n",
      "\n",
      "At randon state 70, the training accuracy is:- 0.08385240605507804\n",
      "At random state 70, the testing accuracy is:0.06444863480502716\n",
      "\n",
      "\n",
      "At randon state 71, the training accuracy is:- 0.08035383127684104\n",
      "At random state 71, the testing accuracy is:0.07515719683821342\n",
      "\n",
      "\n",
      "At randon state 72, the training accuracy is:- 0.08082646898573143\n",
      "At random state 72, the testing accuracy is:0.07725346756236706\n",
      "\n",
      "\n",
      "At randon state 73, the training accuracy is:- 0.0819368420466351\n",
      "At random state 73, the testing accuracy is:0.07288318374185632\n",
      "\n",
      "\n",
      "At randon state 74, the training accuracy is:- 0.07414208844394743\n",
      "At random state 74, the testing accuracy is:0.10227159442286826\n",
      "\n",
      "\n",
      "At randon state 75, the training accuracy is:- 0.08013934357859165\n",
      "At random state 75, the testing accuracy is:0.08059224451931701\n",
      "\n",
      "\n",
      "At randon state 76, the training accuracy is:- 0.08209181632164686\n",
      "At random state 76, the testing accuracy is:0.07224045601129259\n",
      "\n",
      "\n",
      "At randon state 77, the training accuracy is:- 0.07894941653171261\n",
      "At random state 77, the testing accuracy is:0.08453604605922227\n",
      "\n",
      "\n",
      "At randon state 78, the training accuracy is:- 0.0783188147044599\n",
      "At random state 78, the testing accuracy is:0.08682095400059109\n",
      "\n",
      "\n",
      "At randon state 79, the training accuracy is:- 0.07852954308144167\n",
      "At random state 79, the testing accuracy is:0.08661891408913991\n",
      "\n",
      "\n",
      "At randon state 80, the training accuracy is:- 0.08286953852684009\n",
      "At random state 80, the testing accuracy is:0.06614917602901371\n",
      "\n",
      "\n",
      "At randon state 81, the training accuracy is:- 0.07979272785402347\n",
      "At random state 81, the testing accuracy is:0.08021120787673297\n",
      "\n",
      "\n",
      "At randon state 82, the training accuracy is:- 0.07831194872681957\n",
      "At random state 82, the testing accuracy is:0.0819435374493036\n",
      "\n",
      "\n",
      "At randon state 83, the training accuracy is:- 0.08476885244409182\n",
      "At random state 83, the testing accuracy is:0.06059607080494234\n",
      "\n",
      "\n",
      "At randon state 84, the training accuracy is:- 0.08103674183528797\n",
      "At random state 84, the testing accuracy is:0.0764937471292495\n",
      "\n",
      "\n",
      "At randon state 85, the training accuracy is:- 0.0819847106193885\n",
      "At random state 85, the testing accuracy is:0.07309093574974534\n",
      "\n",
      "\n",
      "At randon state 86, the training accuracy is:- 0.07835617468807343\n",
      "At random state 86, the testing accuracy is:0.08719782150891009\n",
      "\n",
      "\n",
      "At randon state 87, the training accuracy is:- 0.08168011157213328\n",
      "At random state 87, the testing accuracy is:0.06334346040567784\n",
      "\n",
      "\n",
      "At randon state 88, the training accuracy is:- 0.08126993329747612\n",
      "At random state 88, the testing accuracy is:0.07590063161415872\n",
      "\n",
      "\n",
      "At randon state 89, the training accuracy is:- 0.07554285473589606\n",
      "At random state 89, the testing accuracy is:0.09876879514990466\n",
      "\n",
      "\n",
      "At randon state 90, the training accuracy is:- 0.07923924772891422\n",
      "At random state 90, the testing accuracy is:0.08241826904195393\n",
      "\n",
      "\n",
      "At randon state 91, the training accuracy is:- 0.08287658505390938\n",
      "At random state 91, the testing accuracy is:0.06842151874798241\n",
      "\n",
      "\n",
      "At randon state 92, the training accuracy is:- 0.08690011119461494\n",
      "At random state 92, the testing accuracy is:0.05139876547080369\n",
      "\n",
      "\n",
      "At randon state 93, the training accuracy is:- 0.07809544186388861\n",
      "At random state 93, the testing accuracy is:0.08746411748088823\n",
      "\n",
      "\n",
      "At randon state 94, the training accuracy is:- 0.0791004748260784\n",
      "At random state 94, the testing accuracy is:0.08333738124154844\n",
      "\n",
      "\n",
      "At randon state 95, the training accuracy is:- 0.08056413303290377\n",
      "At random state 95, the testing accuracy is:0.07829098225365327\n",
      "\n",
      "\n",
      "At randon state 96, the training accuracy is:- 0.08119822824538259\n",
      "At random state 96, the testing accuracy is:0.07565734912293653\n",
      "\n",
      "\n",
      "At randon state 97, the training accuracy is:- 0.08122495244992545\n",
      "At random state 97, the testing accuracy is:0.07580119083516978\n",
      "\n",
      "\n",
      "At randon state 98, the training accuracy is:- 0.08365663530481571\n",
      "At random state 98, the testing accuracy is:0.06657226206097955\n",
      "\n",
      "\n",
      "At randon state 99, the training accuracy is:- 0.07986614511143875\n",
      "At random state 99, the testing accuracy is:0.08128099282388135\n",
      "\n",
      "\n"
     ]
    }
   ],
   "source": [
    "for i in range(0,100):\n",
    "    x_train, x_test, y_train, y_test=train_test_split(x, y, test_size=0.2, random_state=i)\n",
    "    lr.fit(x_train,y_train) \n",
    "    pred_train=lr.predict(x_train) \n",
    "    pred_test=lr.predict(x_test) \n",
    "    print (f\"At randon state {i}, the training accuracy is:- {r2_score(y_train, pred_train)}\") \n",
    "    print (f\"At random state {i}, the testing accuracy is:{r2_score(y_test,pred_test)}\") \n",
    "    print(\"\\n\")"
   ]
  },
  {
   "cell_type": "code",
   "execution_count": 298,
   "metadata": {},
   "outputs": [],
   "source": [
    "x_train, x_test, y_train, y_test=train_test_split(x, y, test_size=0.2, random_state=27)"
   ]
  },
  {
   "cell_type": "code",
   "execution_count": 299,
   "metadata": {},
   "outputs": [
    {
     "data": {
      "text/plain": [
       "LinearRegression()"
      ]
     },
     "execution_count": 299,
     "metadata": {},
     "output_type": "execute_result"
    }
   ],
   "source": [
    "lr.fit(x_train, y_train)"
   ]
  },
  {
   "cell_type": "code",
   "execution_count": 300,
   "metadata": {},
   "outputs": [],
   "source": [
    "prd_test=dtr.predict(x_test)"
   ]
  },
  {
   "cell_type": "code",
   "execution_count": 301,
   "metadata": {},
   "outputs": [
    {
     "name": "stdout",
     "output_type": "stream",
     "text": [
      "-0.06635227846180491\n"
     ]
    }
   ],
   "source": [
    "print (r2_score(y_test, pred_test))"
   ]
  },
  {
   "cell_type": "markdown",
   "metadata": {},
   "source": [
    "# Cross-validation of the model"
   ]
  },
  {
   "cell_type": "code",
   "execution_count": 302,
   "metadata": {},
   "outputs": [],
   "source": [
    "Train_accuracy=r2_score(y_train,pred_train) \n",
    "Test_accuracy= r2_score(y_test,pred_test)"
   ]
  },
  {
   "cell_type": "code",
   "execution_count": 303,
   "metadata": {},
   "outputs": [
    {
     "name": "stdout",
     "output_type": "stream",
     "text": [
      " At cross fold 2 the cv score is 0.07912192134026863 and accuracy score for training is -0.07091790824132116 and accuracy score for testing is -0.06635227846180491\n",
      "\n",
      "\n",
      " At cross fold 3 the cv score is 0.07827728417265319 and accuracy score for training is -0.07091790824132116 and accuracy score for testing is -0.06635227846180491\n",
      "\n",
      "\n",
      " At cross fold 4 the cv score is 0.07813206016778412 and accuracy score for training is -0.07091790824132116 and accuracy score for testing is -0.06635227846180491\n",
      "\n",
      "\n",
      " At cross fold 5 the cv score is 0.07708062487396908 and accuracy score for training is -0.07091790824132116 and accuracy score for testing is -0.06635227846180491\n",
      "\n",
      "\n",
      " At cross fold 6 the cv score is 0.07686089200120803 and accuracy score for training is -0.07091790824132116 and accuracy score for testing is -0.06635227846180491\n",
      "\n",
      "\n",
      " At cross fold 7 the cv score is 0.07680519274544097 and accuracy score for training is -0.07091790824132116 and accuracy score for testing is -0.06635227846180491\n",
      "\n",
      "\n",
      " At cross fold 8 the cv score is 0.07777228112744483 and accuracy score for training is -0.07091790824132116 and accuracy score for testing is -0.06635227846180491\n",
      "\n",
      "\n",
      " At cross fold 9 the cv score is 0.07670637375592163 and accuracy score for training is -0.07091790824132116 and accuracy score for testing is -0.06635227846180491\n",
      "\n",
      "\n"
     ]
    }
   ],
   "source": [
    "from sklearn.model_selection import cross_val_score \n",
    "for j in range (2,10):\n",
    "    cv_score=cross_val_score (lr , x, y, cv=j)\n",
    "    cv_mean=cv_score.mean()\n",
    "    print(f\" At cross fold {j} the cv score is {cv_mean} and accuracy score for training is {Train_accuracy} and accuracy score for testing is {Test_accuracy}\")  \n",
    "    print(\"\\n\")"
   ]
  },
  {
   "cell_type": "markdown",
   "metadata": {},
   "source": [
    "Since the number of folds don't have such impact on the accuracy and cv_score. So cv=5 is selected."
   ]
  },
  {
   "cell_type": "code",
   "execution_count": null,
   "metadata": {},
   "outputs": [],
   "source": []
  },
  {
   "cell_type": "code",
   "execution_count": 304,
   "metadata": {},
   "outputs": [
    {
     "data": {
      "image/png": "[encoded data removed]",
      "text/plain": [
       "<Figure size 576x432 with 1 Axes>"
      ]
     },
     "metadata": {
      "needs_background": "light"
     },
     "output_type": "display_data"
    }
   ],
   "source": [
    "import matplotlib.pyplot as plt \n",
    "plt. figure(figsize=(8,6)) \n",
    "plt. scatter(x=y_test, y=pred_test, color='r') \n",
    "plt.plot(y_test, y_test, color='b') \n",
    "plt.xlabel('Actual fees', fontsize=14) \n",
    "plt.ylabel('predicted fees', fontsize=14) \n",
    "plt.title('Linear regression', fontsize=18) \n",
    "plt.show()"
   ]
  },
  {
   "cell_type": "markdown",
   "metadata": {},
   "source": [
    "# Regularization"
   ]
  },
  {
   "cell_type": "code",
   "execution_count": 314,
   "metadata": {},
   "outputs": [],
   "source": [
    "from sklearn.model_selection import GridSearchCV \n",
    "from sklearn.model_selection import cross_val_score"
   ]
  },
  {
   "cell_type": "code",
   "execution_count": 315,
   "metadata": {},
   "outputs": [
    {
     "name": "stdout",
     "output_type": "stream",
     "text": [
      "{'alpha': 1, 'random_state': 0}\n"
     ]
    }
   ],
   "source": [
    "from sklearn.linear_model import Lasso \n",
    "parameters = {'alpha' : [.0001, .001, .01, .1, 1, 10], 'random_state' :list (range(0,10))} \n",
    "ls= Lasso() \n",
    "clf= GridSearchCV(ls, parameters) \n",
    "clf.fit(x_train, y_train)\n",
    "print (clf.best_params_)"
   ]
  },
  {
   "cell_type": "code",
   "execution_count": 316,
   "metadata": {},
   "outputs": [
    {
     "data": {
      "text/plain": [
       "0.10312359174345864"
      ]
     },
     "execution_count": 316,
     "metadata": {},
     "output_type": "execute_result"
    }
   ],
   "source": [
    "ls=Lasso(alpha=0.0001, random_state=0) \n",
    "ls.fit(x_train, y_train) \n",
    "ls.score(x_train, y_train) \n",
    "pred_ls=ls.predict(x_test) \n",
    "lss = r2_score(y_test ,pred_ls) \n",
    "lss"
   ]
  },
  {
   "cell_type": "code",
   "execution_count": 317,
   "metadata": {},
   "outputs": [
    {
     "data": {
      "text/plain": [
       "0.07708065789129485"
      ]
     },
     "execution_count": 317,
     "metadata": {},
     "output_type": "execute_result"
    }
   ],
   "source": [
    "cv_score=cross_val_score (ls , x, y,cv=5) \n",
    "cv_mean=cv_score.mean() \n",
    "cv_mean"
   ]
  },
  {
   "cell_type": "markdown",
   "metadata": {},
   "source": [
    "# Ensemble Technique"
   ]
  },
  {
   "cell_type": "code",
   "execution_count": 318,
   "metadata": {},
   "outputs": [
    {
     "name": "stdout",
     "output_type": "stream",
     "text": [
      "R2 core: 15.494471417883416\n",
      "Cross Val Score: 12.705540183156325\n"
     ]
    }
   ],
   "source": [
    "rf=RandomForestRegressor (criterion=\"mse\", max_features=\"auto\") \n",
    "rf.fit(x_train, y_train) \n",
    "rf.score(x_train,y_train) \n",
    "pred_decision =rf.predict(x_test) \n",
    "\n",
    "rfs = r2_score(y_test, pred_decision) \n",
    "print('R2 core:' , rfs*100 ) \n",
    "     \n",
    "rfscore = cross_val_score( rf,x,y,cv=5) \n",
    "rfc = rfscore.mean() \n",
    "print('Cross Val Score:',rfc* 100)"
   ]
  },
  {
   "cell_type": "code",
   "execution_count": null,
   "metadata": {},
   "outputs": [],
   "source": []
  },
  {
   "cell_type": "code",
   "execution_count": 319,
   "metadata": {},
   "outputs": [],
   "source": [
    "import pickle \n",
    "filename = 'DCF_train_project.pkl'\n",
    "pickle.dump(rf, open( filename, 'wb' ))"
   ]
  },
  {
   "cell_type": "markdown",
   "metadata": {},
   "source": [
    "# Conclusion"
   ]
  },
  {
   "cell_type": "code",
   "execution_count": 320,
   "metadata": {},
   "outputs": [
    {
     "name": "stdout",
     "output_type": "stream",
     "text": [
      "0.15494471417883415\n"
     ]
    }
   ],
   "source": [
    "loaded_model = pickle.load(open('DCF_train_project.pkl', 'rb')) \n",
    "result = loaded_model.score(x_test, y_test)\n",
    "\n",
    "print(result)"
   ]
  },
  {
   "cell_type": "code",
   "execution_count": 321,
   "metadata": {},
   "outputs": [
    {
     "data": {
      "text/html": [
       "<div>\n",
       "<style scoped>\n",
       "    .dataframe tbody tr th:only-of-type {\n",
       "        vertical-align: middle;\n",
       "    }\n",
       "\n",
       "    .dataframe tbody tr th {\n",
       "        vertical-align: top;\n",
       "    }\n",
       "\n",
       "    .dataframe thead th {\n",
       "        text-align: right;\n",
       "    }\n",
       "</style>\n",
       "<table border=\"1\" class=\"dataframe\">\n",
       "  <thead>\n",
       "    <tr style=\"text-align: right;\">\n",
       "      <th></th>\n",
       "      <th>0</th>\n",
       "      <th>1</th>\n",
       "      <th>2</th>\n",
       "      <th>3</th>\n",
       "      <th>4</th>\n",
       "      <th>5</th>\n",
       "      <th>6</th>\n",
       "      <th>7</th>\n",
       "      <th>8</th>\n",
       "      <th>9</th>\n",
       "      <th>...</th>\n",
       "      <th>1183</th>\n",
       "      <th>1184</th>\n",
       "      <th>1185</th>\n",
       "      <th>1186</th>\n",
       "      <th>1187</th>\n",
       "      <th>1188</th>\n",
       "      <th>1189</th>\n",
       "      <th>1190</th>\n",
       "      <th>1191</th>\n",
       "      <th>1192</th>\n",
       "    </tr>\n",
       "  </thead>\n",
       "  <tbody>\n",
       "    <tr>\n",
       "      <th>Predicted</th>\n",
       "      <td>296.5</td>\n",
       "      <td>402.5</td>\n",
       "      <td>370.5</td>\n",
       "      <td>305.0</td>\n",
       "      <td>338.8</td>\n",
       "      <td>264.4</td>\n",
       "      <td>177.15</td>\n",
       "      <td>289.3</td>\n",
       "      <td>389.5</td>\n",
       "      <td>438.5</td>\n",
       "      <td>...</td>\n",
       "      <td>195.5</td>\n",
       "      <td>415.0</td>\n",
       "      <td>378.5</td>\n",
       "      <td>419.5</td>\n",
       "      <td>341.7</td>\n",
       "      <td>349.0</td>\n",
       "      <td>265.5</td>\n",
       "      <td>244.5</td>\n",
       "      <td>407.5</td>\n",
       "      <td>330.5</td>\n",
       "    </tr>\n",
       "    <tr>\n",
       "      <th>orginal</th>\n",
       "      <td>296.5</td>\n",
       "      <td>402.5</td>\n",
       "      <td>370.5</td>\n",
       "      <td>305.0</td>\n",
       "      <td>338.8</td>\n",
       "      <td>264.4</td>\n",
       "      <td>177.15</td>\n",
       "      <td>289.3</td>\n",
       "      <td>389.5</td>\n",
       "      <td>438.5</td>\n",
       "      <td>...</td>\n",
       "      <td>195.5</td>\n",
       "      <td>415.0</td>\n",
       "      <td>378.5</td>\n",
       "      <td>419.5</td>\n",
       "      <td>341.7</td>\n",
       "      <td>349.0</td>\n",
       "      <td>265.5</td>\n",
       "      <td>244.5</td>\n",
       "      <td>407.5</td>\n",
       "      <td>330.5</td>\n",
       "    </tr>\n",
       "  </tbody>\n",
       "</table>\n",
       "<p>2 rows × 1193 columns</p>\n",
       "</div>"
      ],
      "text/plain": [
       "            0      1      2      3      4      5       6      7      8     \\\n",
       "Predicted  296.5  402.5  370.5  305.0  338.8  264.4  177.15  289.3  389.5   \n",
       "orginal    296.5  402.5  370.5  305.0  338.8  264.4  177.15  289.3  389.5   \n",
       "\n",
       "            9     ...   1183   1184   1185   1186   1187   1188   1189   1190  \\\n",
       "Predicted  438.5  ...  195.5  415.0  378.5  419.5  341.7  349.0  265.5  244.5   \n",
       "orginal    438.5  ...  195.5  415.0  378.5  419.5  341.7  349.0  265.5  244.5   \n",
       "\n",
       "            1191   1192  \n",
       "Predicted  407.5  330.5  \n",
       "orginal    407.5  330.5  \n",
       "\n",
       "[2 rows x 1193 columns]"
      ]
     },
     "execution_count": 321,
     "metadata": {},
     "output_type": "execute_result"
    }
   ],
   "source": [
    "conclusion=pd.DataFrame([loaded_model.predict(x_test)[:], pred_decision[:]], index=[\"Predicted\", \"orginal\"])\n",
    "\n",
    "conclusion"
   ]
  },
  {
   "cell_type": "code",
   "execution_count": null,
   "metadata": {},
   "outputs": [],
   "source": []
  },
  {
   "cell_type": "markdown",
   "metadata": {},
   "source": [
    "# Working on Test Data"
   ]
  },
  {
   "cell_type": "code",
   "execution_count": 348,
   "metadata": {},
   "outputs": [
    {
     "data": {
      "text/html": [
       "<div>\n",
       "<style scoped>\n",
       "    .dataframe tbody tr th:only-of-type {\n",
       "        vertical-align: middle;\n",
       "    }\n",
       "\n",
       "    .dataframe tbody tr th {\n",
       "        vertical-align: top;\n",
       "    }\n",
       "\n",
       "    .dataframe thead th {\n",
       "        text-align: right;\n",
       "    }\n",
       "</style>\n",
       "<table border=\"1\" class=\"dataframe\">\n",
       "  <thead>\n",
       "    <tr style=\"text-align: right;\">\n",
       "      <th></th>\n",
       "      <th>Qualification</th>\n",
       "      <th>Experience</th>\n",
       "      <th>Rating</th>\n",
       "      <th>Place</th>\n",
       "      <th>Profile</th>\n",
       "      <th>Miscellaneous_Info</th>\n",
       "    </tr>\n",
       "  </thead>\n",
       "  <tbody>\n",
       "    <tr>\n",
       "      <th>0</th>\n",
       "      <td>MBBS</td>\n",
       "      <td>35 years experience</td>\n",
       "      <td>NaN</td>\n",
       "      <td>Ghatkopar East, Mumbai</td>\n",
       "      <td>General Medicine</td>\n",
       "      <td>NaN</td>\n",
       "    </tr>\n",
       "    <tr>\n",
       "      <th>1</th>\n",
       "      <td>MBBS, Diploma in Otorhinolaryngology (DLO)</td>\n",
       "      <td>31 years experience</td>\n",
       "      <td>NaN</td>\n",
       "      <td>West Marredpally, Hyderabad</td>\n",
       "      <td>ENT Specialist</td>\n",
       "      <td>NaN</td>\n",
       "    </tr>\n",
       "    <tr>\n",
       "      <th>2</th>\n",
       "      <td>MBBS, DDVL</td>\n",
       "      <td>40 years experience</td>\n",
       "      <td>70%</td>\n",
       "      <td>KK Nagar, Chennai</td>\n",
       "      <td>Dermatologists</td>\n",
       "      <td>70% 4 Feedback KK Nagar, Chennai</td>\n",
       "    </tr>\n",
       "    <tr>\n",
       "      <th>3</th>\n",
       "      <td>BAMS</td>\n",
       "      <td>0 years experience</td>\n",
       "      <td>NaN</td>\n",
       "      <td>New Ashok Nagar, Delhi</td>\n",
       "      <td>Ayurveda</td>\n",
       "      <td>NaN</td>\n",
       "    </tr>\n",
       "    <tr>\n",
       "      <th>4</th>\n",
       "      <td>BDS, MDS - Conservative Dentistry &amp; Endodontics</td>\n",
       "      <td>16 years experience</td>\n",
       "      <td>100%</td>\n",
       "      <td>Kanakpura Road, Bangalore</td>\n",
       "      <td>Dentist</td>\n",
       "      <td>General Dentistry Conservative Dentistry Cosme...</td>\n",
       "    </tr>\n",
       "    <tr>\n",
       "      <th>...</th>\n",
       "      <td>...</td>\n",
       "      <td>...</td>\n",
       "      <td>...</td>\n",
       "      <td>...</td>\n",
       "      <td>...</td>\n",
       "      <td>...</td>\n",
       "    </tr>\n",
       "    <tr>\n",
       "      <th>1982</th>\n",
       "      <td>BAMS, Doctor of Medicine</td>\n",
       "      <td>10 years experience</td>\n",
       "      <td>NaN</td>\n",
       "      <td>Basavanagudi, Bangalore</td>\n",
       "      <td>Ayurveda</td>\n",
       "      <td>NaN</td>\n",
       "    </tr>\n",
       "    <tr>\n",
       "      <th>1983</th>\n",
       "      <td>MD - Dermatology , Venereology &amp; Leprosy, MBBS</td>\n",
       "      <td>4 years experience</td>\n",
       "      <td>NaN</td>\n",
       "      <td>Choolai, Chennai</td>\n",
       "      <td>Dermatologists</td>\n",
       "      <td>NaN</td>\n",
       "    </tr>\n",
       "    <tr>\n",
       "      <th>1984</th>\n",
       "      <td>MBBS, MD / MS - Obstetrics &amp; Gynaecology</td>\n",
       "      <td>9 years experience</td>\n",
       "      <td>NaN</td>\n",
       "      <td>Porur, Chennai</td>\n",
       "      <td>General Medicine</td>\n",
       "      <td>NaN</td>\n",
       "    </tr>\n",
       "    <tr>\n",
       "      <th>1985</th>\n",
       "      <td>BDS</td>\n",
       "      <td>12 years experience</td>\n",
       "      <td>98%</td>\n",
       "      <td>Arekere, Bangalore</td>\n",
       "      <td>Dentist</td>\n",
       "      <td>RCT - Root Canal Treatment Root Canal Treatmen...</td>\n",
       "    </tr>\n",
       "    <tr>\n",
       "      <th>1986</th>\n",
       "      <td>MBBS, MD - Dermatology , Venereology &amp; Leprosy</td>\n",
       "      <td>8 years experience</td>\n",
       "      <td>NaN</td>\n",
       "      <td>Pallikaranai, Chennai</td>\n",
       "      <td>Dermatologists</td>\n",
       "      <td>1 Feedback Pallikaranai, Chennai ₹500</td>\n",
       "    </tr>\n",
       "  </tbody>\n",
       "</table>\n",
       "<p>1987 rows × 6 columns</p>\n",
       "</div>"
      ],
      "text/plain": [
       "                                        Qualification           Experience  \\\n",
       "0                                                MBBS  35 years experience   \n",
       "1          MBBS, Diploma in Otorhinolaryngology (DLO)  31 years experience   \n",
       "2                                          MBBS, DDVL  40 years experience   \n",
       "3                                                BAMS   0 years experience   \n",
       "4     BDS, MDS - Conservative Dentistry & Endodontics  16 years experience   \n",
       "...                                               ...                  ...   \n",
       "1982                         BAMS, Doctor of Medicine  10 years experience   \n",
       "1983   MD - Dermatology , Venereology & Leprosy, MBBS   4 years experience   \n",
       "1984         MBBS, MD / MS - Obstetrics & Gynaecology   9 years experience   \n",
       "1985                                              BDS  12 years experience   \n",
       "1986   MBBS, MD - Dermatology , Venereology & Leprosy   8 years experience   \n",
       "\n",
       "     Rating                        Place           Profile  \\\n",
       "0       NaN       Ghatkopar East, Mumbai  General Medicine   \n",
       "1       NaN  West Marredpally, Hyderabad    ENT Specialist   \n",
       "2       70%            KK Nagar, Chennai    Dermatologists   \n",
       "3       NaN       New Ashok Nagar, Delhi          Ayurveda   \n",
       "4      100%    Kanakpura Road, Bangalore           Dentist   \n",
       "...     ...                          ...               ...   \n",
       "1982    NaN      Basavanagudi, Bangalore          Ayurveda   \n",
       "1983    NaN             Choolai, Chennai    Dermatologists   \n",
       "1984    NaN               Porur, Chennai  General Medicine   \n",
       "1985    98%           Arekere, Bangalore           Dentist   \n",
       "1986    NaN        Pallikaranai, Chennai    Dermatologists   \n",
       "\n",
       "                                     Miscellaneous_Info  \n",
       "0                                                   NaN  \n",
       "1                                                   NaN  \n",
       "2                      70% 4 Feedback KK Nagar, Chennai  \n",
       "3                                                   NaN  \n",
       "4     General Dentistry Conservative Dentistry Cosme...  \n",
       "...                                                 ...  \n",
       "1982                                                NaN  \n",
       "1983                                                NaN  \n",
       "1984                                                NaN  \n",
       "1985  RCT - Root Canal Treatment Root Canal Treatmen...  \n",
       "1986              1 Feedback Pallikaranai, Chennai ₹500  \n",
       "\n",
       "[1987 rows x 6 columns]"
      ]
     },
     "execution_count": 348,
     "metadata": {},
     "output_type": "execute_result"
    }
   ],
   "source": [
    "df.test=pd.read_excel('Final_Test.xlsx')\n",
    "df.test"
   ]
  },
  {
   "cell_type": "code",
   "execution_count": 349,
   "metadata": {},
   "outputs": [
    {
     "data": {
      "text/plain": [
       "Qualification         object\n",
       "Experience            object\n",
       "Rating                object\n",
       "Place                 object\n",
       "Profile               object\n",
       "Miscellaneous_Info    object\n",
       "dtype: object"
      ]
     },
     "execution_count": 349,
     "metadata": {},
     "output_type": "execute_result"
    }
   ],
   "source": [
    "df.test.dtypes"
   ]
  },
  {
   "cell_type": "markdown",
   "metadata": {},
   "source": [
    "All the variables all in string form."
   ]
  },
  {
   "cell_type": "code",
   "execution_count": 350,
   "metadata": {},
   "outputs": [
    {
     "data": {
      "text/plain": [
       "Qualification            0\n",
       "Experience               0\n",
       "Rating                1090\n",
       "Place                    6\n",
       "Profile                  0\n",
       "Miscellaneous_Info     834\n",
       "dtype: int64"
      ]
     },
     "execution_count": 350,
     "metadata": {},
     "output_type": "execute_result"
    }
   ],
   "source": [
    "df.test.isnull().sum()"
   ]
  },
  {
   "cell_type": "code",
   "execution_count": 351,
   "metadata": {},
   "outputs": [
    {
     "data": {
      "image/png": "[encoded data removed]",
      "text/plain": [
       "<Figure size 432x288 with 2 Axes>"
      ]
     },
     "metadata": {
      "needs_background": "light"
     },
     "output_type": "display_data"
    }
   ],
   "source": [
    "import seaborn as sns\n",
    "import matplotlib.pyplot as plt\n",
    "sns.heatmap(df.test.isnull())\n",
    "plt.title('Null Values')\n",
    "plt.show()"
   ]
  },
  {
   "cell_type": "markdown",
   "metadata": {},
   "source": [
    "As observed there are null valus present in 'Rating' and 'Miscellaneous_Info'."
   ]
  },
  {
   "cell_type": "code",
   "execution_count": 352,
   "metadata": {},
   "outputs": [],
   "source": [
    "df.test=df.test.fillna(method='ffill')"
   ]
  },
  {
   "cell_type": "code",
   "execution_count": 353,
   "metadata": {},
   "outputs": [
    {
     "data": {
      "text/plain": [
       "Qualification         0\n",
       "Experience            0\n",
       "Rating                2\n",
       "Place                 0\n",
       "Profile               0\n",
       "Miscellaneous_Info    2\n",
       "dtype: int64"
      ]
     },
     "execution_count": 353,
     "metadata": {},
     "output_type": "execute_result"
    }
   ],
   "source": [
    "df.test.isnull().sum()"
   ]
  },
  {
   "cell_type": "markdown",
   "metadata": {},
   "source": [
    "There are still few null values left."
   ]
  },
  {
   "cell_type": "code",
   "execution_count": 354,
   "metadata": {},
   "outputs": [],
   "source": [
    "df.test=df.test.dropna()"
   ]
  },
  {
   "cell_type": "code",
   "execution_count": 355,
   "metadata": {},
   "outputs": [
    {
     "data": {
      "text/plain": [
       "Qualification         0\n",
       "Experience            0\n",
       "Rating                0\n",
       "Place                 0\n",
       "Profile               0\n",
       "Miscellaneous_Info    0\n",
       "dtype: int64"
      ]
     },
     "execution_count": 355,
     "metadata": {},
     "output_type": "execute_result"
    }
   ],
   "source": [
    "df.test.isnull().sum()"
   ]
  },
  {
   "cell_type": "markdown",
   "metadata": {},
   "source": [
    "# Encoding The Data"
   ]
  },
  {
   "cell_type": "code",
   "execution_count": 357,
   "metadata": {},
   "outputs": [],
   "source": [
    "from sklearn.preprocessing import LabelEncoder\n",
    "le=LabelEncoder()\n",
    "\n",
    "for i in df.test.columns:\n",
    "    if df.test[i].dtypes==\"object\":\n",
    "        df.test[i]=le.fit_transform(df.test[i].values.reshape(-1,1))"
   ]
  },
  {
   "cell_type": "markdown",
   "metadata": {},
   "source": [
    "# Checking for outliers"
   ]
  },
  {
   "cell_type": "code",
   "execution_count": 358,
   "metadata": {},
   "outputs": [
    {
     "data": {
      "image/png": "[encoded data removed]",
      "text/plain": [
       "<Figure size 1440x576 with 1 Axes>"
      ]
     },
     "metadata": {
      "needs_background": "light"
     },
     "output_type": "display_data"
    }
   ],
   "source": [
    "df.test.boxplot(figsize=[20,8])\n",
    "plt.subplots_adjust(bottom=.25)\n",
    "plt.show()"
   ]
  },
  {
   "cell_type": "markdown",
   "metadata": {},
   "source": [
    "No outliers are present in the data."
   ]
  },
  {
   "cell_type": "code",
   "execution_count": null,
   "metadata": {},
   "outputs": [],
   "source": []
  },
  {
   "cell_type": "markdown",
   "metadata": {},
   "source": [
    "# Loading Train Model"
   ]
  },
  {
   "cell_type": "code",
   "execution_count": 359,
   "metadata": {},
   "outputs": [],
   "source": [
    "fitted_model=pickle.load(open('DCF_train_project.pkl','rb'))"
   ]
  },
  {
   "cell_type": "code",
   "execution_count": 360,
   "metadata": {},
   "outputs": [
    {
     "data": {
      "text/plain": [
       "RandomForestRegressor()"
      ]
     },
     "execution_count": 360,
     "metadata": {},
     "output_type": "execute_result"
    }
   ],
   "source": [
    "fitted_model"
   ]
  },
  {
   "cell_type": "code",
   "execution_count": 361,
   "metadata": {},
   "outputs": [],
   "source": [
    "predictions=fitted_model.predict(df.test)"
   ]
  },
  {
   "cell_type": "code",
   "execution_count": 362,
   "metadata": {},
   "outputs": [
    {
     "data": {
      "text/plain": [
       "array([480.5, 381.7, 493.5, ..., 480.5, 478. , 480.5])"
      ]
     },
     "execution_count": 362,
     "metadata": {},
     "output_type": "execute_result"
    }
   ],
   "source": [
    "predictions"
   ]
  },
  {
   "cell_type": "markdown",
   "metadata": {},
   "source": [
    "Predicted Doctor's consultation fess for the test data."
   ]
  },
  {
   "cell_type": "code",
   "execution_count": null,
   "metadata": {},
   "outputs": [],
   "source": []
  }
 ],
 "metadata": {
  "kernelspec": {
   "display_name": "Python 3",
   "language": "python",
   "name": "python3"
  },
  "language_info": {
   "codemirror_mode": {
    "name": "ipython",
    "version": 3
   },
   "file_extension": ".py",
   "mimetype": "text/x-python",
   "name": "python",
   "nbconvert_exporter": "python",
   "pygments_lexer": "ipython3",
   "version": "3.8.3"
  }
 },
 "nbformat": 4,
 "nbformat_minor": 4
}
